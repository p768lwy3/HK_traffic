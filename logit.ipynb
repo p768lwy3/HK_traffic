{
 "cells": [
  {
   "cell_type": "code",
   "execution_count": 1,
   "metadata": {},
   "outputs": [
    {
     "name": "stderr",
     "output_type": "stream",
     "text": [
      "/usr/local/lib/python3.5/dist-packages/statsmodels/compat/pandas.py:56: FutureWarning: The pandas.core.datetools module is deprecated and will be removed in a future version. Please use the pandas.tseries module instead.\n",
      "  from pandas.core import datetools\n"
     ]
    }
   ],
   "source": [
    "import numpy as np\n",
    "import pandas as pd\n",
    "from sklearn.metrics import accuracy_score\n",
    "from sklearn.metrics import confusion_matrix\n",
    "import statsmodels.api as sm\n",
    "import warnings\n",
    "warnings.filterwarnings(\"ignore\")"
   ]
  },
  {
   "cell_type": "code",
   "execution_count": 2,
   "metadata": {},
   "outputs": [
    {
     "name": "stdout",
     "output_type": "stream",
     "text": [
      "The Year 2012 is read.\n",
      "The Year 2013 is read.\n",
      "The Year 2014 is read.\n",
      "The Year 2015 is read.\n",
      "The Year 2016 is read.\n"
     ]
    }
   ],
   "source": [
    "acc_cas = {}\n",
    "for i in range(2012, 2017):\n",
    "    idx = str(i)\n",
    "    acc = pd.read_excel('./input/{0}/Acc_cas {0}.xls'.format(idx))\n",
    "    acc = acc[['ACC_TIME', 'WEEK_DAY', 'RAIN', 'SPEED_LMT', 'TRAFF_CONG', 'JCN_CTRL',\n",
    "               'RD_TYPE', 'CAS_AGE', 'CAS_SEX', 'INJURY', 'ROLE', 'SB_WORN', 'SEAT', \n",
    "               'PED_LOCATN']]\n",
    "\n",
    "    acc['YEAR'] = idx\n",
    "    acc_cas[idx] = acc\n",
    "    print('The Year %s is read.' % idx)"
   ]
  },
  {
   "cell_type": "code",
   "execution_count": 3,
   "metadata": {},
   "outputs": [],
   "source": [
    "acc = acc_cas['2012'].copy()\n",
    "for i in range(2013, 2017):\n",
    "    acc = acc.append(acc_cas[str(i)].copy())"
   ]
  },
  {
   "cell_type": "code",
   "execution_count": 4,
   "metadata": {},
   "outputs": [
    {
     "name": "stdout",
     "output_type": "stream",
     "text": [
      "Time: Count(Proportion)\n",
      "7:00 - 9:59 a.m.: 15596(15.4%)\n",
      "10:00 a.m. - 3:59 p.m.: 33959(33.6%)\n",
      "4:00 - 6:59 p.m.: 20287(20.1%)\n",
      "7:00 p.m. - 6:59 a.m.: 31331(31.0%)\n"
     ]
    }
   ],
   "source": [
    "def str_append(x):\n",
    "    if isinstance(x, str):\n",
    "        counter = ['0' for i in range(4 - len(x))]\n",
    "        counter = ''.join(counter)\n",
    "        x = counter + x\n",
    "        return x\n",
    "    else:\n",
    "        raise TypeError('The function only support string-type input.')\n",
    "\n",
    "\n",
    "acc['ACC_TIME'] = acc['ACC_TIME'].map(\n",
    "    lambda x: str_append(str(x)))\n",
    "acc['HOUR'] = pd.to_datetime(\n",
    "    acc['ACC_TIME'], format='%H%M').dt.hour\n",
    "t0 = acc['HOUR'][acc['HOUR'].isin(\n",
    "    [7, 8, 9])].count()  # 700am-959am\n",
    "t1 = acc['HOUR'][acc['HOUR'].isin(\n",
    "    [10, 11, 12, 13, 14, 15])].count()  # 1000am-0359pm\n",
    "t2 = acc['HOUR'][acc['HOUR'].isin(\n",
    "    [16, 17, 18])].count()  # 0400pm-0659pm\n",
    "t3 = acc['HOUR'][acc['HOUR'].isin(\n",
    "    [19, 20, 21, 22, 23, 0, 1, 2, 3, 4, 5, 6])].count()  # 0700pm-0659am\n",
    "print('Time: Count(Proportion)')\n",
    "print('7:00 - 9:59 a.m.: %d(%.1f%%)' %\n",
    "      (t0, t0/acc['HOUR'].count()*100))\n",
    "print('10:00 a.m. - 3:59 p.m.: %d(%.1f%%)' %\n",
    "      (t1, t1/acc['HOUR'].count()*100))\n",
    "print('4:00 - 6:59 p.m.: %d(%.1f%%)' %\n",
    "      (t2, t2/acc['HOUR'].count()*100))\n",
    "print('7:00 p.m. - 6:59 a.m.: %d(%.1f%%)' %\n",
    "      (t3, t3/acc['HOUR'].count()*100))"
   ]
  },
  {
   "cell_type": "code",
   "execution_count": 5,
   "metadata": {},
   "outputs": [
    {
     "name": "stdout",
     "output_type": "stream",
     "text": [
      "Day of week: Count(Proportion)\n",
      "Monday - Friday: 70624(69.8%)\n",
      "Weekend: 30549(30.2%)\n"
     ]
    }
   ],
   "source": [
    "weekday_row = acc['WEEK_DAY'].isin([1, 2, 3, 4, 5])\n",
    "weekday = acc['WEEK_DAY'][weekday_row].count()\n",
    "weekend = acc['WEEK_DAY'][~weekday_row].count()\n",
    "print('Day of week: Count(Proportion)')\n",
    "print('Monday - Friday: %d(%.1f%%)' %\n",
    "      (weekday, weekday/acc['WEEK_DAY'].count()*100))\n",
    "print('Weekend: %d(%.1f%%)' %\n",
    "      (weekend, weekend/acc['WEEK_DAY'].count()*100))"
   ]
  },
  {
   "cell_type": "code",
   "execution_count": 6,
   "metadata": {},
   "outputs": [
    {
     "name": "stdout",
     "output_type": "stream",
     "text": [
      "Rain: Count(Proportion)\n",
      "No Rain: 86443(85.4%)\n",
      "Light Rain: 12315(12.2%)\n",
      "Heavy Rain: 2158(2.1%)\n",
      "Unknown: 257(0.3%)\n"
     ]
    }
   ],
   "source": [
    "r0 = acc['RAIN'][acc['RAIN'] == 1].count()\n",
    "r1 = acc['RAIN'][acc['RAIN'] == 2].count()\n",
    "r2 = acc['RAIN'][acc['RAIN'] == 3].count()\n",
    "r3 = acc['RAIN'][acc['RAIN'].isin([9, 0])].count()\n",
    "\n",
    "print('Rain: Count(Proportion)')\n",
    "print('No Rain: %d(%.1f%%)' % (r0, r0/acc['RAIN'].count()*100))\n",
    "print('Light Rain: %d(%.1f%%)' % (r1, r1/acc['RAIN'].count()*100))\n",
    "print('Heavy Rain: %d(%.1f%%)' % (r2, r2/acc['RAIN'].count()*100))\n",
    "print('Unknown: %d(%.1f%%)' % (r3, r3/acc['RAIN'].count()*100))"
   ]
  },
  {
   "cell_type": "code",
   "execution_count": 7,
   "metadata": {},
   "outputs": [
    {
     "name": "stdout",
     "output_type": "stream",
     "text": [
      "Speed Limit: Count(Proportion)\n",
      "50km/h: 86065(85.1%)\n",
      "Under 50km/h: 2039(2.0%)\n",
      "Above 50km/h: 13069(12.9%)\n"
     ]
    }
   ],
   "source": [
    "s0 = acc['SPEED_LMT'][acc['SPEED_LMT'] == 50].count()\n",
    "s1 = acc['SPEED_LMT'][acc['SPEED_LMT'] < 50].count()\n",
    "s2 = acc['SPEED_LMT'][acc['SPEED_LMT'] > 50].count()\n",
    "\n",
    "print('Speed Limit: Count(Proportion)')\n",
    "print('50km/h: %d(%.1f%%)' % (s0, s0/acc['SPEED_LMT'].count()*100))\n",
    "print('Under 50km/h: %d(%.1f%%)' % (s1, s1/acc['SPEED_LMT'].count()*100))\n",
    "print('Above 50km/h: %d(%.1f%%)' % (s2, s2/acc['SPEED_LMT'].count()*100))"
   ]
  },
  {
   "cell_type": "code",
   "execution_count": 8,
   "metadata": {},
   "outputs": [
    {
     "name": "stdout",
     "output_type": "stream",
     "text": [
      "Traffic Congestion: Count(Proportion)\n",
      "None: 55863(55.2%)\n",
      "Severe Congestion: 15458(15.3%)\n",
      "Moderate Congestion: 28381(28.1%)\n",
      "Unknown: 1471(1.5%)\n"
     ]
    }
   ],
   "source": [
    "t0 = acc['TRAFF_CONG'][acc['TRAFF_CONG'] == 3].count()\n",
    "t1 = acc['TRAFF_CONG'][acc['TRAFF_CONG'] == 1].count()\n",
    "t2 = acc['TRAFF_CONG'][acc['TRAFF_CONG'] == 2].count()\n",
    "t3 = acc['TRAFF_CONG'][acc['TRAFF_CONG'].isin([9, 0])].count()\n",
    "\n",
    "print('Traffic Congestion: Count(Proportion)')\n",
    "print('None: %d(%.1f%%)' % (t0, t0/acc['TRAFF_CONG'].count()*100))\n",
    "print('Severe Congestion: %d(%.1f%%)' % (t1, t1/acc['TRAFF_CONG'].count()*100))\n",
    "print('Moderate Congestion: %d(%.1f%%)' % (t2, t2/acc['TRAFF_CONG'].count()*100))\n",
    "print('Unknown: %d(%.1f%%)' % (t3, t3/acc['TRAFF_CONG'].count()*100))"
   ]
  },
  {
   "cell_type": "code",
   "execution_count": 9,
   "metadata": {},
   "outputs": [
    {
     "name": "stdout",
     "output_type": "stream",
     "text": [
      "Traffic Congestion: Count(Proportion)\n",
      "Non Junction: 77440(76.5%)\n",
      "Traffic Signal: 13228(13.1%)\n",
      "Other Control Types: 4762(4.7%)\n",
      "No Control: 5711(5.6%)\n",
      "Unknown: 32(0.0%)\n"
     ]
    }
   ],
   "source": [
    "j0 = acc['JCN_CTRL'][acc['JCN_CTRL'] == 6].count()\n",
    "j1 = acc['JCN_CTRL'][acc['JCN_CTRL'] == 4].count()\n",
    "j2 = acc['JCN_CTRL'][acc['JCN_CTRL'].isin([2, 3, 5])].count()\n",
    "j3 = acc['JCN_CTRL'][acc['JCN_CTRL'] == 1].count()\n",
    "j4 = acc['JCN_CTRL'][acc['JCN_CTRL'] == 0].count()\n",
    "\n",
    "print('Traffic Congestion: Count(Proportion)')\n",
    "print('Non Junction: %d(%.1f%%)' % (j0, j0/acc['JCN_CTRL'].count()*100))\n",
    "print('Traffic Signal: %d(%.1f%%)' % (j1, j1/acc['JCN_CTRL'].count()*100))\n",
    "print('Other Control Types: %d(%.1f%%)' % (j2, j2/acc['JCN_CTRL'].count()*100))\n",
    "print('No Control: %d(%.1f%%)' % (j3, j3/acc['JCN_CTRL'].count()*100))\n",
    "print('Unknown: %d(%.1f%%)' % (j4, j4/acc['JCN_CTRL'].count()*100))"
   ]
  },
  {
   "cell_type": "code",
   "execution_count": 10,
   "metadata": {},
   "outputs": [
    {
     "name": "stdout",
     "output_type": "stream",
     "text": [
      "Traffic Congestion: Count(Proportion)\n",
      "Multi-/dual Carriageway: 24412(24.1%)\n",
      "One-way Carriageway: 41196(40.7%)\n",
      "Two-way Carriageway: 35558(35.1%)\n",
      "Unknown: 7(0.0%)\n"
     ]
    }
   ],
   "source": [
    "r0 = acc['RD_TYPE'][acc['RD_TYPE'].isin([3, 4])].count()\n",
    "r1 = acc['RD_TYPE'][acc['RD_TYPE'] == 1].count()\n",
    "r2 = acc['RD_TYPE'][acc['RD_TYPE'] == 2].count()\n",
    "r3 = acc['RD_TYPE'][acc['RD_TYPE'] == 0].count()\n",
    "\n",
    "print('Traffic Congestion: Count(Proportion)')\n",
    "print('Multi-/dual Carriageway: %d(%.1f%%)' % (r0, r0/acc['RD_TYPE'].count()*100))\n",
    "print('One-way Carriageway: %d(%.1f%%)' % (r1, r1/acc['RD_TYPE'].count()*100))\n",
    "print('Two-way Carriageway: %d(%.1f%%)' % (r2, r2/acc['RD_TYPE'].count()*100))\n",
    "print('Unknown: %d(%.1f%%)' % (r3, r3/acc['RD_TYPE'].count()*100))"
   ]
  },
  {
   "cell_type": "code",
   "execution_count": 11,
   "metadata": {},
   "outputs": [
    {
     "name": "stdout",
     "output_type": "stream",
     "text": [
      "Age: Count(Proportion)\n",
      "Under 15: 6674(6.6%)\n",
      "15 - 65: 84305(83.3%)\n",
      "Above 65: 9125(9.0%)\n",
      "Unknown: 1066(1.1%)\n"
     ]
    }
   ],
   "source": [
    "# split out the values of unknown\n",
    "unknown_row = acc['CAS_AGE'].isin([0, 99, 999])\n",
    "unknown = acc['CAS_AGE'][unknown_row]\n",
    "dta_age = acc['CAS_AGE'][~unknown_row]\n",
    "\n",
    "age_grouped = pd.cut(dta_age, [0, 15, 65, 120], labels=['<15', '15-65', '>65'])\n",
    "age0 = age_grouped.value_counts()['<15']\n",
    "age1 = age_grouped.value_counts()['15-65']\n",
    "age2 = age_grouped.value_counts()['>65']\n",
    "ageunknown = unknown.count()\n",
    "print('Age: Count(Proportion)')\n",
    "print('Under 15: %d(%.1f%%)' %\n",
    "      (age0, age0/acc['CAS_AGE'].count()*100))\n",
    "print('15 - 65: %d(%.1f%%)' %\n",
    "      (age1, age1/acc['CAS_AGE'].count()*100))\n",
    "print('Above 65: %d(%.1f%%)' %\n",
    "      (age2, age2/acc['CAS_AGE'].count()*100))\n",
    "print('Unknown: %d(%.1f%%)' %\n",
    "      (ageunknown, ageunknown/acc['CAS_AGE'].count()*100))"
   ]
  },
  {
   "cell_type": "code",
   "execution_count": 12,
   "metadata": {},
   "outputs": [
    {
     "name": "stdout",
     "output_type": "stream",
     "text": [
      "Sex: Count(Proportion)\n",
      "Male: 63618(62.9%)\n",
      "Famale: 37439(37.0%)\n",
      "Unknown: 116(0.1%)\n"
     ]
    }
   ],
   "source": [
    "sex0 = acc['CAS_SEX'].value_counts()[1]\n",
    "sex1 = acc['CAS_SEX'].value_counts()[2]\n",
    "sex2 = acc['CAS_SEX'].value_counts()[9]\n",
    "print('Sex: Count(Proportion)')\n",
    "print('Male: %d(%.1f%%)' %\n",
    "      (sex0, sex0/acc['CAS_SEX'].count()*100))\n",
    "print('Famale: %d(%.1f%%)' %\n",
    "      (sex1, sex1/acc['CAS_SEX'].count()*100))\n",
    "print('Unknown: %d(%.1f%%)' %\n",
    "      (sex2, sex2/acc['CAS_SEX'].count()*100))"
   ]
  },
  {
   "cell_type": "code",
   "execution_count": 13,
   "metadata": {},
   "outputs": [
    {
     "name": "stdout",
     "output_type": "stream",
     "text": [
      "Injury Severity: Count(Proportion)\n",
      "Killed or severe injury: 13565(13.4%)\n",
      "Slight Injury: 87608(86.6%)\n"
     ]
    }
   ],
   "source": [
    "injury0 = acc['INJURY'].value_counts()[1] + acc['INJURY'].value_counts()[2]\n",
    "injury1 = acc['INJURY'].value_counts()[3]\n",
    "print('Injury Severity: Count(Proportion)')\n",
    "print('Killed or severe injury: %d(%.1f%%)' %\n",
    "      (injury0, injury0/acc['INJURY'].count()*100))\n",
    "print('Slight Injury: %d(%.1f%%)' %\n",
    "      (injury1, injury1/acc['INJURY'].count()*100))"
   ]
  },
  {
   "cell_type": "code",
   "execution_count": 14,
   "metadata": {},
   "outputs": [
    {
     "name": "stdout",
     "output_type": "stream",
     "text": [
      "Seat belt or crash helmet worn: Count(Proportion)\n",
      "Yes: 63143(62.4%)\n",
      "No: 18650(18.4%)\n",
      "Unknown: 19380(19.2%)\n"
     ]
    }
   ],
   "source": [
    "sb0 = acc['SB_WORN'][acc['SB_WORN'] == 1].count()\n",
    "sb1 = acc['SB_WORN'][acc['SB_WORN'] == 2].count()\n",
    "sb2 = acc['SB_WORN'][acc['SB_WORN'].isin([9, 0])].count()\n",
    "\n",
    "print('Seat belt or crash helmet worn: Count(Proportion)')\n",
    "print('Yes: %d(%.1f%%)' % (sb0, sb0/acc['SB_WORN'].count()*100))\n",
    "print('No: %d(%.1f%%)' % (sb1, sb1/acc['SB_WORN'].count()*100))\n",
    "print('Unknown: %d(%.1f%%)' % (sb2, sb2/acc['SB_WORN'].count()*100))"
   ]
  },
  {
   "cell_type": "code",
   "execution_count": 15,
   "metadata": {},
   "outputs": [],
   "source": [
    "# Split into three group to check these variables proportion\n",
    "accd = acc[acc['ROLE'] == 1]\n",
    "accp = acc[acc['ROLE'] == 2]\n",
    "accpd = acc[acc['ROLE'] == 3]"
   ]
  },
  {
   "cell_type": "code",
   "execution_count": 16,
   "metadata": {},
   "outputs": [
    {
     "name": "stdout",
     "output_type": "stream",
     "text": [
      "Seat belt or crash helmet worn: Count(Proportion)\n",
      "Yes: 39749(80.9%)\n",
      "No: 8868(18.0%)\n",
      "Unknown: 544(1.1%)\n"
     ]
    }
   ],
   "source": [
    "sb0 = accd['SB_WORN'][accd['SB_WORN'] == 1].count()\n",
    "sb1 = accd['SB_WORN'][accd['SB_WORN'] == 2].count()\n",
    "sb2 = accd['SB_WORN'][accd['SB_WORN'].isin([9, 0])].count()\n",
    "\n",
    "print('Seat belt or crash helmet worn: Count(Proportion)')\n",
    "print('Yes: %d(%.1f%%)' % (sb0, sb0/accd['SB_WORN'].count()*100))\n",
    "print('No: %d(%.1f%%)' % (sb1, sb1/accd['SB_WORN'].count()*100))\n",
    "print('Unknown: %d(%.1f%%)' % (sb2, sb2/accd['SB_WORN'].count()*100))"
   ]
  },
  {
   "cell_type": "code",
   "execution_count": 17,
   "metadata": {},
   "outputs": [
    {
     "name": "stdout",
     "output_type": "stream",
     "text": [
      "Seat belt or crash helmet worn: Count(Proportion)\n",
      "Yes: 23394(68.9%)\n",
      "No: 9782(28.8%)\n",
      "Unknown: 774(2.3%)\n"
     ]
    }
   ],
   "source": [
    "sb0 = accp['SB_WORN'][accp['SB_WORN'] == 1].count()\n",
    "sb1 = accp['SB_WORN'][accp['SB_WORN'] == 2].count()\n",
    "sb2 = accp['SB_WORN'][accp['SB_WORN'].isin([9, 0])].count()\n",
    "\n",
    "print('Seat belt or crash helmet worn: Count(Proportion)')\n",
    "print('Yes: %d(%.1f%%)' % (sb0, sb0/accp['SB_WORN'].count()*100))\n",
    "print('No: %d(%.1f%%)' % (sb1, sb1/accp['SB_WORN'].count()*100))\n",
    "print('Unknown: %d(%.1f%%)' % (sb2, sb2/accp['SB_WORN'].count()*100))"
   ]
  },
  {
   "cell_type": "code",
   "execution_count": 18,
   "metadata": {},
   "outputs": [
    {
     "name": "stdout",
     "output_type": "stream",
     "text": [
      "Seat belt or crash helmet worn: Count(Proportion)\n",
      "Yes: 0(0.0%)\n",
      "No: 0(0.0%)\n",
      "Unknown: 18062(100.0%)\n"
     ]
    }
   ],
   "source": [
    "sb0 = accpd['SB_WORN'][accpd['SB_WORN'] == 1].count()\n",
    "sb1 = accpd['SB_WORN'][accpd['SB_WORN'] == 2].count()\n",
    "sb2 = accpd['SB_WORN'][accpd['SB_WORN'].isin([9, 0])].count()\n",
    "\n",
    "print('Seat belt or crash helmet worn: Count(Proportion)')\n",
    "print('Yes: %d(%.1f%%)' % (sb0, sb0/accpd['SB_WORN'].count()*100))\n",
    "print('No: %d(%.1f%%)' % (sb1, sb1/accpd['SB_WORN'].count()*100))\n",
    "print('Unknown: %d(%.1f%%)' % (sb2, sb2/accpd['SB_WORN'].count()*100))"
   ]
  },
  {
   "cell_type": "code",
   "execution_count": 19,
   "metadata": {},
   "outputs": [
    {
     "name": "stdout",
     "output_type": "stream",
     "text": [
      "Seat Occupied: Count(Proportion)\n",
      "Driver/Rider: 49161(48.6%)\n",
      "Front Nearside: 6202(6.1%)\n",
      "Rear: 20230(20.0%)\n",
      "Standing: 6408(6.3%)\n",
      "Others: 0(0.0%)\n",
      "Unknown: 0(0.0%)\n"
     ]
    }
   ],
   "source": [
    "s0 = acc['SEAT'][acc['SEAT'] == 3].count()\n",
    "s1 = acc['SEAT'][acc['SEAT'] == 2].count()\n",
    "s2 = acc['SEAT'][acc['SEAT'] == 1].count()\n",
    "s3 = acc['SEAT'][acc['SEAT'].isin([4, 8])].count()\n",
    "s4 = accd['SEAT'][accd['SEAT'].isin([6, 7])].count()\n",
    "s5 = accd['SEAT'][accd['SEAT'].isin([0, 9])].count()\n",
    "\n",
    "print('Seat Occupied: Count(Proportion)')\n",
    "print('Driver/Rider: %d(%.1f%%)' % (s0, s0/acc['SEAT'].count()*100))\n",
    "print('Front Nearside: %d(%.1f%%)' % (s1, s1/acc['SEAT'].count()*100))\n",
    "print('Rear: %d(%.1f%%)' % (s2, s2/acc['SEAT'].count()*100))\n",
    "print('Standing: %d(%.1f%%)' % (s3, s3/acc['SEAT'].count()*100))\n",
    "print('Others: %d(%.1f%%)' % (s4, s4/acc['SEAT'].count()*100))\n",
    "print('Unknown: %d(%.1f%%)' % (s5, s5/acc['SEAT'].count()*100))"
   ]
  },
  {
   "cell_type": "code",
   "execution_count": 20,
   "metadata": {},
   "outputs": [
    {
     "name": "stdout",
     "output_type": "stream",
     "text": [
      "Seat Occupied: Count(Proportion)\n",
      "Driver/Rider: 49161(100.0%)\n",
      "Front Nearside: 0(0.0%)\n",
      "Rear: 0(0.0%)\n",
      "Standing: 0(0.0%)\n",
      "Others: 0(0.0%)\n",
      "Unknown: 0(0.0%)\n"
     ]
    }
   ],
   "source": [
    "s0 = accd['SEAT'][accd['SEAT'] == 3].count()\n",
    "s1 = accd['SEAT'][accd['SEAT'] == 2].count()\n",
    "s2 = accd['SEAT'][accd['SEAT'] == 1].count()\n",
    "s3 = accd['SEAT'][accd['SEAT'].isin([4, 8])].count()\n",
    "s4 = accd['SEAT'][accd['SEAT'].isin([6, 7])].count()\n",
    "s5 = accd['SEAT'][accd['SEAT'].isin([0, 9])].count()\n",
    "\n",
    "print('Seat Occupied: Count(Proportion)')\n",
    "print('Driver/Rider: %d(%.1f%%)' % (s0, s0/accd['SEAT'].count()*100))\n",
    "print('Front Nearside: %d(%.1f%%)' % (s1, s1/accd['SEAT'].count()*100))\n",
    "print('Rear: %d(%.1f%%)' % (s2, s2/accd['SEAT'].count()*100))\n",
    "print('Standing: %d(%.1f%%)' % (s3, s3/accd['SEAT'].count()*100))\n",
    "print('Others: %d(%.1f%%)' % (s4, s4/accd['SEAT'].count()*100))\n",
    "print('Unknown: %d(%.1f%%)' % (s5, s5/accd['SEAT'].count()*100))"
   ]
  },
  {
   "cell_type": "code",
   "execution_count": 21,
   "metadata": {},
   "outputs": [
    {
     "name": "stdout",
     "output_type": "stream",
     "text": [
      "Seat Occupied: Count(Proportion)\n",
      "Driver/Rider: 0(0.0%)\n",
      "Front Nearside: 6202(18.3%)\n",
      "Rear: 20230(59.6%)\n",
      "Standing: 6408(18.9%)\n",
      "Others: 20(0.1%)\n",
      "Unknown: 1090(3.2%)\n"
     ]
    }
   ],
   "source": [
    "s0 = accp['SEAT'][accp['SEAT'] == 3].count()\n",
    "s1 = accp['SEAT'][accp['SEAT'] == 2].count()\n",
    "s2 = accp['SEAT'][accp['SEAT'] == 1].count()\n",
    "s3 = accp['SEAT'][accp['SEAT'].isin([4, 8])].count()\n",
    "s4 = accp['SEAT'][accp['SEAT'].isin([6, 7])].count()\n",
    "s5 = accp['SEAT'][accp['SEAT'].isin([0, 9])].count()\n",
    "\n",
    "print('Seat Occupied: Count(Proportion)')\n",
    "print('Driver/Rider: %d(%.1f%%)' % (s0, s0/accp['SEAT'].count()*100))\n",
    "print('Front Nearside: %d(%.1f%%)' % (s1, s1/accp['SEAT'].count()*100))\n",
    "print('Rear: %d(%.1f%%)' % (s2, s2/accp['SEAT'].count()*100))\n",
    "print('Standing: %d(%.1f%%)' % (s3, s3/accp['SEAT'].count()*100))\n",
    "print('Others: %d(%.1f%%)' % (s4, s4/accp['SEAT'].count()*100))\n",
    "print('Unknown: %d(%.1f%%)' % (s5, s5/accp['SEAT'].count()*100))"
   ]
  },
  {
   "cell_type": "code",
   "execution_count": 22,
   "metadata": {},
   "outputs": [
    {
     "name": "stdout",
     "output_type": "stream",
     "text": [
      "Seat Occupied: Count(Proportion)\n",
      "Driver/Rider: 0(0.0%)\n",
      "Front Nearside: 0(0.0%)\n",
      "Rear: 0(0.0%)\n",
      "Standing: 0(0.0%)\n",
      "Others: 0(0.0%)\n",
      "Unknown: 18062(100.0%)\n"
     ]
    }
   ],
   "source": [
    "s0 = accpd['SEAT'][accpd['SEAT'] == 3].count()\n",
    "s1 = accpd['SEAT'][accpd['SEAT'] == 2].count()\n",
    "s2 = accpd['SEAT'][accpd['SEAT'] == 1].count()\n",
    "s3 = accpd['SEAT'][accpd['SEAT'].isin([4, 8])].count()\n",
    "s4 = accpd['SEAT'][accpd['SEAT'].isin([6, 7])].count()\n",
    "s5 = accpd['SEAT'][accpd['SEAT'].isin([0, 9])].count()\n",
    "\n",
    "print('Seat Occupied: Count(Proportion)')\n",
    "print('Driver/Rider: %d(%.1f%%)' % (s0, s0/accpd['SEAT'].count()*100))\n",
    "print('Front Nearside: %d(%.1f%%)' % (s1, s1/accpd['SEAT'].count()*100))\n",
    "print('Rear: %d(%.1f%%)' % (s2, s2/accpd['SEAT'].count()*100))\n",
    "print('Standing: %d(%.1f%%)' % (s3, s3/accpd['SEAT'].count()*100))\n",
    "print('Others: %d(%.1f%%)' % (s4, s4/accpd['SEAT'].count()*100))\n",
    "print('Unknown: %d(%.1f%%)' % (s5, s5/accpd['SEAT'].count()*100))"
   ]
  },
  {
   "cell_type": "code",
   "execution_count": 23,
   "metadata": {},
   "outputs": [
    {
     "name": "stdout",
     "output_type": "stream",
     "text": [
      "Pedestrian Location: Count(Proportion)\n",
      "On controlled crossing: 2591(2.6%)\n",
      "Within 15M of controlled crossing: 1059(1.0%)\n",
      "Others: 14134(14.0%)\n",
      "Unknown: 83389(82%)\n"
     ]
    }
   ],
   "source": [
    "p0 = acc['PED_LOCATN'][acc['PED_LOCATN'] == 3].count()\n",
    "p1 = acc['PED_LOCATN'][acc['PED_LOCATN'] == 4].count()\n",
    "p2 = acc['PED_LOCATN'][acc['PED_LOCATN'].isin([1, 2, 5, 8])].count()\n",
    "p3 = acc['PED_LOCATN'][acc['PED_LOCATN'].isin([0, 9])].count()\n",
    "\n",
    "print('Pedestrian Location: Count(Proportion)')\n",
    "print('On controlled crossing: %d(%.1f%%)' % (p0, p0/acc['PED_LOCATN'].count()*100))\n",
    "print('Within 15M of controlled crossing: %d(%.1f%%)' % (p1, p1/acc['PED_LOCATN'].count()*100))\n",
    "print('Others: %d(%.1f%%)' % (p2, p2/acc['PED_LOCATN'].count()*100))\n",
    "print('Unknown: %d(%1.f%%)' % (p3, p3/acc['PED_LOCATN'].count()*100))"
   ]
  },
  {
   "cell_type": "code",
   "execution_count": 24,
   "metadata": {},
   "outputs": [
    {
     "name": "stdout",
     "output_type": "stream",
     "text": [
      "Pedestrian Location: Count(Proportion)\n",
      "On controlled crossing: 2591(14.3%)\n",
      "Within 15M of controlled crossing: 1059(5.9%)\n",
      "Others: 14134(78.3%)\n",
      "Unkown: 278(2%)\n"
     ]
    }
   ],
   "source": [
    "pp0 = accpd['PED_LOCATN'][accpd['PED_LOCATN'] == 3].count()\n",
    "pp1 = accpd['PED_LOCATN'][accpd['PED_LOCATN'] == 4].count()\n",
    "pp2 = accpd['PED_LOCATN'][accpd['PED_LOCATN'].isin([1, 2, 5, 8])].count()\n",
    "pp3 = accpd['PED_LOCATN'][accpd['PED_LOCATN'].isin([0, 9])].count()\n",
    "\n",
    "print('Pedestrian Location: Count(Proportion)')\n",
    "print('On controlled crossing: %d(%.1f%%)' % (pp0, pp0/accpd['PED_LOCATN'].count()*100))\n",
    "print('Within 15M of controlled crossing: %d(%.1f%%)' % (pp1, pp1/accpd['PED_LOCATN'].count()*100))\n",
    "print('Others: %d(%.1f%%)' % (pp2, pp2/accpd['PED_LOCATN'].count()*100))\n",
    "print('Unkown: %d(%1.f%%)' % (pp3, pp3/accpd['PED_LOCATN'].count()*100))"
   ]
  },
  {
   "cell_type": "code",
   "execution_count": 25,
   "metadata": {},
   "outputs": [
    {
     "name": "stdout",
     "output_type": "stream",
     "text": [
      "2013    20596\n",
      "2015    20381\n",
      "2012    20210\n",
      "2016    20132\n",
      "2014    19854\n",
      "Name: YEAR, dtype: int64\n",
      "2013    0.203572\n",
      "2015    0.201447\n",
      "2012    0.199757\n",
      "2016    0.198986\n",
      "2014    0.196238\n",
      "Name: YEAR, dtype: float64\n"
     ]
    }
   ],
   "source": [
    "print(acc['YEAR'].value_counts())\n",
    "print(acc['YEAR'].value_counts(normalize=True))"
   ]
  },
  {
   "cell_type": "code",
   "execution_count": 26,
   "metadata": {},
   "outputs": [],
   "source": [
    "# ACC_TIME\n",
    "acc['ACC_TIME'] = acc['ACC_TIME'].map(\n",
    "    lambda x: str_append(str(x)))\n",
    "acc['HOUR'] = pd.to_datetime(acc['ACC_TIME'], format='%H%M').dt.hour\n",
    "# Split into four group,\n",
    "acc['HOUR'][acc['HOUR'].isin([7, 8, 9])] = '7:00 - 9:59 a.m.'\n",
    "acc['HOUR'][acc['HOUR'].isin(\n",
    "    [10, 11, 12, 13, 14, 15])] = '10:00 a.m. - 3:59 p.m.'\n",
    "acc['HOUR'][acc['HOUR'].isin([16, 17, 18])] = '4:00 - 6:59 p.m.'\n",
    "acc['HOUR'][acc['HOUR'].isin(\n",
    "    [19, 20, 21, 22, 23, 0, 1, 2, 3, 4, 5, 6])] = '7:00 p.m. - 6:59 a.m.'\n",
    "# Convert to dummy variables\n",
    "acc['HOUR'][acc['HOUR'] == '7:00 p.m. - 6:59 a.m.'] = 0\n",
    "acc['HOUR'][acc['HOUR'] == '7:00 - 9:59 a.m.'] = 1\n",
    "acc['HOUR'][acc['HOUR'] == '10:00 a.m. - 3:59 p.m.'] = 2\n",
    "acc['HOUR'][acc['HOUR'] == '4:00 - 6:59 p.m.'] = 3\n",
    "# Merge into acc\n",
    "dummy = pd.get_dummies(acc['HOUR'], drop_first=True).rename(columns={1: '7:00 - 9:59 a.m.',\n",
    "                                                                     2: '10:00 a.m. - 3:59 p.m.',\n",
    "                                                                     3: '4:00 - 6:59 p.m.'})\n",
    "acc = pd.concat([acc, dummy], axis=1).drop(['HOUR', 'ACC_TIME'], axis=1)"
   ]
  },
  {
   "cell_type": "code",
   "execution_count": 27,
   "metadata": {},
   "outputs": [],
   "source": [
    "# Similarly, group and dummy WEEK_DAY,\n",
    "# Split into two group, weekday and weekend, and Convert to dummy variables\n",
    "acc['WEEK_DAY'][acc['WEEK_DAY'].isin([1, 2, 3, 4, 5])] = 1\n",
    "acc['WEEK_DAY'][acc['WEEK_DAY'].isin([6, 7])] = 0\n",
    "# Merge into acc\n",
    "dummy = pd.get_dummies(acc['WEEK_DAY'], drop_first=True).rename(columns={1: 'Monday - Friday'})\n",
    "acc = pd.concat([acc, dummy], axis=1).drop('WEEK_DAY', axis=1)"
   ]
  },
  {
   "cell_type": "code",
   "execution_count": 28,
   "metadata": {},
   "outputs": [],
   "source": [
    "# Similarly, group and dummy RAIN\n",
    "# Remove Unknown rows,\n",
    "acc = acc[~acc['RAIN'].isin([9, 0])]\n",
    "# Convert to dummy variables\n",
    "acc['RAIN'][acc['RAIN'] == 1] = 0\n",
    "acc['RAIN'][acc['RAIN'] == 2] = 1\n",
    "acc['RAIN'][acc['RAIN'] == 3] = 2\n",
    "# Merge into acc\n",
    "dummy = pd.get_dummies(acc['RAIN'], drop_first=True).rename(columns={1: 'Light rain',\n",
    "                                                                     2: 'Heavy rain'})\n",
    "acc = pd.concat([acc, dummy], axis=1).drop('RAIN', axis=1)"
   ]
  },
  {
   "cell_type": "code",
   "execution_count": 29,
   "metadata": {},
   "outputs": [],
   "source": [
    "# Similarly, group and dummy SPEED_LMT\n",
    "# Convert to dummy variables\n",
    "acc['SPEED_LMT'][acc['SPEED_LMT'] < 50] = 1\n",
    "acc['SPEED_LMT'][acc['SPEED_LMT'] > 50] = 0\n",
    "acc['SPEED_LMT'][acc['SPEED_LMT'] == 50] = 2\n",
    "# Merge into acc\n",
    "dummy = pd.get_dummies(acc['SPEED_LMT'], drop_first=True).rename(columns={1: 'Below 50 km/h',\n",
    "                                                                          2: '50 km/h'})\n",
    "acc = pd.concat([acc, dummy], axis=1).drop('SPEED_LMT', axis=1)"
   ]
  },
  {
   "cell_type": "code",
   "execution_count": 30,
   "metadata": {},
   "outputs": [],
   "source": [
    "# Similarly, group and dummy TRAFF_CONG\n",
    "# Remove Unknown rows,\n",
    "acc = acc[~acc['TRAFF_CONG'].isin([9, 0])]\n",
    "# Convert to dummy variables\n",
    "acc['TRAFF_CONG'][acc['TRAFF_CONG'] == 3] = 0\n",
    "# Merge into acc\n",
    "dummy = pd.get_dummies(acc['TRAFF_CONG'], drop_first=True).rename(columns={1: 'Severe Congestion',\n",
    "                                                                           2: 'Moderate Congestion'})\n",
    "acc = pd.concat([acc, dummy], axis=1).drop('TRAFF_CONG', axis=1)"
   ]
  },
  {
   "cell_type": "code",
   "execution_count": 31,
   "metadata": {},
   "outputs": [],
   "source": [
    "# Similarly, group and dummy JCN_CTRL\n",
    "# Remove Unknown rows,\n",
    "acc = acc[~acc['JCN_CTRL'].isin([9, 0])]\n",
    "# Convert to dummy variables\n",
    "acc['JCN_CTRL'][acc['JCN_CTRL'].isin([2, 3, 5])] = 2\n",
    "acc['JCN_CTRL'][acc['JCN_CTRL'] == 1] = 3\n",
    "acc['JCN_CTRL'][acc['JCN_CTRL'] == 4] = 1\n",
    "acc['JCN_CTRL'][acc['JCN_CTRL'] == 6] = 0\n",
    "\n",
    "# Merge into acc\n",
    "dummy = pd.get_dummies(acc['JCN_CTRL'], drop_first=True).rename(columns={1: 'Traffic Signal',\n",
    "                                                                         2: 'Other Control Types',\n",
    "                                                                         3: 'No Control'})\n",
    "acc = pd.concat([acc, dummy], axis=1).drop('JCN_CTRL', axis=1)"
   ]
  },
  {
   "cell_type": "code",
   "execution_count": 32,
   "metadata": {},
   "outputs": [],
   "source": [
    "# Similarly, group and dummy RD_TYPE\n",
    "# Remove Unknown rows\n",
    "acc = acc[~acc['RD_TYPE'].isin([9, 0])]\n",
    "# Convert to dummy variables\n",
    "acc['RD_TYPE'][acc['RD_TYPE'].isin([3, 4])] = 0\n",
    "# Merge into acc\n",
    "dummy = pd.get_dummies(acc['RD_TYPE'], drop_first=True).rename(columns={1: 'One-way Carriageway',\n",
    "                                                                        2: 'Two-way Carriageway'})\n",
    "acc = pd.concat([acc, dummy], axis=1).drop('RD_TYPE', axis=1)"
   ]
  },
  {
   "cell_type": "code",
   "execution_count": 33,
   "metadata": {},
   "outputs": [],
   "source": [
    "# Similarly, group and dummy CAS_AGE\n",
    "# Remove Unknown rows\n",
    "acc = acc[~acc['CAS_AGE'].isin([0, 99, 999])]\n",
    "# Convert to dummy variables\n",
    "acc['CAS_AGE'] = pd.cut(acc['CAS_AGE'], [0, 15, 66, 120], labels=[0, 1, 2])\n",
    "# Merge into acc\n",
    "dummy = pd.get_dummies(acc['CAS_AGE']).rename(columns={0: 'Under 15',\n",
    "                                                       1: '15 - 65',\n",
    "                                                       2: 'Above 65'})\n",
    "acc = pd.concat([acc, dummy], axis=1).drop(['CAS_AGE', '15 - 65'], axis=1)"
   ]
  },
  {
   "cell_type": "code",
   "execution_count": 34,
   "metadata": {},
   "outputs": [],
   "source": [
    "# Similarly, group and dummy CAS_SEX\n",
    "# Remove Unknown rows\n",
    "acc = acc[~acc['CAS_SEX'].isin([0, 9])]\n",
    "# Convert to dummy variables\n",
    "acc['CAS_SEX'][acc['CAS_SEX'] == 2] = 0\n",
    "# Merge into acc\n",
    "dummy = pd.get_dummies(acc['CAS_SEX'], drop_first=True).rename(columns={1: 'Male'})\n",
    "acc = pd.concat([acc, dummy], axis=1).drop('CAS_SEX', axis=1)"
   ]
  },
  {
   "cell_type": "code",
   "execution_count": 35,
   "metadata": {},
   "outputs": [],
   "source": [
    "# Similarly, group and dummy Year\n",
    "dummy = pd.get_dummies(acc['YEAR'], prefix='YEAR').drop('YEAR_2016', axis=1)\n",
    "acc = pd.concat([acc, dummy], axis=1).drop(['YEAR'], axis=1)"
   ]
  },
  {
   "cell_type": "code",
   "execution_count": 36,
   "metadata": {},
   "outputs": [],
   "source": [
    "# Group INJURY for binary classification\n",
    "acc['INJURY'][acc['INJURY'].isin([1, 2])] = 1\n",
    "acc['INJURY'][acc['INJURY'] == 3] = 0\n",
    "# which means the model would find the prob of seriously injury with the given conditions."
   ]
  },
  {
   "cell_type": "code",
   "execution_count": 37,
   "metadata": {},
   "outputs": [
    {
     "data": {
      "text/html": [
       "<div>\n",
       "<style scoped>\n",
       "    .dataframe tbody tr th:only-of-type {\n",
       "        vertical-align: middle;\n",
       "    }\n",
       "\n",
       "    .dataframe tbody tr th {\n",
       "        vertical-align: top;\n",
       "    }\n",
       "\n",
       "    .dataframe thead th {\n",
       "        text-align: right;\n",
       "    }\n",
       "</style>\n",
       "<table border=\"1\" class=\"dataframe\">\n",
       "  <thead>\n",
       "    <tr style=\"text-align: right;\">\n",
       "      <th></th>\n",
       "      <th>INJURY</th>\n",
       "      <th>ROLE</th>\n",
       "      <th>SB_WORN</th>\n",
       "      <th>SEAT</th>\n",
       "      <th>PED_LOCATN</th>\n",
       "      <th>7:00 - 9:59 a.m.</th>\n",
       "      <th>10:00 a.m. - 3:59 p.m.</th>\n",
       "      <th>4:00 - 6:59 p.m.</th>\n",
       "      <th>Monday - Friday</th>\n",
       "      <th>Light rain</th>\n",
       "      <th>...</th>\n",
       "      <th>No Control</th>\n",
       "      <th>One-way Carriageway</th>\n",
       "      <th>Two-way Carriageway</th>\n",
       "      <th>Under 15</th>\n",
       "      <th>Above 65</th>\n",
       "      <th>Male</th>\n",
       "      <th>YEAR_2012</th>\n",
       "      <th>YEAR_2013</th>\n",
       "      <th>YEAR_2014</th>\n",
       "      <th>YEAR_2015</th>\n",
       "    </tr>\n",
       "  </thead>\n",
       "  <tbody>\n",
       "    <tr>\n",
       "      <th>0</th>\n",
       "      <td>0</td>\n",
       "      <td>3</td>\n",
       "      <td>0</td>\n",
       "      <td>0</td>\n",
       "      <td>2</td>\n",
       "      <td>0</td>\n",
       "      <td>0</td>\n",
       "      <td>0</td>\n",
       "      <td>0</td>\n",
       "      <td>0</td>\n",
       "      <td>...</td>\n",
       "      <td>0</td>\n",
       "      <td>0</td>\n",
       "      <td>1</td>\n",
       "      <td>0</td>\n",
       "      <td>0</td>\n",
       "      <td>1</td>\n",
       "      <td>1</td>\n",
       "      <td>0</td>\n",
       "      <td>0</td>\n",
       "      <td>0</td>\n",
       "    </tr>\n",
       "    <tr>\n",
       "      <th>1</th>\n",
       "      <td>0</td>\n",
       "      <td>2</td>\n",
       "      <td>1</td>\n",
       "      <td>2</td>\n",
       "      <td>0</td>\n",
       "      <td>0</td>\n",
       "      <td>0</td>\n",
       "      <td>0</td>\n",
       "      <td>0</td>\n",
       "      <td>0</td>\n",
       "      <td>...</td>\n",
       "      <td>1</td>\n",
       "      <td>1</td>\n",
       "      <td>0</td>\n",
       "      <td>0</td>\n",
       "      <td>0</td>\n",
       "      <td>1</td>\n",
       "      <td>1</td>\n",
       "      <td>0</td>\n",
       "      <td>0</td>\n",
       "      <td>0</td>\n",
       "    </tr>\n",
       "    <tr>\n",
       "      <th>2</th>\n",
       "      <td>0</td>\n",
       "      <td>1</td>\n",
       "      <td>1</td>\n",
       "      <td>3</td>\n",
       "      <td>0</td>\n",
       "      <td>0</td>\n",
       "      <td>0</td>\n",
       "      <td>0</td>\n",
       "      <td>0</td>\n",
       "      <td>0</td>\n",
       "      <td>...</td>\n",
       "      <td>0</td>\n",
       "      <td>1</td>\n",
       "      <td>0</td>\n",
       "      <td>0</td>\n",
       "      <td>0</td>\n",
       "      <td>1</td>\n",
       "      <td>1</td>\n",
       "      <td>0</td>\n",
       "      <td>0</td>\n",
       "      <td>0</td>\n",
       "    </tr>\n",
       "    <tr>\n",
       "      <th>3</th>\n",
       "      <td>0</td>\n",
       "      <td>1</td>\n",
       "      <td>1</td>\n",
       "      <td>3</td>\n",
       "      <td>0</td>\n",
       "      <td>0</td>\n",
       "      <td>0</td>\n",
       "      <td>0</td>\n",
       "      <td>0</td>\n",
       "      <td>0</td>\n",
       "      <td>...</td>\n",
       "      <td>0</td>\n",
       "      <td>1</td>\n",
       "      <td>0</td>\n",
       "      <td>0</td>\n",
       "      <td>0</td>\n",
       "      <td>1</td>\n",
       "      <td>1</td>\n",
       "      <td>0</td>\n",
       "      <td>0</td>\n",
       "      <td>0</td>\n",
       "    </tr>\n",
       "    <tr>\n",
       "      <th>4</th>\n",
       "      <td>0</td>\n",
       "      <td>1</td>\n",
       "      <td>1</td>\n",
       "      <td>3</td>\n",
       "      <td>0</td>\n",
       "      <td>0</td>\n",
       "      <td>0</td>\n",
       "      <td>0</td>\n",
       "      <td>0</td>\n",
       "      <td>0</td>\n",
       "      <td>...</td>\n",
       "      <td>0</td>\n",
       "      <td>1</td>\n",
       "      <td>0</td>\n",
       "      <td>0</td>\n",
       "      <td>0</td>\n",
       "      <td>0</td>\n",
       "      <td>1</td>\n",
       "      <td>0</td>\n",
       "      <td>0</td>\n",
       "      <td>0</td>\n",
       "    </tr>\n",
       "  </tbody>\n",
       "</table>\n",
       "<p>5 rows × 27 columns</p>\n",
       "</div>"
      ],
      "text/plain": [
       "   INJURY  ROLE  SB_WORN  SEAT  PED_LOCATN  7:00 - 9:59 a.m.  \\\n",
       "0       0     3        0     0           2                 0   \n",
       "1       0     2        1     2           0                 0   \n",
       "2       0     1        1     3           0                 0   \n",
       "3       0     1        1     3           0                 0   \n",
       "4       0     1        1     3           0                 0   \n",
       "\n",
       "   10:00 a.m. - 3:59 p.m.  4:00 - 6:59 p.m.  Monday - Friday  Light rain  \\\n",
       "0                       0                 0                0           0   \n",
       "1                       0                 0                0           0   \n",
       "2                       0                 0                0           0   \n",
       "3                       0                 0                0           0   \n",
       "4                       0                 0                0           0   \n",
       "\n",
       "     ...      No Control  One-way Carriageway  Two-way Carriageway  Under 15  \\\n",
       "0    ...               0                    0                    1         0   \n",
       "1    ...               1                    1                    0         0   \n",
       "2    ...               0                    1                    0         0   \n",
       "3    ...               0                    1                    0         0   \n",
       "4    ...               0                    1                    0         0   \n",
       "\n",
       "   Above 65  Male  YEAR_2012  YEAR_2013  YEAR_2014  YEAR_2015  \n",
       "0         0     1          1          0          0          0  \n",
       "1         0     1          1          0          0          0  \n",
       "2         0     1          1          0          0          0  \n",
       "3         0     1          1          0          0          0  \n",
       "4         0     0          1          0          0          0  \n",
       "\n",
       "[5 rows x 27 columns]"
      ]
     },
     "execution_count": 37,
     "metadata": {},
     "output_type": "execute_result"
    }
   ],
   "source": [
    "acc.head()"
   ]
  },
  {
   "cell_type": "code",
   "execution_count": 38,
   "metadata": {},
   "outputs": [
    {
     "data": {
      "text/plain": [
       "Index(['INJURY', 'ROLE', 'SB_WORN', 'SEAT', 'PED_LOCATN', '7:00 - 9:59 a.m.',\n",
       "       '10:00 a.m. - 3:59 p.m.', '4:00 - 6:59 p.m.', 'Monday - Friday',\n",
       "       'Light rain', 'Heavy rain', 'Below 50 km/h', '50 km/h',\n",
       "       'Severe Congestion', 'Moderate Congestion', 'Traffic Signal',\n",
       "       'Other Control Types', 'No Control', 'One-way Carriageway',\n",
       "       'Two-way Carriageway', 'Under 15', 'Above 65', 'Male', 'YEAR_2012',\n",
       "       'YEAR_2013', 'YEAR_2014', 'YEAR_2015'],\n",
       "      dtype='object')"
      ]
     },
     "execution_count": 38,
     "metadata": {},
     "output_type": "execute_result"
    }
   ],
   "source": [
    "acc.columns"
   ]
  },
  {
   "cell_type": "code",
   "execution_count": 39,
   "metadata": {},
   "outputs": [],
   "source": [
    "# split dataset to into 3 group, driver, passenger and pedestrian"
   ]
  },
  {
   "cell_type": "code",
   "execution_count": 40,
   "metadata": {},
   "outputs": [],
   "source": [
    "acc_driver = acc[acc['ROLE'] == 1].drop(['ROLE', 'SEAT', 'PED_LOCATN'], axis=1)\n",
    "acc_passen = acc[acc['ROLE'] == 2].drop(['ROLE', 'PED_LOCATN'], axis=1)\n",
    "acc_pedest = acc[acc['ROLE'] == 3].drop(['ROLE', 'SEAT', 'SB_WORN'], axis=1)"
   ]
  },
  {
   "cell_type": "code",
   "execution_count": 41,
   "metadata": {},
   "outputs": [],
   "source": [
    "# Similarly, group and dummy SB_WORN, but this is only for driver and passen\n",
    "# Remove Unknown rows\n",
    "acc_driver = acc_driver[~acc_driver['SB_WORN'].isin([0, 9])]\n",
    "acc_passen = acc_passen[~acc_passen['SB_WORN'].isin([0, 9])]\n",
    "# Convert to dummy variables\n",
    "acc_driver['SB_WORN'][acc_driver['SB_WORN'] == 2] = 0\n",
    "acc_passen['SB_WORN'][acc_passen['SB_WORN'] == 2] = 0\n",
    "# Merge into acc\n",
    "dummy = pd.get_dummies(acc_driver['SB_WORN'], drop_first=True).rename(columns={1: 'With belt or helmet'})\n",
    "acc_driver = pd.concat([acc_driver, dummy], axis=1).drop('SB_WORN', axis=1)\n",
    "dummy = pd.get_dummies(acc_passen['SB_WORN'], drop_first=True).rename(columns={1: 'With belt or helmet'})\n",
    "acc_passen = pd.concat([acc_passen, dummy], axis=1).drop('SB_WORN', axis=1)"
   ]
  },
  {
   "cell_type": "code",
   "execution_count": 42,
   "metadata": {},
   "outputs": [],
   "source": [
    "# Similarly, group and dummy SEAT, but this is only for passen\n",
    "# Convert to dummy variables\n",
    "acc_passen['SEAT'][acc_passen['SEAT'].isin([0, 6, 7, 9])] = 5\n",
    "acc_passen['SEAT'][acc_passen['SEAT'].isin([4, 8])] = 4\n",
    "acc_passen['SEAT'][acc_passen['SEAT'] == 3] = 0\n",
    "# Merge into acc\n",
    "# rmk Control variables is Driver/Rider\n",
    "dummy = pd.get_dummies(acc_passen['SEAT'], drop_first=True).rename(\n",
    "    columns={1: 'Rear', 2: 'Front nearside', 4: 'Standing', 5: 'Others'})\n",
    "acc_passen = pd.concat([acc_passen, dummy], axis=1).drop('SEAT', axis=1)"
   ]
  },
  {
   "cell_type": "code",
   "execution_count": 43,
   "metadata": {},
   "outputs": [],
   "source": [
    "# Similarly, group and dummy PED_LOCATN, but this is only for pedest\n",
    "acc_pedest['PED_LOCATN'][acc_pedest['PED_LOCATN'].isin([0, 1, 2, 5, 8, 9])] = 0\n",
    "acc_pedest['PED_LOCATN'][acc_pedest['PED_LOCATN'] == 3] = 1\n",
    "acc_pedest['PED_LOCATN'][acc_pedest['PED_LOCATN'] == 4] = 2\n",
    "# Merge into acc\n",
    "# rmk Control variables is other\n",
    "dummy = pd.get_dummies(acc_pedest['PED_LOCATN'], drop_first=True).rename(\n",
    "    columns={1: 'On controlled crossing', 2: 'Within 15M of controlled crossing'})\n",
    "acc_pedest = pd.concat([acc_pedest, dummy], axis=1).drop('PED_LOCATN', axis=1)"
   ]
  },
  {
   "cell_type": "code",
   "execution_count": 44,
   "metadata": {},
   "outputs": [],
   "source": [
    "X_driver, y_driver = acc_driver.drop('INJURY', axis=1), acc_driver['INJURY']\n",
    "X_passen, y_passen = acc_passen.drop('INJURY', axis=1), acc_passen['INJURY']\n",
    "X_pedest, y_pedest = acc_pedest.drop('INJURY', axis=1), acc_pedest['INJURY']"
   ]
  },
  {
   "cell_type": "code",
   "execution_count": 45,
   "metadata": {},
   "outputs": [
    {
     "name": "stdout",
     "output_type": "stream",
     "text": [
      "Optimization terminated successfully.\n",
      "         Current function value: 0.389790\n",
      "         Iterations 6\n"
     ]
    }
   ],
   "source": [
    "X_driver = sm.add_constant(X_driver)\n",
    "m_driver = sm.Logit(y_driver, X_driver)\n",
    "r_driver = m_driver.fit()"
   ]
  },
  {
   "cell_type": "code",
   "execution_count": 46,
   "metadata": {},
   "outputs": [
    {
     "data": {
      "text/html": [
       "<table class=\"simpletable\">\n",
       "<caption>Logit Regression Results</caption>\n",
       "<tr>\n",
       "  <th>Dep. Variable:</th>      <td>INJURY</td>      <th>  No. Observations:  </th>   <td> 47838</td>  \n",
       "</tr>\n",
       "<tr>\n",
       "  <th>Model:</th>               <td>Logit</td>      <th>  Df Residuals:      </th>   <td> 47814</td>  \n",
       "</tr>\n",
       "<tr>\n",
       "  <th>Method:</th>               <td>MLE</td>       <th>  Df Model:          </th>   <td>    23</td>  \n",
       "</tr>\n",
       "<tr>\n",
       "  <th>Date:</th>          <td>Sat, 14 Apr 2018</td> <th>  Pseudo R-squ.:     </th>   <td>0.02512</td> \n",
       "</tr>\n",
       "<tr>\n",
       "  <th>Time:</th>              <td>12:17:25</td>     <th>  Log-Likelihood:    </th>  <td> -18647.</td> \n",
       "</tr>\n",
       "<tr>\n",
       "  <th>converged:</th>           <td>True</td>       <th>  LL-Null:           </th>  <td> -19127.</td> \n",
       "</tr>\n",
       "<tr>\n",
       "  <th> </th>                      <td> </td>        <th>  LLR p-value:       </th> <td>2.714e-188</td>\n",
       "</tr>\n",
       "</table>\n",
       "<table class=\"simpletable\">\n",
       "<tr>\n",
       "             <td></td>               <th>coef</th>     <th>std err</th>      <th>z</th>      <th>P>|z|</th>  <th>[0.025</th>    <th>0.975]</th>  \n",
       "</tr>\n",
       "<tr>\n",
       "  <th>const</th>                  <td>   -1.2418</td> <td>    0.073</td> <td>  -17.080</td> <td> 0.000</td> <td>   -1.384</td> <td>   -1.099</td>\n",
       "</tr>\n",
       "<tr>\n",
       "  <th>7:00 - 9:59 a.m.</th>       <td>   -0.2119</td> <td>    0.044</td> <td>   -4.860</td> <td> 0.000</td> <td>   -0.297</td> <td>   -0.126</td>\n",
       "</tr>\n",
       "<tr>\n",
       "  <th>10:00 a.m. - 3:59 p.m.</th> <td>   -0.1349</td> <td>    0.033</td> <td>   -4.067</td> <td> 0.000</td> <td>   -0.200</td> <td>   -0.070</td>\n",
       "</tr>\n",
       "<tr>\n",
       "  <th>4:00 - 6:59 p.m.</th>       <td>   -0.2099</td> <td>    0.039</td> <td>   -5.434</td> <td> 0.000</td> <td>   -0.286</td> <td>   -0.134</td>\n",
       "</tr>\n",
       "<tr>\n",
       "  <th>Monday - Friday</th>        <td>   -0.1012</td> <td>    0.029</td> <td>   -3.545</td> <td> 0.000</td> <td>   -0.157</td> <td>   -0.045</td>\n",
       "</tr>\n",
       "<tr>\n",
       "  <th>Light rain</th>             <td>   -0.1466</td> <td>    0.043</td> <td>   -3.428</td> <td> 0.001</td> <td>   -0.230</td> <td>   -0.063</td>\n",
       "</tr>\n",
       "<tr>\n",
       "  <th>Heavy rain</th>             <td>   -0.1491</td> <td>    0.100</td> <td>   -1.496</td> <td> 0.135</td> <td>   -0.344</td> <td>    0.046</td>\n",
       "</tr>\n",
       "<tr>\n",
       "  <th>Below 50 km/h</th>          <td>   -0.3711</td> <td>    0.100</td> <td>   -3.724</td> <td> 0.000</td> <td>   -0.566</td> <td>   -0.176</td>\n",
       "</tr>\n",
       "<tr>\n",
       "  <th>50 km/h</th>                <td>   -0.2463</td> <td>    0.041</td> <td>   -6.009</td> <td> 0.000</td> <td>   -0.327</td> <td>   -0.166</td>\n",
       "</tr>\n",
       "<tr>\n",
       "  <th>Severe Congestion</th>      <td>   -0.2065</td> <td>    0.042</td> <td>   -4.907</td> <td> 0.000</td> <td>   -0.289</td> <td>   -0.124</td>\n",
       "</tr>\n",
       "<tr>\n",
       "  <th>Moderate Congestion</th>    <td>   -0.2180</td> <td>    0.034</td> <td>   -6.430</td> <td> 0.000</td> <td>   -0.284</td> <td>   -0.152</td>\n",
       "</tr>\n",
       "<tr>\n",
       "  <th>Traffic Signal</th>         <td>   -0.3265</td> <td>    0.052</td> <td>   -6.259</td> <td> 0.000</td> <td>   -0.429</td> <td>   -0.224</td>\n",
       "</tr>\n",
       "<tr>\n",
       "  <th>Other Control Types</th>    <td>   -0.2913</td> <td>    0.072</td> <td>   -4.066</td> <td> 0.000</td> <td>   -0.432</td> <td>   -0.151</td>\n",
       "</tr>\n",
       "<tr>\n",
       "  <th>No Control</th>             <td>   -0.3350</td> <td>    0.077</td> <td>   -4.378</td> <td> 0.000</td> <td>   -0.485</td> <td>   -0.185</td>\n",
       "</tr>\n",
       "<tr>\n",
       "  <th>One-way Carriageway</th>    <td>   -0.0707</td> <td>    0.039</td> <td>   -1.823</td> <td> 0.068</td> <td>   -0.147</td> <td>    0.005</td>\n",
       "</tr>\n",
       "<tr>\n",
       "  <th>Two-way Carriageway</th>    <td>    0.3266</td> <td>    0.038</td> <td>    8.542</td> <td> 0.000</td> <td>    0.252</td> <td>    0.402</td>\n",
       "</tr>\n",
       "<tr>\n",
       "  <th>Under 15</th>               <td>   -0.4934</td> <td>    0.082</td> <td>   -6.020</td> <td> 0.000</td> <td>   -0.654</td> <td>   -0.333</td>\n",
       "</tr>\n",
       "<tr>\n",
       "  <th>Above 65</th>               <td>    0.6262</td> <td>    0.073</td> <td>    8.544</td> <td> 0.000</td> <td>    0.483</td> <td>    0.770</td>\n",
       "</tr>\n",
       "<tr>\n",
       "  <th>Male</th>                   <td>    0.1894</td> <td>    0.041</td> <td>    4.664</td> <td> 0.000</td> <td>    0.110</td> <td>    0.269</td>\n",
       "</tr>\n",
       "<tr>\n",
       "  <th>YEAR_2012</th>              <td>    0.0426</td> <td>    0.043</td> <td>    0.983</td> <td> 0.326</td> <td>   -0.042</td> <td>    0.128</td>\n",
       "</tr>\n",
       "<tr>\n",
       "  <th>YEAR_2013</th>              <td>    0.0743</td> <td>    0.043</td> <td>    1.729</td> <td> 0.084</td> <td>   -0.010</td> <td>    0.158</td>\n",
       "</tr>\n",
       "<tr>\n",
       "  <th>YEAR_2014</th>              <td>    0.1413</td> <td>    0.043</td> <td>    3.321</td> <td> 0.001</td> <td>    0.058</td> <td>    0.225</td>\n",
       "</tr>\n",
       "<tr>\n",
       "  <th>YEAR_2015</th>              <td>    0.0851</td> <td>    0.042</td> <td>    2.007</td> <td> 0.045</td> <td>    0.002</td> <td>    0.168</td>\n",
       "</tr>\n",
       "<tr>\n",
       "  <th>With belt or helmet</th>    <td>   -0.5115</td> <td>    0.034</td> <td>  -14.897</td> <td> 0.000</td> <td>   -0.579</td> <td>   -0.444</td>\n",
       "</tr>\n",
       "</table>"
      ],
      "text/plain": [
       "<class 'statsmodels.iolib.summary.Summary'>\n",
       "\"\"\"\n",
       "                           Logit Regression Results                           \n",
       "==============================================================================\n",
       "Dep. Variable:                 INJURY   No. Observations:                47838\n",
       "Model:                          Logit   Df Residuals:                    47814\n",
       "Method:                           MLE   Df Model:                           23\n",
       "Date:                Sat, 14 Apr 2018   Pseudo R-squ.:                 0.02512\n",
       "Time:                        12:17:25   Log-Likelihood:                -18647.\n",
       "converged:                       True   LL-Null:                       -19127.\n",
       "                                        LLR p-value:                2.714e-188\n",
       "==========================================================================================\n",
       "                             coef    std err          z      P>|z|      [0.025      0.975]\n",
       "------------------------------------------------------------------------------------------\n",
       "const                     -1.2418      0.073    -17.080      0.000      -1.384      -1.099\n",
       "7:00 - 9:59 a.m.          -0.2119      0.044     -4.860      0.000      -0.297      -0.126\n",
       "10:00 a.m. - 3:59 p.m.    -0.1349      0.033     -4.067      0.000      -0.200      -0.070\n",
       "4:00 - 6:59 p.m.          -0.2099      0.039     -5.434      0.000      -0.286      -0.134\n",
       "Monday - Friday           -0.1012      0.029     -3.545      0.000      -0.157      -0.045\n",
       "Light rain                -0.1466      0.043     -3.428      0.001      -0.230      -0.063\n",
       "Heavy rain                -0.1491      0.100     -1.496      0.135      -0.344       0.046\n",
       "Below 50 km/h             -0.3711      0.100     -3.724      0.000      -0.566      -0.176\n",
       "50 km/h                   -0.2463      0.041     -6.009      0.000      -0.327      -0.166\n",
       "Severe Congestion         -0.2065      0.042     -4.907      0.000      -0.289      -0.124\n",
       "Moderate Congestion       -0.2180      0.034     -6.430      0.000      -0.284      -0.152\n",
       "Traffic Signal            -0.3265      0.052     -6.259      0.000      -0.429      -0.224\n",
       "Other Control Types       -0.2913      0.072     -4.066      0.000      -0.432      -0.151\n",
       "No Control                -0.3350      0.077     -4.378      0.000      -0.485      -0.185\n",
       "One-way Carriageway       -0.0707      0.039     -1.823      0.068      -0.147       0.005\n",
       "Two-way Carriageway        0.3266      0.038      8.542      0.000       0.252       0.402\n",
       "Under 15                  -0.4934      0.082     -6.020      0.000      -0.654      -0.333\n",
       "Above 65                   0.6262      0.073      8.544      0.000       0.483       0.770\n",
       "Male                       0.1894      0.041      4.664      0.000       0.110       0.269\n",
       "YEAR_2012                  0.0426      0.043      0.983      0.326      -0.042       0.128\n",
       "YEAR_2013                  0.0743      0.043      1.729      0.084      -0.010       0.158\n",
       "YEAR_2014                  0.1413      0.043      3.321      0.001       0.058       0.225\n",
       "YEAR_2015                  0.0851      0.042      2.007      0.045       0.002       0.168\n",
       "With belt or helmet       -0.5115      0.034    -14.897      0.000      -0.579      -0.444\n",
       "==========================================================================================\n",
       "\"\"\""
      ]
     },
     "execution_count": 46,
     "metadata": {},
     "output_type": "execute_result"
    }
   ],
   "source": [
    "r_driver.summary()"
   ]
  },
  {
   "cell_type": "code",
   "execution_count": 47,
   "metadata": {},
   "outputs": [
    {
     "name": "stdout",
     "output_type": "stream",
     "text": [
      "                            2.5%     97.5%  Odds Ratio\n",
      "const                   0.250502  0.333109    0.288867\n",
      "7:00 - 9:59 a.m.        0.742807  0.881227    0.809062\n",
      "10:00 a.m. - 3:59 p.m.  0.818825  0.932505    0.873818\n",
      "4:00 - 6:59 p.m.        0.751570  0.874429    0.810675\n",
      "Monday - Friday         0.854513  0.955735    0.903708\n",
      "Light rain              0.794159  0.939135    0.863610\n",
      "Heavy rain              0.708652  1.047268    0.861480\n",
      "Below 50 km/h           0.567573  0.838812    0.689991\n",
      "50 km/h                 0.721305  0.847044    0.781650\n",
      "Severe Congestion       0.749011  0.883345    0.813409\n",
      "Moderate Congestion     0.752479  0.859402    0.804165\n",
      "Traffic Signal          0.651324  0.799112    0.721444\n",
      "Other Control Types     0.649391  0.859965    0.747298\n",
      "No Control              0.615746  0.831094    0.715362\n",
      "One-way Carriageway     0.863472  1.005327    0.931704\n",
      "Two-way Carriageway     1.286172  1.494157    1.386269\n",
      "Under 15                0.519951  0.716939    0.610552\n",
      "Above 65                1.620262  2.159533    1.870564\n",
      "Male                    1.116098  1.308709    1.208572\n",
      "YEAR_2012               0.958473  1.136211    1.043565\n",
      "YEAR_2013               0.990147  1.171705    1.077107\n",
      "YEAR_2014               1.059616  1.251990    1.151794\n",
      "YEAR_2015               1.001987  1.183263    1.088859\n",
      "With belt or helmet     0.560584  0.641346    0.599607\n"
     ]
    }
   ],
   "source": [
    "p_driver = r_driver.params\n",
    "c_driver = r_driver.conf_int()\n",
    "c_driver['OR'] = p_driver\n",
    "c_driver.columns = ['2.5%', '97.5%', 'Odds Ratio']\n",
    "print(np.exp(c_driver))"
   ]
  },
  {
   "cell_type": "code",
   "execution_count": 48,
   "metadata": {},
   "outputs": [
    {
     "name": "stdout",
     "output_type": "stream",
     "text": [
      "Accuracy: 0.8628078096910407\n"
     ]
    }
   ],
   "source": [
    "print('Accuracy:', accuracy_score(\n",
    "    y_driver, np.rint(m_driver.predict(p_driver, X_driver))))"
   ]
  },
  {
   "cell_type": "code",
   "execution_count": 49,
   "metadata": {},
   "outputs": [
    {
     "data": {
      "text/html": [
       "<div>\n",
       "<style scoped>\n",
       "    .dataframe tbody tr th:only-of-type {\n",
       "        vertical-align: middle;\n",
       "    }\n",
       "\n",
       "    .dataframe tbody tr th {\n",
       "        vertical-align: top;\n",
       "    }\n",
       "\n",
       "    .dataframe thead th {\n",
       "        text-align: right;\n",
       "    }\n",
       "</style>\n",
       "<table border=\"1\" class=\"dataframe\">\n",
       "  <thead>\n",
       "    <tr style=\"text-align: right;\">\n",
       "      <th></th>\n",
       "      <th>True</th>\n",
       "      <th>False</th>\n",
       "    </tr>\n",
       "  </thead>\n",
       "  <tbody>\n",
       "    <tr>\n",
       "      <th>True</th>\n",
       "      <td>41275</td>\n",
       "      <td>0</td>\n",
       "    </tr>\n",
       "    <tr>\n",
       "      <th>False</th>\n",
       "      <td>6563</td>\n",
       "      <td>0</td>\n",
       "    </tr>\n",
       "  </tbody>\n",
       "</table>\n",
       "</div>"
      ],
      "text/plain": [
       "        True  False\n",
       "True   41275      0\n",
       "False   6563      0"
      ]
     },
     "execution_count": 49,
     "metadata": {},
     "output_type": "execute_result"
    }
   ],
   "source": [
    "pd.DataFrame(confusion_matrix(y_driver, np.rint(m_driver.predict(p_driver, X_driver))), \n",
    "             index=['True', 'False'], columns=['True', 'False'])"
   ]
  },
  {
   "cell_type": "code",
   "execution_count": 50,
   "metadata": {},
   "outputs": [
    {
     "name": "stdout",
     "output_type": "stream",
     "text": [
      "Optimization terminated successfully.\n",
      "         Current function value: 0.264141\n",
      "         Iterations 8\n"
     ]
    }
   ],
   "source": [
    "X_passen = sm.add_constant(X_passen)\n",
    "m_passen = sm.Logit(y_passen, X_passen)\n",
    "r_passen = m_passen.fit()"
   ]
  },
  {
   "cell_type": "code",
   "execution_count": 51,
   "metadata": {},
   "outputs": [
    {
     "data": {
      "text/html": [
       "<table class=\"simpletable\">\n",
       "<caption>Logit Regression Results</caption>\n",
       "<tr>\n",
       "  <th>Dep. Variable:</th>      <td>INJURY</td>      <th>  No. Observations:  </th>   <td> 31905</td>  \n",
       "</tr>\n",
       "<tr>\n",
       "  <th>Model:</th>               <td>Logit</td>      <th>  Df Residuals:      </th>   <td> 31878</td>  \n",
       "</tr>\n",
       "<tr>\n",
       "  <th>Method:</th>               <td>MLE</td>       <th>  Df Model:          </th>   <td>    26</td>  \n",
       "</tr>\n",
       "<tr>\n",
       "  <th>Date:</th>          <td>Sat, 14 Apr 2018</td> <th>  Pseudo R-squ.:     </th>   <td>0.03258</td> \n",
       "</tr>\n",
       "<tr>\n",
       "  <th>Time:</th>              <td>12:17:26</td>     <th>  Log-Likelihood:    </th>  <td> -8427.4</td> \n",
       "</tr>\n",
       "<tr>\n",
       "  <th>converged:</th>           <td>True</td>       <th>  LL-Null:           </th>  <td> -8711.2</td> \n",
       "</tr>\n",
       "<tr>\n",
       "  <th> </th>                      <td> </td>        <th>  LLR p-value:       </th> <td>3.295e-103</td>\n",
       "</tr>\n",
       "</table>\n",
       "<table class=\"simpletable\">\n",
       "<tr>\n",
       "             <td></td>               <th>coef</th>     <th>std err</th>      <th>z</th>      <th>P>|z|</th>  <th>[0.025</th>    <th>0.975]</th>  \n",
       "</tr>\n",
       "<tr>\n",
       "  <th>const</th>                  <td>   -2.2191</td> <td>    0.099</td> <td>  -22.458</td> <td> 0.000</td> <td>   -2.413</td> <td>   -2.025</td>\n",
       "</tr>\n",
       "<tr>\n",
       "  <th>7:00 - 9:59 a.m.</th>       <td>   -0.3003</td> <td>    0.069</td> <td>   -4.338</td> <td> 0.000</td> <td>   -0.436</td> <td>   -0.165</td>\n",
       "</tr>\n",
       "<tr>\n",
       "  <th>10:00 a.m. - 3:59 p.m.</th> <td>   -0.0674</td> <td>    0.052</td> <td>   -1.295</td> <td> 0.195</td> <td>   -0.169</td> <td>    0.035</td>\n",
       "</tr>\n",
       "<tr>\n",
       "  <th>4:00 - 6:59 p.m.</th>       <td>   -0.2360</td> <td>    0.064</td> <td>   -3.716</td> <td> 0.000</td> <td>   -0.360</td> <td>   -0.112</td>\n",
       "</tr>\n",
       "<tr>\n",
       "  <th>Monday - Friday</th>        <td>   -0.0055</td> <td>    0.046</td> <td>   -0.119</td> <td> 0.905</td> <td>   -0.097</td> <td>    0.086</td>\n",
       "</tr>\n",
       "<tr>\n",
       "  <th>Light rain</th>             <td>    0.0816</td> <td>    0.063</td> <td>    1.301</td> <td> 0.193</td> <td>   -0.041</td> <td>    0.204</td>\n",
       "</tr>\n",
       "<tr>\n",
       "  <th>Heavy rain</th>             <td>   -0.2622</td> <td>    0.160</td> <td>   -1.636</td> <td> 0.102</td> <td>   -0.576</td> <td>    0.052</td>\n",
       "</tr>\n",
       "<tr>\n",
       "  <th>Below 50 km/h</th>          <td>    0.1142</td> <td>    0.219</td> <td>    0.521</td> <td> 0.602</td> <td>   -0.315</td> <td>    0.544</td>\n",
       "</tr>\n",
       "<tr>\n",
       "  <th>50 km/h</th>                <td>   -0.1675</td> <td>    0.060</td> <td>   -2.806</td> <td> 0.005</td> <td>   -0.285</td> <td>   -0.051</td>\n",
       "</tr>\n",
       "<tr>\n",
       "  <th>Severe Congestion</th>      <td>    0.0248</td> <td>    0.059</td> <td>    0.420</td> <td> 0.674</td> <td>   -0.091</td> <td>    0.141</td>\n",
       "</tr>\n",
       "<tr>\n",
       "  <th>Moderate Congestion</th>    <td>   -0.1568</td> <td>    0.050</td> <td>   -3.153</td> <td> 0.002</td> <td>   -0.254</td> <td>   -0.059</td>\n",
       "</tr>\n",
       "<tr>\n",
       "  <th>Traffic Signal</th>         <td>   -0.1860</td> <td>    0.063</td> <td>   -2.944</td> <td> 0.003</td> <td>   -0.310</td> <td>   -0.062</td>\n",
       "</tr>\n",
       "<tr>\n",
       "  <th>Other Control Types</th>    <td>   -0.0724</td> <td>    0.110</td> <td>   -0.661</td> <td> 0.509</td> <td>   -0.287</td> <td>    0.142</td>\n",
       "</tr>\n",
       "<tr>\n",
       "  <th>No Control</th>             <td>   -0.3320</td> <td>    0.114</td> <td>   -2.925</td> <td> 0.003</td> <td>   -0.555</td> <td>   -0.110</td>\n",
       "</tr>\n",
       "<tr>\n",
       "  <th>One-way Carriageway</th>    <td>   -0.0948</td> <td>    0.054</td> <td>   -1.759</td> <td> 0.078</td> <td>   -0.200</td> <td>    0.011</td>\n",
       "</tr>\n",
       "<tr>\n",
       "  <th>Two-way Carriageway</th>    <td>    0.1804</td> <td>    0.056</td> <td>    3.212</td> <td> 0.001</td> <td>    0.070</td> <td>    0.291</td>\n",
       "</tr>\n",
       "<tr>\n",
       "  <th>Under 15</th>               <td>   -1.2595</td> <td>    0.130</td> <td>   -9.711</td> <td> 0.000</td> <td>   -1.514</td> <td>   -1.005</td>\n",
       "</tr>\n",
       "<tr>\n",
       "  <th>Above 65</th>               <td>    0.7975</td> <td>    0.057</td> <td>   14.063</td> <td> 0.000</td> <td>    0.686</td> <td>    0.909</td>\n",
       "</tr>\n",
       "<tr>\n",
       "  <th>Male</th>                   <td>    0.0174</td> <td>    0.045</td> <td>    0.389</td> <td> 0.697</td> <td>   -0.070</td> <td>    0.105</td>\n",
       "</tr>\n",
       "<tr>\n",
       "  <th>YEAR_2012</th>              <td>   -0.1094</td> <td>    0.069</td> <td>   -1.578</td> <td> 0.115</td> <td>   -0.245</td> <td>    0.026</td>\n",
       "</tr>\n",
       "<tr>\n",
       "  <th>YEAR_2013</th>              <td>   -0.0531</td> <td>    0.067</td> <td>   -0.792</td> <td> 0.429</td> <td>   -0.184</td> <td>    0.078</td>\n",
       "</tr>\n",
       "<tr>\n",
       "  <th>YEAR_2014</th>              <td>   -0.0057</td> <td>    0.068</td> <td>   -0.085</td> <td> 0.932</td> <td>   -0.138</td> <td>    0.127</td>\n",
       "</tr>\n",
       "<tr>\n",
       "  <th>YEAR_2015</th>              <td>    0.0880</td> <td>    0.065</td> <td>    1.346</td> <td> 0.178</td> <td>   -0.040</td> <td>    0.216</td>\n",
       "</tr>\n",
       "<tr>\n",
       "  <th>With belt or helmet</th>    <td>   -0.0657</td> <td>    0.056</td> <td>   -1.174</td> <td> 0.240</td> <td>   -0.175</td> <td>    0.044</td>\n",
       "</tr>\n",
       "<tr>\n",
       "  <th>Front nearside</th>         <td>   -0.0060</td> <td>    0.060</td> <td>   -0.101</td> <td> 0.919</td> <td>   -0.123</td> <td>    0.111</td>\n",
       "</tr>\n",
       "<tr>\n",
       "  <th>Standing</th>               <td>    0.2532</td> <td>    0.062</td> <td>    4.059</td> <td> 0.000</td> <td>    0.131</td> <td>    0.375</td>\n",
       "</tr>\n",
       "<tr>\n",
       "  <th>Others</th>                 <td>   -0.1309</td> <td>    0.168</td> <td>   -0.779</td> <td> 0.436</td> <td>   -0.461</td> <td>    0.199</td>\n",
       "</tr>\n",
       "</table>"
      ],
      "text/plain": [
       "<class 'statsmodels.iolib.summary.Summary'>\n",
       "\"\"\"\n",
       "                           Logit Regression Results                           \n",
       "==============================================================================\n",
       "Dep. Variable:                 INJURY   No. Observations:                31905\n",
       "Model:                          Logit   Df Residuals:                    31878\n",
       "Method:                           MLE   Df Model:                           26\n",
       "Date:                Sat, 14 Apr 2018   Pseudo R-squ.:                 0.03258\n",
       "Time:                        12:17:26   Log-Likelihood:                -8427.4\n",
       "converged:                       True   LL-Null:                       -8711.2\n",
       "                                        LLR p-value:                3.295e-103\n",
       "==========================================================================================\n",
       "                             coef    std err          z      P>|z|      [0.025      0.975]\n",
       "------------------------------------------------------------------------------------------\n",
       "const                     -2.2191      0.099    -22.458      0.000      -2.413      -2.025\n",
       "7:00 - 9:59 a.m.          -0.3003      0.069     -4.338      0.000      -0.436      -0.165\n",
       "10:00 a.m. - 3:59 p.m.    -0.0674      0.052     -1.295      0.195      -0.169       0.035\n",
       "4:00 - 6:59 p.m.          -0.2360      0.064     -3.716      0.000      -0.360      -0.112\n",
       "Monday - Friday           -0.0055      0.046     -0.119      0.905      -0.097       0.086\n",
       "Light rain                 0.0816      0.063      1.301      0.193      -0.041       0.204\n",
       "Heavy rain                -0.2622      0.160     -1.636      0.102      -0.576       0.052\n",
       "Below 50 km/h              0.1142      0.219      0.521      0.602      -0.315       0.544\n",
       "50 km/h                   -0.1675      0.060     -2.806      0.005      -0.285      -0.051\n",
       "Severe Congestion          0.0248      0.059      0.420      0.674      -0.091       0.141\n",
       "Moderate Congestion       -0.1568      0.050     -3.153      0.002      -0.254      -0.059\n",
       "Traffic Signal            -0.1860      0.063     -2.944      0.003      -0.310      -0.062\n",
       "Other Control Types       -0.0724      0.110     -0.661      0.509      -0.287       0.142\n",
       "No Control                -0.3320      0.114     -2.925      0.003      -0.555      -0.110\n",
       "One-way Carriageway       -0.0948      0.054     -1.759      0.078      -0.200       0.011\n",
       "Two-way Carriageway        0.1804      0.056      3.212      0.001       0.070       0.291\n",
       "Under 15                  -1.2595      0.130     -9.711      0.000      -1.514      -1.005\n",
       "Above 65                   0.7975      0.057     14.063      0.000       0.686       0.909\n",
       "Male                       0.0174      0.045      0.389      0.697      -0.070       0.105\n",
       "YEAR_2012                 -0.1094      0.069     -1.578      0.115      -0.245       0.026\n",
       "YEAR_2013                 -0.0531      0.067     -0.792      0.429      -0.184       0.078\n",
       "YEAR_2014                 -0.0057      0.068     -0.085      0.932      -0.138       0.127\n",
       "YEAR_2015                  0.0880      0.065      1.346      0.178      -0.040       0.216\n",
       "With belt or helmet       -0.0657      0.056     -1.174      0.240      -0.175       0.044\n",
       "Front nearside            -0.0060      0.060     -0.101      0.919      -0.123       0.111\n",
       "Standing                   0.2532      0.062      4.059      0.000       0.131       0.375\n",
       "Others                    -0.1309      0.168     -0.779      0.436      -0.461       0.199\n",
       "==========================================================================================\n",
       "\"\"\""
      ]
     },
     "execution_count": 51,
     "metadata": {},
     "output_type": "execute_result"
    }
   ],
   "source": [
    "r_passen.summary()"
   ]
  },
  {
   "cell_type": "code",
   "execution_count": 52,
   "metadata": {},
   "outputs": [
    {
     "name": "stdout",
     "output_type": "stream",
     "text": [
      "                            2.5%     97.5%  Odds Ratio\n",
      "const                   0.089568  0.131937    0.108708\n",
      "7:00 - 9:59 a.m.        0.646651  0.848222    0.740610\n",
      "10:00 a.m. - 3:59 p.m.  0.844205  1.035185    0.934830\n",
      "4:00 - 6:59 p.m.        0.697350  0.894482    0.789789\n",
      "Monday - Friday         0.907860  1.089352    0.994474\n",
      "Light rain              0.959541  1.226815    1.084979\n",
      "Heavy rain              0.561994  1.053198    0.769345\n",
      "Below 50 km/h           0.729599  1.722189    1.120941\n",
      "50 km/h                 0.752353  0.950739    0.845749\n",
      "Severe Congestion       0.913031  1.151055    1.025158\n",
      "Moderate Congestion     0.775443  0.942393    0.854852\n",
      "Traffic Signal          0.733597  0.939742    0.830296\n",
      "Other Control Types     0.750312  1.153046    0.930131\n",
      "No Control              0.574352  0.896259    0.717473\n",
      "One-way Carriageway     0.818422  1.010860    0.909566\n",
      "Two-way Carriageway     1.072860  1.337161    1.197742\n",
      "Under 15                0.220101  0.365944    0.283804\n",
      "Above 65                1.986523  2.481092    2.220078\n",
      "Male                    0.932095  1.110887    1.017572\n",
      "YEAR_2012               0.782572  1.026809    0.896411\n",
      "YEAR_2013               0.831610  1.081427    0.948328\n",
      "YEAR_2014               0.870811  1.135244    0.994275\n",
      "YEAR_2015               0.960673  1.241340    1.092027\n",
      "With belt or helmet     0.839220  1.044907    0.936433\n",
      "Front nearside          0.884498  1.117040    0.993991\n",
      "Standing                1.139889  1.455643    1.288127\n",
      "Others                  0.630929  1.219811    0.877276\n"
     ]
    }
   ],
   "source": [
    "p_passen = r_passen.params\n",
    "c_passen = r_passen.conf_int()\n",
    "c_passen['OR'] = p_passen\n",
    "c_passen.columns = ['2.5%', '97.5%', 'Odds Ratio']\n",
    "print(np.exp(c_passen))"
   ]
  },
  {
   "cell_type": "code",
   "execution_count": 53,
   "metadata": {},
   "outputs": [
    {
     "name": "stdout",
     "output_type": "stream",
     "text": [
      "Accuracy: 0.9223319228960978\n"
     ]
    }
   ],
   "source": [
    "print('Accuracy:', accuracy_score(\n",
    "    y_passen, np.rint(m_passen.predict(p_passen, X_passen))))"
   ]
  },
  {
   "cell_type": "code",
   "execution_count": 54,
   "metadata": {},
   "outputs": [
    {
     "data": {
      "text/html": [
       "<div>\n",
       "<style scoped>\n",
       "    .dataframe tbody tr th:only-of-type {\n",
       "        vertical-align: middle;\n",
       "    }\n",
       "\n",
       "    .dataframe tbody tr th {\n",
       "        vertical-align: top;\n",
       "    }\n",
       "\n",
       "    .dataframe thead th {\n",
       "        text-align: right;\n",
       "    }\n",
       "</style>\n",
       "<table border=\"1\" class=\"dataframe\">\n",
       "  <thead>\n",
       "    <tr style=\"text-align: right;\">\n",
       "      <th></th>\n",
       "      <th>True</th>\n",
       "      <th>False</th>\n",
       "    </tr>\n",
       "  </thead>\n",
       "  <tbody>\n",
       "    <tr>\n",
       "      <th>True</th>\n",
       "      <td>29427</td>\n",
       "      <td>0</td>\n",
       "    </tr>\n",
       "    <tr>\n",
       "      <th>False</th>\n",
       "      <td>2478</td>\n",
       "      <td>0</td>\n",
       "    </tr>\n",
       "  </tbody>\n",
       "</table>\n",
       "</div>"
      ],
      "text/plain": [
       "        True  False\n",
       "True   29427      0\n",
       "False   2478      0"
      ]
     },
     "execution_count": 54,
     "metadata": {},
     "output_type": "execute_result"
    }
   ],
   "source": [
    "pd.DataFrame(confusion_matrix(y_passen, np.rint(m_passen.predict(p_passen, X_passen))), \n",
    "             index=['True', 'False'], columns=['True', 'False'])"
   ]
  },
  {
   "cell_type": "code",
   "execution_count": 55,
   "metadata": {},
   "outputs": [
    {
     "name": "stdout",
     "output_type": "stream",
     "text": [
      "Optimization terminated successfully.\n",
      "         Current function value: 0.522550\n",
      "         Iterations 6\n"
     ]
    }
   ],
   "source": [
    "X_pedest = sm.add_constant(X_pedest)\n",
    "m_pedest = sm.Logit(y_pedest, X_pedest)\n",
    "r_pedest = m_pedest.fit()"
   ]
  },
  {
   "cell_type": "code",
   "execution_count": 56,
   "metadata": {},
   "outputs": [
    {
     "data": {
      "text/html": [
       "<table class=\"simpletable\">\n",
       "<caption>Logit Regression Results</caption>\n",
       "<tr>\n",
       "  <th>Dep. Variable:</th>      <td>INJURY</td>      <th>  No. Observations:  </th>   <td> 17450</td>  \n",
       "</tr>\n",
       "<tr>\n",
       "  <th>Model:</th>               <td>Logit</td>      <th>  Df Residuals:      </th>   <td> 17425</td>  \n",
       "</tr>\n",
       "<tr>\n",
       "  <th>Method:</th>               <td>MLE</td>       <th>  Df Model:          </th>   <td>    24</td>  \n",
       "</tr>\n",
       "<tr>\n",
       "  <th>Date:</th>          <td>Sat, 14 Apr 2018</td> <th>  Pseudo R-squ.:     </th>   <td>0.04520</td> \n",
       "</tr>\n",
       "<tr>\n",
       "  <th>Time:</th>              <td>12:17:26</td>     <th>  Log-Likelihood:    </th>  <td> -9118.5</td> \n",
       "</tr>\n",
       "<tr>\n",
       "  <th>converged:</th>           <td>True</td>       <th>  LL-Null:           </th>  <td> -9550.1</td> \n",
       "</tr>\n",
       "<tr>\n",
       "  <th> </th>                      <td> </td>        <th>  LLR p-value:       </th> <td>8.670e-167</td>\n",
       "</tr>\n",
       "</table>\n",
       "<table class=\"simpletable\">\n",
       "<tr>\n",
       "                  <td></td>                     <th>coef</th>     <th>std err</th>      <th>z</th>      <th>P>|z|</th>  <th>[0.025</th>    <th>0.975]</th>  \n",
       "</tr>\n",
       "<tr>\n",
       "  <th>const</th>                             <td>   -0.0549</td> <td>    0.187</td> <td>   -0.294</td> <td> 0.769</td> <td>   -0.421</td> <td>    0.311</td>\n",
       "</tr>\n",
       "<tr>\n",
       "  <th>7:00 - 9:59 a.m.</th>                  <td>    0.0179</td> <td>    0.057</td> <td>    0.312</td> <td> 0.755</td> <td>   -0.095</td> <td>    0.131</td>\n",
       "</tr>\n",
       "<tr>\n",
       "  <th>10:00 a.m. - 3:59 p.m.</th>            <td>   -0.2186</td> <td>    0.048</td> <td>   -4.520</td> <td> 0.000</td> <td>   -0.313</td> <td>   -0.124</td>\n",
       "</tr>\n",
       "<tr>\n",
       "  <th>4:00 - 6:59 p.m.</th>                  <td>   -0.2585</td> <td>    0.056</td> <td>   -4.654</td> <td> 0.000</td> <td>   -0.367</td> <td>   -0.150</td>\n",
       "</tr>\n",
       "<tr>\n",
       "  <th>Monday - Friday</th>                   <td>    0.0253</td> <td>    0.042</td> <td>    0.602</td> <td> 0.547</td> <td>   -0.057</td> <td>    0.107</td>\n",
       "</tr>\n",
       "<tr>\n",
       "  <th>Light rain</th>                        <td>    0.0428</td> <td>    0.061</td> <td>    0.703</td> <td> 0.482</td> <td>   -0.077</td> <td>    0.162</td>\n",
       "</tr>\n",
       "<tr>\n",
       "  <th>Heavy rain</th>                        <td>    0.2272</td> <td>    0.131</td> <td>    1.734</td> <td> 0.083</td> <td>   -0.030</td> <td>    0.484</td>\n",
       "</tr>\n",
       "<tr>\n",
       "  <th>Below 50 km/h</th>                     <td>   -1.0418</td> <td>    0.204</td> <td>   -5.100</td> <td> 0.000</td> <td>   -1.442</td> <td>   -0.641</td>\n",
       "</tr>\n",
       "<tr>\n",
       "  <th>50 km/h</th>                           <td>   -0.9947</td> <td>    0.175</td> <td>   -5.680</td> <td> 0.000</td> <td>   -1.338</td> <td>   -0.651</td>\n",
       "</tr>\n",
       "<tr>\n",
       "  <th>Severe Congestion</th>                 <td>   -0.0219</td> <td>    0.052</td> <td>   -0.420</td> <td> 0.675</td> <td>   -0.124</td> <td>    0.081</td>\n",
       "</tr>\n",
       "<tr>\n",
       "  <th>Moderate Congestion</th>               <td>   -0.1327</td> <td>    0.043</td> <td>   -3.100</td> <td> 0.002</td> <td>   -0.217</td> <td>   -0.049</td>\n",
       "</tr>\n",
       "<tr>\n",
       "  <th>Traffic Signal</th>                    <td>   -0.0908</td> <td>    0.055</td> <td>   -1.643</td> <td> 0.100</td> <td>   -0.199</td> <td>    0.018</td>\n",
       "</tr>\n",
       "<tr>\n",
       "  <th>Other Control Types</th>               <td>   -0.2196</td> <td>    0.086</td> <td>   -2.562</td> <td> 0.010</td> <td>   -0.388</td> <td>   -0.052</td>\n",
       "</tr>\n",
       "<tr>\n",
       "  <th>No Control</th>                        <td>   -0.2400</td> <td>    0.066</td> <td>   -3.649</td> <td> 0.000</td> <td>   -0.369</td> <td>   -0.111</td>\n",
       "</tr>\n",
       "<tr>\n",
       "  <th>One-way Carriageway</th>               <td>   -0.3520</td> <td>    0.056</td> <td>   -6.292</td> <td> 0.000</td> <td>   -0.462</td> <td>   -0.242</td>\n",
       "</tr>\n",
       "<tr>\n",
       "  <th>Two-way Carriageway</th>               <td>    0.0322</td> <td>    0.058</td> <td>    0.559</td> <td> 0.576</td> <td>   -0.081</td> <td>    0.145</td>\n",
       "</tr>\n",
       "<tr>\n",
       "  <th>Under 15</th>                          <td>   -0.0615</td> <td>    0.064</td> <td>   -0.963</td> <td> 0.336</td> <td>   -0.187</td> <td>    0.064</td>\n",
       "</tr>\n",
       "<tr>\n",
       "  <th>Above 65</th>                          <td>    0.9650</td> <td>    0.043</td> <td>   22.313</td> <td> 0.000</td> <td>    0.880</td> <td>    1.050</td>\n",
       "</tr>\n",
       "<tr>\n",
       "  <th>Male</th>                              <td>   -0.1335</td> <td>    0.037</td> <td>   -3.613</td> <td> 0.000</td> <td>   -0.206</td> <td>   -0.061</td>\n",
       "</tr>\n",
       "<tr>\n",
       "  <th>YEAR_2012</th>                         <td>   -0.1104</td> <td>    0.059</td> <td>   -1.871</td> <td> 0.061</td> <td>   -0.226</td> <td>    0.005</td>\n",
       "</tr>\n",
       "<tr>\n",
       "  <th>YEAR_2013</th>                         <td>   -0.0027</td> <td>    0.058</td> <td>   -0.047</td> <td> 0.963</td> <td>   -0.117</td> <td>    0.111</td>\n",
       "</tr>\n",
       "<tr>\n",
       "  <th>YEAR_2014</th>                         <td>   -0.0345</td> <td>    0.059</td> <td>   -0.585</td> <td> 0.558</td> <td>   -0.150</td> <td>    0.081</td>\n",
       "</tr>\n",
       "<tr>\n",
       "  <th>YEAR_2015</th>                         <td>    0.0678</td> <td>    0.058</td> <td>    1.170</td> <td> 0.242</td> <td>   -0.046</td> <td>    0.181</td>\n",
       "</tr>\n",
       "<tr>\n",
       "  <th>On controlled crossing</th>            <td>    0.4065</td> <td>    0.052</td> <td>    7.818</td> <td> 0.000</td> <td>    0.305</td> <td>    0.508</td>\n",
       "</tr>\n",
       "<tr>\n",
       "  <th>Within 15M of controlled crossing</th> <td>    0.5393</td> <td>    0.073</td> <td>    7.371</td> <td> 0.000</td> <td>    0.396</td> <td>    0.683</td>\n",
       "</tr>\n",
       "</table>"
      ],
      "text/plain": [
       "<class 'statsmodels.iolib.summary.Summary'>\n",
       "\"\"\"\n",
       "                           Logit Regression Results                           \n",
       "==============================================================================\n",
       "Dep. Variable:                 INJURY   No. Observations:                17450\n",
       "Model:                          Logit   Df Residuals:                    17425\n",
       "Method:                           MLE   Df Model:                           24\n",
       "Date:                Sat, 14 Apr 2018   Pseudo R-squ.:                 0.04520\n",
       "Time:                        12:17:26   Log-Likelihood:                -9118.5\n",
       "converged:                       True   LL-Null:                       -9550.1\n",
       "                                        LLR p-value:                8.670e-167\n",
       "=====================================================================================================\n",
       "                                        coef    std err          z      P>|z|      [0.025      0.975]\n",
       "-----------------------------------------------------------------------------------------------------\n",
       "const                                -0.0549      0.187     -0.294      0.769      -0.421       0.311\n",
       "7:00 - 9:59 a.m.                      0.0179      0.057      0.312      0.755      -0.095       0.131\n",
       "10:00 a.m. - 3:59 p.m.               -0.2186      0.048     -4.520      0.000      -0.313      -0.124\n",
       "4:00 - 6:59 p.m.                     -0.2585      0.056     -4.654      0.000      -0.367      -0.150\n",
       "Monday - Friday                       0.0253      0.042      0.602      0.547      -0.057       0.107\n",
       "Light rain                            0.0428      0.061      0.703      0.482      -0.077       0.162\n",
       "Heavy rain                            0.2272      0.131      1.734      0.083      -0.030       0.484\n",
       "Below 50 km/h                        -1.0418      0.204     -5.100      0.000      -1.442      -0.641\n",
       "50 km/h                              -0.9947      0.175     -5.680      0.000      -1.338      -0.651\n",
       "Severe Congestion                    -0.0219      0.052     -0.420      0.675      -0.124       0.081\n",
       "Moderate Congestion                  -0.1327      0.043     -3.100      0.002      -0.217      -0.049\n",
       "Traffic Signal                       -0.0908      0.055     -1.643      0.100      -0.199       0.018\n",
       "Other Control Types                  -0.2196      0.086     -2.562      0.010      -0.388      -0.052\n",
       "No Control                           -0.2400      0.066     -3.649      0.000      -0.369      -0.111\n",
       "One-way Carriageway                  -0.3520      0.056     -6.292      0.000      -0.462      -0.242\n",
       "Two-way Carriageway                   0.0322      0.058      0.559      0.576      -0.081       0.145\n",
       "Under 15                             -0.0615      0.064     -0.963      0.336      -0.187       0.064\n",
       "Above 65                              0.9650      0.043     22.313      0.000       0.880       1.050\n",
       "Male                                 -0.1335      0.037     -3.613      0.000      -0.206      -0.061\n",
       "YEAR_2012                            -0.1104      0.059     -1.871      0.061      -0.226       0.005\n",
       "YEAR_2013                            -0.0027      0.058     -0.047      0.963      -0.117       0.111\n",
       "YEAR_2014                            -0.0345      0.059     -0.585      0.558      -0.150       0.081\n",
       "YEAR_2015                             0.0678      0.058      1.170      0.242      -0.046       0.181\n",
       "On controlled crossing                0.4065      0.052      7.818      0.000       0.305       0.508\n",
       "Within 15M of controlled crossing     0.5393      0.073      7.371      0.000       0.396       0.683\n",
       "=====================================================================================================\n",
       "\"\"\""
      ]
     },
     "execution_count": 56,
     "metadata": {},
     "output_type": "execute_result"
    }
   ],
   "source": [
    "r_pedest.summary()"
   ]
  },
  {
   "cell_type": "code",
   "execution_count": 57,
   "metadata": {},
   "outputs": [
    {
     "name": "stdout",
     "output_type": "stream",
     "text": [
      "                                       2.5%     97.5%  Odds Ratio\n",
      "const                              0.656235  1.365375    0.946576\n",
      "7:00 - 9:59 a.m.                   0.909680  1.139450    1.018104\n",
      "10:00 a.m. - 3:59 p.m.             0.730925  0.883532    0.803614\n",
      "4:00 - 6:59 p.m.                   0.692578  0.861025    0.772222\n",
      "Monday - Friday                    0.944638  1.113481    1.025591\n",
      "Light rain                         0.926213  1.176214    1.043755\n",
      "Heavy rain                         0.970861  1.622595    1.255115\n",
      "Below 50 km/h                      0.236428  0.526531    0.352826\n",
      "50 km/h                            0.262384  0.521295    0.369837\n",
      "Severe Congestion                  0.883031  1.083832    0.978293\n",
      "Moderate Congestion                0.805207  0.952369    0.875702\n",
      "Traffic Signal                     0.819495  1.017665    0.913220\n",
      "Other Control Types                0.678629  0.949719    0.802812\n",
      "No Control                         0.691524  0.894870    0.786654\n",
      "One-way Carriageway                0.630222  0.784759    0.703259\n",
      "Two-way Carriageway                0.922500  1.156175    1.032749\n",
      "Under 15                           0.829567  1.065831    0.940308\n",
      "Above 65                           2.411398  2.856885    2.624707\n",
      "Male                               0.813967  0.940762    0.875071\n",
      "YEAR_2012                          0.797677  1.005246    0.895467\n",
      "YEAR_2013                          0.889841  1.117718    0.997292\n",
      "YEAR_2014                          0.860753  1.084337    0.966098\n",
      "YEAR_2015                          0.955289  1.198807    1.070144\n",
      "On controlled crossing             1.356012  1.662552    1.501479\n",
      "Within 15M of controlled crossing  1.485684  1.979131    1.714748\n"
     ]
    }
   ],
   "source": [
    "p_pedest = r_pedest.params\n",
    "c_pedest = r_pedest.conf_int()\n",
    "c_pedest['OR'] = p_pedest\n",
    "c_pedest.columns = ['2.5%', '97.5%', 'Odds Ratio']\n",
    "print(np.exp(c_pedest))"
   ]
  },
  {
   "cell_type": "code",
   "execution_count": 58,
   "metadata": {},
   "outputs": [
    {
     "name": "stdout",
     "output_type": "stream",
     "text": [
      "Accuracy: 0.7653868194842407\n"
     ]
    }
   ],
   "source": [
    "print('Accuracy:', accuracy_score(\n",
    "    y_pedest, np.rint(m_pedest.predict(p_pedest, X_pedest))))"
   ]
  },
  {
   "cell_type": "code",
   "execution_count": 59,
   "metadata": {},
   "outputs": [
    {
     "data": {
      "text/html": [
       "<div>\n",
       "<style scoped>\n",
       "    .dataframe tbody tr th:only-of-type {\n",
       "        vertical-align: middle;\n",
       "    }\n",
       "\n",
       "    .dataframe tbody tr th {\n",
       "        vertical-align: top;\n",
       "    }\n",
       "\n",
       "    .dataframe thead th {\n",
       "        text-align: right;\n",
       "    }\n",
       "</style>\n",
       "<table border=\"1\" class=\"dataframe\">\n",
       "  <thead>\n",
       "    <tr style=\"text-align: right;\">\n",
       "      <th></th>\n",
       "      <th>True</th>\n",
       "      <th>False</th>\n",
       "    </tr>\n",
       "  </thead>\n",
       "  <tbody>\n",
       "    <tr>\n",
       "      <th>True</th>\n",
       "      <td>13177</td>\n",
       "      <td>142</td>\n",
       "    </tr>\n",
       "    <tr>\n",
       "      <th>False</th>\n",
       "      <td>3952</td>\n",
       "      <td>179</td>\n",
       "    </tr>\n",
       "  </tbody>\n",
       "</table>\n",
       "</div>"
      ],
      "text/plain": [
       "        True  False\n",
       "True   13177    142\n",
       "False   3952    179"
      ]
     },
     "execution_count": 59,
     "metadata": {},
     "output_type": "execute_result"
    }
   ],
   "source": [
    "pd.DataFrame(confusion_matrix(y_pedest, np.rint(m_pedest.predict(p_pedest, X_pedest))), \n",
    "             index=['True', 'False'], columns=['True', 'False'])"
   ]
  },
  {
   "cell_type": "code",
   "execution_count": null,
   "metadata": {},
   "outputs": [],
   "source": []
  }
 ],
 "metadata": {
  "kernelspec": {
   "display_name": "Python 3",
   "language": "python",
   "name": "python3"
  },
  "language_info": {
   "codemirror_mode": {
    "name": "ipython",
    "version": 3
   },
   "file_extension": ".py",
   "mimetype": "text/x-python",
   "name": "python",
   "nbconvert_exporter": "python",
   "pygments_lexer": "ipython3",
   "version": "3.5.2"
  }
 },
 "nbformat": 4,
 "nbformat_minor": 2
}
