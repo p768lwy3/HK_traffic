{
 "cells": [
  {
   "cell_type": "code",
   "execution_count": 1,
   "metadata": {},
   "outputs": [
    {
     "name": "stderr",
     "output_type": "stream",
     "text": [
      "/usr/local/lib/python3.5/dist-packages/statsmodels/compat/pandas.py:56: FutureWarning: The pandas.core.datetools module is deprecated and will be removed in a future version. Please use the pandas.tseries module instead.\n",
      "  from pandas.core import datetools\n"
     ]
    }
   ],
   "source": [
    "import numpy as np\n",
    "import pandas as pd\n",
    "import statsmodels.api as sm"
   ]
  },
  {
   "cell_type": "code",
   "execution_count": 2,
   "metadata": {},
   "outputs": [],
   "source": [
    "import warnings\n",
    "warnings.filterwarnings(\"ignore\")"
   ]
  },
  {
   "cell_type": "code",
   "execution_count": 3,
   "metadata": {},
   "outputs": [
    {
     "name": "stdout",
     "output_type": "stream",
     "text": [
      "The Year 2010 is read.\n",
      "The Year 2011 is read.\n",
      "The Year 2012 is read.\n",
      "The Year 2013 is read.\n",
      "The Year 2014 is read.\n",
      "The Year 2015 is read.\n",
      "The Year 2016 is read.\n"
     ]
    }
   ],
   "source": [
    "acc_cas = {}\n",
    "for i in range(2010, 2017):\n",
    "    idx = str(i)\n",
    "    acc = pd.read_excel('./input/{0}/Acc_cas {0}.xls'.format(idx))\n",
    "    acc = acc[['ACC_TIME', 'WEEK_DAY', 'RAIN', 'SPEED_LMT', 'TRAFF_CONG', 'JCN_CTRL',\n",
    "               'RD_TYPE', 'CAS_AGE', 'CAS_SEX', 'INJURY', 'ROLE', 'SB_WORN', 'SEAT', \n",
    "               'PED_LOCATN']]\n",
    "\n",
    "    acc['YEAR'] = idx\n",
    "    acc_cas[idx] = acc\n",
    "    print('The Year %s is read.' % idx)"
   ]
  },
  {
   "cell_type": "code",
   "execution_count": 4,
   "metadata": {},
   "outputs": [],
   "source": [
    "acc = acc_cas['2010'].copy()\n",
    "for i in range(2010, 2017):\n",
    "    acc = acc.append(acc_cas[str(i)].copy())"
   ]
  },
  {
   "cell_type": "code",
   "execution_count": 5,
   "metadata": {},
   "outputs": [
    {
     "name": "stdout",
     "output_type": "stream",
     "text": [
      "Time: Count(Proportion)\n",
      "7:00 - 9:59 a.m.: 24693(15.5%)\n",
      "10:00 a.m. - 3:59 p.m.: 53660(33.7%)\n",
      "4:00 - 6:59 p.m.: 31329(19.7%)\n",
      "7:00 p.m. - 6:59 a.m.: 49542(31.1%)\n"
     ]
    }
   ],
   "source": [
    "def str_append(x):\n",
    "    if isinstance(x, str):\n",
    "        counter = ['0' for i in range(4 - len(x))]\n",
    "        counter = ''.join(counter)\n",
    "        x = counter + x\n",
    "        return x\n",
    "    else:\n",
    "        raise TypeError('The function only support string-type input.')\n",
    "\n",
    "\n",
    "acc['ACC_TIME'] = acc['ACC_TIME'].map(\n",
    "    lambda x: str_append(str(x)))\n",
    "acc['HOUR'] = pd.to_datetime(\n",
    "    acc['ACC_TIME'], format='%H%M').dt.hour\n",
    "t0 = acc['HOUR'][acc['HOUR'].isin(\n",
    "    [7, 8, 9])].count()  # 700am-959am\n",
    "t1 = acc['HOUR'][acc['HOUR'].isin(\n",
    "    [10, 11, 12, 13, 14, 15])].count()  # 1000am-0359pm\n",
    "t2 = acc['HOUR'][acc['HOUR'].isin(\n",
    "    [16, 17, 18])].count()  # 0400pm-0659pm\n",
    "t3 = acc['HOUR'][acc['HOUR'].isin(\n",
    "    [19, 20, 21, 22, 23, 0, 1, 2, 3, 4, 5, 6])].count()  # 0700pm-0659am\n",
    "print('Time: Count(Proportion)')\n",
    "print('7:00 - 9:59 a.m.: %d(%.1f%%)' %\n",
    "      (t0, t0/acc['HOUR'].count()*100))\n",
    "print('10:00 a.m. - 3:59 p.m.: %d(%.1f%%)' %\n",
    "      (t1, t1/acc['HOUR'].count()*100))\n",
    "print('4:00 - 6:59 p.m.: %d(%.1f%%)' %\n",
    "      (t2, t2/acc['HOUR'].count()*100))\n",
    "print('7:00 p.m. - 6:59 a.m.: %d(%.1f%%)' %\n",
    "      (t3, t3/acc['HOUR'].count()*100))"
   ]
  },
  {
   "cell_type": "code",
   "execution_count": 6,
   "metadata": {},
   "outputs": [
    {
     "name": "stdout",
     "output_type": "stream",
     "text": [
      "Day of week: Count(Proportion)\n",
      "Monday - Friday: 111410(70.0%)\n",
      "Weekend: 47814(30.0%)\n"
     ]
    }
   ],
   "source": [
    "weekday_row = acc['WEEK_DAY'].isin([1, 2, 3, 4, 5])\n",
    "weekday = acc['WEEK_DAY'][weekday_row].count()\n",
    "weekend = acc['WEEK_DAY'][~weekday_row].count()\n",
    "print('Day of week: Count(Proportion)')\n",
    "print('Monday - Friday: %d(%.1f%%)' %\n",
    "      (weekday, weekday/acc['WEEK_DAY'].count()*100))\n",
    "print('Weekend: %d(%.1f%%)' %\n",
    "      (weekend, weekend/acc['WEEK_DAY'].count()*100))"
   ]
  },
  {
   "cell_type": "code",
   "execution_count": 7,
   "metadata": {},
   "outputs": [
    {
     "name": "stdout",
     "output_type": "stream",
     "text": [
      "Rain: Count(Proportion)\n",
      "No Rain: 136458(85.7%)\n",
      "Light Rain: 18851(11.8%)\n",
      "Heavy Rain: 3365(2.1%)\n",
      "Unknown: 550(0.3%)\n"
     ]
    }
   ],
   "source": [
    "r0 = acc['RAIN'][acc['RAIN'] == 1].count()\n",
    "r1 = acc['RAIN'][acc['RAIN'] == 2].count()\n",
    "r2 = acc['RAIN'][acc['RAIN'] == 3].count()\n",
    "r3 = acc['RAIN'][acc['RAIN'].isin([9, 0])].count()\n",
    "\n",
    "print('Rain: Count(Proportion)')\n",
    "print('No Rain: %d(%.1f%%)' % (r0, r0/acc['RAIN'].count()*100))\n",
    "print('Light Rain: %d(%.1f%%)' % (r1, r1/acc['RAIN'].count()*100))\n",
    "print('Heavy Rain: %d(%.1f%%)' % (r2, r2/acc['RAIN'].count()*100))\n",
    "print('Unknown: %d(%.1f%%)' % (r3, r3/acc['RAIN'].count()*100))"
   ]
  },
  {
   "cell_type": "code",
   "execution_count": 8,
   "metadata": {},
   "outputs": [
    {
     "name": "stdout",
     "output_type": "stream",
     "text": [
      "Speed Limit: Count(Proportion)\n",
      "50km/h: 135340(85.0%)\n",
      "Under 50km/h: 3517(2.2%)\n",
      "Above 50km/h: 20367(12.8%)\n"
     ]
    }
   ],
   "source": [
    "s0 = acc['SPEED_LMT'][acc['SPEED_LMT'] == 50].count()\n",
    "s1 = acc['SPEED_LMT'][acc['SPEED_LMT'] < 50].count()\n",
    "s2 = acc['SPEED_LMT'][acc['SPEED_LMT'] > 50].count()\n",
    "\n",
    "print('Speed Limit: Count(Proportion)')\n",
    "print('50km/h: %d(%.1f%%)' % (s0, s0/acc['SPEED_LMT'].count()*100))\n",
    "print('Under 50km/h: %d(%.1f%%)' % (s1, s1/acc['SPEED_LMT'].count()*100))\n",
    "print('Above 50km/h: %d(%.1f%%)' % (s2, s2/acc['SPEED_LMT'].count()*100))"
   ]
  },
  {
   "cell_type": "code",
   "execution_count": 9,
   "metadata": {},
   "outputs": [
    {
     "name": "stdout",
     "output_type": "stream",
     "text": [
      "Traffic Congestion: Count(Proportion)\n",
      "None: 93839(58.9%)\n",
      "Severe Congestion: 23799(14.9%)\n",
      "Moderate Congestion: 38885(24.4%)\n",
      "Unknown: 2701(1.7%)\n"
     ]
    }
   ],
   "source": [
    "t0 = acc['TRAFF_CONG'][acc['TRAFF_CONG'] == 3].count()\n",
    "t1 = acc['TRAFF_CONG'][acc['TRAFF_CONG'] == 1].count()\n",
    "t2 = acc['TRAFF_CONG'][acc['TRAFF_CONG'] == 2].count()\n",
    "t3 = acc['TRAFF_CONG'][acc['TRAFF_CONG'].isin([9, 0])].count()\n",
    "\n",
    "print('Traffic Congestion: Count(Proportion)')\n",
    "print('None: %d(%.1f%%)' % (t0, t0/acc['TRAFF_CONG'].count()*100))\n",
    "print('Severe Congestion: %d(%.1f%%)' % (t1, t1/acc['TRAFF_CONG'].count()*100))\n",
    "print('Moderate Congestion: %d(%.1f%%)' % (t2, t2/acc['TRAFF_CONG'].count()*100))\n",
    "print('Unknown: %d(%.1f%%)' % (t3, t3/acc['TRAFF_CONG'].count()*100))"
   ]
  },
  {
   "cell_type": "code",
   "execution_count": 10,
   "metadata": {},
   "outputs": [
    {
     "name": "stdout",
     "output_type": "stream",
     "text": [
      "Traffic Congestion: Count(Proportion)\n",
      "Non Junction: 120557(75.7%)\n",
      "Traffic Signal: 21598(13.6%)\n",
      "Other Control Types: 7580(4.8%)\n",
      "No Control: 9415(5.9%)\n",
      "Unknown: 74(0.0%)\n"
     ]
    }
   ],
   "source": [
    "j0 = acc['JCN_CTRL'][acc['JCN_CTRL'] == 6].count()\n",
    "j1 = acc['JCN_CTRL'][acc['JCN_CTRL'] == 4].count()\n",
    "j2 = acc['JCN_CTRL'][acc['JCN_CTRL'].isin([2, 3, 5])].count()\n",
    "j3 = acc['JCN_CTRL'][acc['JCN_CTRL'] == 1].count()\n",
    "j4 = acc['JCN_CTRL'][acc['JCN_CTRL'] == 0].count()\n",
    "\n",
    "print('Traffic Congestion: Count(Proportion)')\n",
    "print('Non Junction: %d(%.1f%%)' % (j0, j0/acc['JCN_CTRL'].count()*100))\n",
    "print('Traffic Signal: %d(%.1f%%)' % (j1, j1/acc['JCN_CTRL'].count()*100))\n",
    "print('Other Control Types: %d(%.1f%%)' % (j2, j2/acc['JCN_CTRL'].count()*100))\n",
    "print('No Control: %d(%.1f%%)' % (j3, j3/acc['JCN_CTRL'].count()*100))\n",
    "print('Unknown: %d(%.1f%%)' % (j4, j4/acc['JCN_CTRL'].count()*100))"
   ]
  },
  {
   "cell_type": "code",
   "execution_count": 11,
   "metadata": {},
   "outputs": [
    {
     "name": "stdout",
     "output_type": "stream",
     "text": [
      "Traffic Congestion: Count(Proportion)\n",
      "Multi-/dual Carriageway: 39048(24.5%)\n",
      "One-way Carriageway: 63858(40.1%)\n",
      "Two-way Carriageway: 56265(35.3%)\n",
      "Unknown: 53(0.0%)\n"
     ]
    }
   ],
   "source": [
    "r0 = acc['RD_TYPE'][acc['RD_TYPE'].isin([3, 4])].count()\n",
    "r1 = acc['RD_TYPE'][acc['RD_TYPE'] == 1].count()\n",
    "r2 = acc['RD_TYPE'][acc['RD_TYPE'] == 2].count()\n",
    "r3 = acc['RD_TYPE'][acc['RD_TYPE'] == 0].count()\n",
    "\n",
    "print('Traffic Congestion: Count(Proportion)')\n",
    "print('Multi-/dual Carriageway: %d(%.1f%%)' % (r0, r0/acc['RD_TYPE'].count()*100))\n",
    "print('One-way Carriageway: %d(%.1f%%)' % (r1, r1/acc['RD_TYPE'].count()*100))\n",
    "print('Two-way Carriageway: %d(%.1f%%)' % (r2, r2/acc['RD_TYPE'].count()*100))\n",
    "print('Unknown: %d(%.1f%%)' % (r3, r3/acc['RD_TYPE'].count()*100))"
   ]
  },
  {
   "cell_type": "code",
   "execution_count": 12,
   "metadata": {},
   "outputs": [
    {
     "name": "stdout",
     "output_type": "stream",
     "text": [
      "Age: Count(Proportion)\n",
      "Under 15: 10948(6.9%)\n",
      "15 - 65: 132512(83.2%)\n",
      "Above 65: 13812(8.7%)\n",
      "Unknown: 1949(1.2%)\n"
     ]
    }
   ],
   "source": [
    "# split out the values of unknown\n",
    "unknown_row = acc['CAS_AGE'].isin([0, 99, 999])\n",
    "unknown = acc['CAS_AGE'][unknown_row]\n",
    "dta_age = acc['CAS_AGE'][~unknown_row]\n",
    "\n",
    "age_grouped = pd.cut(dta_age, [0, 15, 65, 120], labels=['<15', '15-65', '>65'])\n",
    "age0 = age_grouped.value_counts()['<15']\n",
    "age1 = age_grouped.value_counts()['15-65']\n",
    "age2 = age_grouped.value_counts()['>65']\n",
    "ageunknown = unknown.count()\n",
    "print('Age: Count(Proportion)')\n",
    "print('Under 15: %d(%.1f%%)' %\n",
    "      (age0, age0/acc['CAS_AGE'].count()*100))\n",
    "print('15 - 65: %d(%.1f%%)' %\n",
    "      (age1, age1/acc['CAS_AGE'].count()*100))\n",
    "print('Above 65: %d(%.1f%%)' %\n",
    "      (age2, age2/acc['CAS_AGE'].count()*100))\n",
    "print('Unknown: %d(%.1f%%)' %\n",
    "      (ageunknown, ageunknown/acc['CAS_AGE'].count()*100))"
   ]
  },
  {
   "cell_type": "code",
   "execution_count": 13,
   "metadata": {},
   "outputs": [
    {
     "name": "stdout",
     "output_type": "stream",
     "text": [
      "Sex: Count(Proportion)\n",
      "Male: 100390(63.0%)\n",
      "Famale: 58570(36.8%)\n",
      "Unknown: 264(0.2%)\n"
     ]
    }
   ],
   "source": [
    "sex0 = acc['CAS_SEX'].value_counts()[1]\n",
    "sex1 = acc['CAS_SEX'].value_counts()[2]\n",
    "sex2 = acc['CAS_SEX'].value_counts()[9]\n",
    "print('Sex: Count(Proportion)')\n",
    "print('Male: %d(%.1f%%)' %\n",
    "      (sex0, sex0/acc['CAS_SEX'].count()*100))\n",
    "print('Famale: %d(%.1f%%)' %\n",
    "      (sex1, sex1/acc['CAS_SEX'].count()*100))\n",
    "print('Unknown: %d(%.1f%%)' %\n",
    "      (sex2, sex2/acc['CAS_SEX'].count()*100))"
   ]
  },
  {
   "cell_type": "code",
   "execution_count": 14,
   "metadata": {},
   "outputs": [
    {
     "name": "stdout",
     "output_type": "stream",
     "text": [
      "Injury Severity: Count(Proportion)\n",
      "Killed or severe injury: 20575(12.9%)\n",
      "Slight Injury: 138649(87.1%)\n"
     ]
    }
   ],
   "source": [
    "injury0 = acc['INJURY'].value_counts()[1] + acc['INJURY'].value_counts()[2]\n",
    "injury1 = acc['INJURY'].value_counts()[3]\n",
    "print('Injury Severity: Count(Proportion)')\n",
    "print('Killed or severe injury: %d(%.1f%%)' %\n",
    "      (injury0, injury0/acc['INJURY'].count()*100))\n",
    "print('Slight Injury: %d(%.1f%%)' %\n",
    "      (injury1, injury1/acc['INJURY'].count()*100))"
   ]
  },
  {
   "cell_type": "code",
   "execution_count": 15,
   "metadata": {},
   "outputs": [
    {
     "name": "stdout",
     "output_type": "stream",
     "text": [
      "Seat belt or crash helmet worn: Count(Proportion)\n",
      "Yes: 97637(61.3%)\n",
      "No: 29325(18.4%)\n",
      "Unknown: 32262(20.3%)\n"
     ]
    }
   ],
   "source": [
    "sb0 = acc['SB_WORN'][acc['SB_WORN'] == 1].count()\n",
    "sb1 = acc['SB_WORN'][acc['SB_WORN'] == 2].count()\n",
    "sb2 = acc['SB_WORN'][acc['SB_WORN'].isin([9, 0])].count()\n",
    "\n",
    "print('Seat belt or crash helmet worn: Count(Proportion)')\n",
    "print('Yes: %d(%.1f%%)' % (sb0, sb0/acc['SB_WORN'].count()*100))\n",
    "print('No: %d(%.1f%%)' % (sb1, sb1/acc['SB_WORN'].count()*100))\n",
    "print('Unknown: %d(%.1f%%)' % (sb2, sb2/acc['SB_WORN'].count()*100))"
   ]
  },
  {
   "cell_type": "code",
   "execution_count": 16,
   "metadata": {},
   "outputs": [],
   "source": [
    "# Split into three group to check these variables proportion\n",
    "accd = acc[acc['ROLE'] == 1]\n",
    "accp = acc[acc['ROLE'] == 2]\n",
    "accpd = acc[acc['ROLE'] == 3]"
   ]
  },
  {
   "cell_type": "code",
   "execution_count": 17,
   "metadata": {},
   "outputs": [
    {
     "name": "stdout",
     "output_type": "stream",
     "text": [
      "Seat belt or crash helmet worn: Count(Proportion)\n",
      "Yes: 61077(80.4%)\n",
      "No: 13735(18.1%)\n",
      "Unknown: 1160(1.5%)\n"
     ]
    }
   ],
   "source": [
    "sb0 = accd['SB_WORN'][accd['SB_WORN'] == 1].count()\n",
    "sb1 = accd['SB_WORN'][accd['SB_WORN'] == 2].count()\n",
    "sb2 = accd['SB_WORN'][accd['SB_WORN'].isin([9, 0])].count()\n",
    "\n",
    "print('Seat belt or crash helmet worn: Count(Proportion)')\n",
    "print('Yes: %d(%.1f%%)' % (sb0, sb0/accd['SB_WORN'].count()*100))\n",
    "print('No: %d(%.1f%%)' % (sb1, sb1/accd['SB_WORN'].count()*100))\n",
    "print('Unknown: %d(%.1f%%)' % (sb2, sb2/accd['SB_WORN'].count()*100))"
   ]
  },
  {
   "cell_type": "code",
   "execution_count": 18,
   "metadata": {},
   "outputs": [
    {
     "name": "stdout",
     "output_type": "stream",
     "text": [
      "Seat belt or crash helmet worn: Count(Proportion)\n",
      "Yes: 36560(68.3%)\n",
      "No: 15590(29.1%)\n",
      "Unknown: 1404(2.6%)\n"
     ]
    }
   ],
   "source": [
    "sb0 = accp['SB_WORN'][accp['SB_WORN'] == 1].count()\n",
    "sb1 = accp['SB_WORN'][accp['SB_WORN'] == 2].count()\n",
    "sb2 = accp['SB_WORN'][accp['SB_WORN'].isin([9, 0])].count()\n",
    "\n",
    "print('Seat belt or crash helmet worn: Count(Proportion)')\n",
    "print('Yes: %d(%.1f%%)' % (sb0, sb0/accp['SB_WORN'].count()*100))\n",
    "print('No: %d(%.1f%%)' % (sb1, sb1/accp['SB_WORN'].count()*100))\n",
    "print('Unknown: %d(%.1f%%)' % (sb2, sb2/accp['SB_WORN'].count()*100))"
   ]
  },
  {
   "cell_type": "code",
   "execution_count": 19,
   "metadata": {},
   "outputs": [
    {
     "name": "stdout",
     "output_type": "stream",
     "text": [
      "Seat belt or crash helmet worn: Count(Proportion)\n",
      "Yes: 0(0.0%)\n",
      "No: 0(0.0%)\n",
      "Unknown: 29698(100.0%)\n"
     ]
    }
   ],
   "source": [
    "sb0 = accpd['SB_WORN'][accpd['SB_WORN'] == 1].count()\n",
    "sb1 = accpd['SB_WORN'][accpd['SB_WORN'] == 2].count()\n",
    "sb2 = accpd['SB_WORN'][accpd['SB_WORN'].isin([9, 0])].count()\n",
    "\n",
    "print('Seat belt or crash helmet worn: Count(Proportion)')\n",
    "print('Yes: %d(%.1f%%)' % (sb0, sb0/accpd['SB_WORN'].count()*100))\n",
    "print('No: %d(%.1f%%)' % (sb1, sb1/accpd['SB_WORN'].count()*100))\n",
    "print('Unknown: %d(%.1f%%)' % (sb2, sb2/accpd['SB_WORN'].count()*100))"
   ]
  },
  {
   "cell_type": "code",
   "execution_count": 20,
   "metadata": {},
   "outputs": [
    {
     "name": "stdout",
     "output_type": "stream",
     "text": [
      "Seat Occupied: Count(Proportion)\n",
      "Driver/Rider: 75972(47.7%)\n",
      "Front Nearside: 9680(6.1%)\n",
      "Rear: 32313(20.3%)\n",
      "Standing: 9365(5.9%)\n",
      "Others: 0(0.0%)\n",
      "Unknown: 0(0.0%)\n"
     ]
    }
   ],
   "source": [
    "s0 = acc['SEAT'][acc['SEAT'] == 3].count()\n",
    "s1 = acc['SEAT'][acc['SEAT'] == 2].count()\n",
    "s2 = acc['SEAT'][acc['SEAT'] == 1].count()\n",
    "s3 = acc['SEAT'][acc['SEAT'].isin([4, 8])].count()\n",
    "s4 = accd['SEAT'][accd['SEAT'].isin([6, 7])].count()\n",
    "s5 = accd['SEAT'][accd['SEAT'].isin([0, 9])].count()\n",
    "\n",
    "print('Seat Occupied: Count(Proportion)')\n",
    "print('Driver/Rider: %d(%.1f%%)' % (s0, s0/acc['SEAT'].count()*100))\n",
    "print('Front Nearside: %d(%.1f%%)' % (s1, s1/acc['SEAT'].count()*100))\n",
    "print('Rear: %d(%.1f%%)' % (s2, s2/acc['SEAT'].count()*100))\n",
    "print('Standing: %d(%.1f%%)' % (s3, s3/acc['SEAT'].count()*100))\n",
    "print('Others: %d(%.1f%%)' % (s4, s4/acc['SEAT'].count()*100))\n",
    "print('Unknown: %d(%.1f%%)' % (s5, s5/acc['SEAT'].count()*100))"
   ]
  },
  {
   "cell_type": "code",
   "execution_count": 21,
   "metadata": {},
   "outputs": [
    {
     "name": "stdout",
     "output_type": "stream",
     "text": [
      "Seat Occupied: Count(Proportion)\n",
      "Driver/Rider: 75972(100.0%)\n",
      "Front Nearside: 0(0.0%)\n",
      "Rear: 0(0.0%)\n",
      "Standing: 0(0.0%)\n",
      "Others: 0(0.0%)\n",
      "Unknown: 0(0.0%)\n"
     ]
    }
   ],
   "source": [
    "s0 = accd['SEAT'][accd['SEAT'] == 3].count()\n",
    "s1 = accd['SEAT'][accd['SEAT'] == 2].count()\n",
    "s2 = accd['SEAT'][accd['SEAT'] == 1].count()\n",
    "s3 = accd['SEAT'][accd['SEAT'].isin([4, 8])].count()\n",
    "s4 = accd['SEAT'][accd['SEAT'].isin([6, 7])].count()\n",
    "s5 = accd['SEAT'][accd['SEAT'].isin([0, 9])].count()\n",
    "\n",
    "print('Seat Occupied: Count(Proportion)')\n",
    "print('Driver/Rider: %d(%.1f%%)' % (s0, s0/accd['SEAT'].count()*100))\n",
    "print('Front Nearside: %d(%.1f%%)' % (s1, s1/accd['SEAT'].count()*100))\n",
    "print('Rear: %d(%.1f%%)' % (s2, s2/accd['SEAT'].count()*100))\n",
    "print('Standing: %d(%.1f%%)' % (s3, s3/accd['SEAT'].count()*100))\n",
    "print('Others: %d(%.1f%%)' % (s4, s4/accd['SEAT'].count()*100))\n",
    "print('Unknown: %d(%.1f%%)' % (s5, s5/accd['SEAT'].count()*100))"
   ]
  },
  {
   "cell_type": "code",
   "execution_count": 22,
   "metadata": {},
   "outputs": [
    {
     "name": "stdout",
     "output_type": "stream",
     "text": [
      "Seat Occupied: Count(Proportion)\n",
      "Driver/Rider: 0(0.0%)\n",
      "Front Nearside: 9680(18.1%)\n",
      "Rear: 32313(60.3%)\n",
      "Standing: 9365(17.5%)\n",
      "Others: 26(0.0%)\n",
      "Unknown: 2170(4.1%)\n"
     ]
    }
   ],
   "source": [
    "s0 = accp['SEAT'][accp['SEAT'] == 3].count()\n",
    "s1 = accp['SEAT'][accp['SEAT'] == 2].count()\n",
    "s2 = accp['SEAT'][accp['SEAT'] == 1].count()\n",
    "s3 = accp['SEAT'][accp['SEAT'].isin([4, 8])].count()\n",
    "s4 = accp['SEAT'][accp['SEAT'].isin([6, 7])].count()\n",
    "s5 = accp['SEAT'][accp['SEAT'].isin([0, 9])].count()\n",
    "\n",
    "print('Seat Occupied: Count(Proportion)')\n",
    "print('Driver/Rider: %d(%.1f%%)' % (s0, s0/accp['SEAT'].count()*100))\n",
    "print('Front Nearside: %d(%.1f%%)' % (s1, s1/accp['SEAT'].count()*100))\n",
    "print('Rear: %d(%.1f%%)' % (s2, s2/accp['SEAT'].count()*100))\n",
    "print('Standing: %d(%.1f%%)' % (s3, s3/accp['SEAT'].count()*100))\n",
    "print('Others: %d(%.1f%%)' % (s4, s4/accp['SEAT'].count()*100))\n",
    "print('Unknown: %d(%.1f%%)' % (s5, s5/accp['SEAT'].count()*100))"
   ]
  },
  {
   "cell_type": "code",
   "execution_count": 23,
   "metadata": {},
   "outputs": [
    {
     "name": "stdout",
     "output_type": "stream",
     "text": [
      "Seat Occupied: Count(Proportion)\n",
      "Driver/Rider: 0(0.0%)\n",
      "Front Nearside: 0(0.0%)\n",
      "Rear: 0(0.0%)\n",
      "Standing: 0(0.0%)\n",
      "Others: 0(0.0%)\n",
      "Unknown: 29698(100.0%)\n"
     ]
    }
   ],
   "source": [
    "s0 = accpd['SEAT'][accpd['SEAT'] == 3].count()\n",
    "s1 = accpd['SEAT'][accpd['SEAT'] == 2].count()\n",
    "s2 = accpd['SEAT'][accpd['SEAT'] == 1].count()\n",
    "s3 = accpd['SEAT'][accpd['SEAT'].isin([4, 8])].count()\n",
    "s4 = accpd['SEAT'][accpd['SEAT'].isin([6, 7])].count()\n",
    "s5 = accpd['SEAT'][accpd['SEAT'].isin([0, 9])].count()\n",
    "\n",
    "print('Seat Occupied: Count(Proportion)')\n",
    "print('Driver/Rider: %d(%.1f%%)' % (s0, s0/accpd['SEAT'].count()*100))\n",
    "print('Front Nearside: %d(%.1f%%)' % (s1, s1/accpd['SEAT'].count()*100))\n",
    "print('Rear: %d(%.1f%%)' % (s2, s2/accpd['SEAT'].count()*100))\n",
    "print('Standing: %d(%.1f%%)' % (s3, s3/accpd['SEAT'].count()*100))\n",
    "print('Others: %d(%.1f%%)' % (s4, s4/accpd['SEAT'].count()*100))\n",
    "print('Unknown: %d(%.1f%%)' % (s5, s5/accpd['SEAT'].count()*100))"
   ]
  },
  {
   "cell_type": "code",
   "execution_count": 24,
   "metadata": {},
   "outputs": [
    {
     "name": "stdout",
     "output_type": "stream",
     "text": [
      "Pedestrian Location: Count(Proportion)\n",
      "On controlled crossing: 4351(2.7%)\n",
      "Within 15M of controlled crossing: 1853(1.2%)\n",
      "Others: 22971(14.4%)\n",
      "Unknown: 130049(82%)\n"
     ]
    }
   ],
   "source": [
    "p0 = acc['PED_LOCATN'][acc['PED_LOCATN'] == 3].count()\n",
    "p1 = acc['PED_LOCATN'][acc['PED_LOCATN'] == 4].count()\n",
    "p2 = acc['PED_LOCATN'][acc['PED_LOCATN'].isin([1, 2, 5, 8])].count()\n",
    "p3 = acc['PED_LOCATN'][acc['PED_LOCATN'].isin([0, 9])].count()\n",
    "\n",
    "print('Pedestrian Location: Count(Proportion)')\n",
    "print('On controlled crossing: %d(%.1f%%)' % (p0, p0/acc['PED_LOCATN'].count()*100))\n",
    "print('Within 15M of controlled crossing: %d(%.1f%%)' % (p1, p1/acc['PED_LOCATN'].count()*100))\n",
    "print('Others: %d(%.1f%%)' % (p2, p2/acc['PED_LOCATN'].count()*100))\n",
    "print('Unknown: %d(%1.f%%)' % (p3, p3/acc['PED_LOCATN'].count()*100))"
   ]
  },
  {
   "cell_type": "code",
   "execution_count": 25,
   "metadata": {},
   "outputs": [
    {
     "name": "stdout",
     "output_type": "stream",
     "text": [
      "Pedestrian Location: Count(Proportion)\n",
      "On controlled crossing: 4351(14.7%)\n",
      "Within 15M of controlled crossing: 1853(6.2%)\n",
      "Others: 22971(77.3%)\n",
      "Unkown: 523(2%)\n"
     ]
    }
   ],
   "source": [
    "pp0 = accpd['PED_LOCATN'][accpd['PED_LOCATN'] == 3].count()\n",
    "pp1 = accpd['PED_LOCATN'][accpd['PED_LOCATN'] == 4].count()\n",
    "pp2 = accpd['PED_LOCATN'][accpd['PED_LOCATN'].isin([1, 2, 5, 8])].count()\n",
    "pp3 = accpd['PED_LOCATN'][accpd['PED_LOCATN'].isin([0, 9])].count()\n",
    "\n",
    "print('Pedestrian Location: Count(Proportion)')\n",
    "print('On controlled crossing: %d(%.1f%%)' % (pp0, pp0/accpd['PED_LOCATN'].count()*100))\n",
    "print('Within 15M of controlled crossing: %d(%.1f%%)' % (pp1, pp1/accpd['PED_LOCATN'].count()*100))\n",
    "print('Others: %d(%.1f%%)' % (pp2, pp2/accpd['PED_LOCATN'].count()*100))\n",
    "print('Unkown: %d(%1.f%%)' % (pp3, pp3/accpd['PED_LOCATN'].count()*100))"
   ]
  },
  {
   "cell_type": "code",
   "execution_count": 26,
   "metadata": {},
   "outputs": [
    {
     "name": "stdout",
     "output_type": "stream",
     "text": [
      "2010    38248\n",
      "2013    20596\n",
      "2015    20381\n",
      "2012    20210\n",
      "2016    20132\n",
      "2014    19854\n",
      "2011    19803\n",
      "Name: YEAR, dtype: int64\n",
      "2010    0.240215\n",
      "2013    0.129352\n",
      "2015    0.128002\n",
      "2012    0.126928\n",
      "2016    0.126438\n",
      "2014    0.124692\n",
      "2011    0.124372\n",
      "Name: YEAR, dtype: float64\n"
     ]
    }
   ],
   "source": [
    "print(acc['YEAR'].value_counts())\n",
    "print(acc['YEAR'].value_counts(normalize=True))"
   ]
  },
  {
   "cell_type": "code",
   "execution_count": 29,
   "metadata": {},
   "outputs": [],
   "source": [
    "# ACC_TIME\n",
    "acc['ACC_TIME'] = acc['ACC_TIME'].map(\n",
    "    lambda x: str_append(str(x)))\n",
    "acc['HOUR'] = pd.to_datetime(acc['ACC_TIME'], format='%H%M').dt.hour\n",
    "# Split into four group,\n",
    "acc['HOUR'][acc['HOUR'].isin([7, 8, 9])] = '7:00 - 9:59 a.m.'\n",
    "acc['HOUR'][acc['HOUR'].isin(\n",
    "    [10, 11, 12, 13, 14, 15])] = '10:00 a.m. - 3:59 p.m.'\n",
    "acc['HOUR'][acc['HOUR'].isin([16, 17, 18])] = '4:00 - 6:59 p.m.'\n",
    "acc['HOUR'][acc['HOUR'].isin(\n",
    "    [19, 20, 21, 22, 23, 0, 1, 2, 3, 4, 5, 6])] = '7:00 p.m. - 6:59 a.m.'\n",
    "# Convert to dummy variables\n",
    "acc['HOUR'][acc['HOUR'] == '7:00 p.m. - 6:59 a.m.'] = 0\n",
    "acc['HOUR'][acc['HOUR'] == '7:00 - 9:59 a.m.'] = 1\n",
    "acc['HOUR'][acc['HOUR'] == '10:00 a.m. - 3:59 p.m.'] = 2\n",
    "acc['HOUR'][acc['HOUR'] == '4:00 - 6:59 p.m.'] = 3\n",
    "# Merge into acc\n",
    "dummy = pd.get_dummies(acc['HOUR'], drop_first=True).rename(columns={1: '7:00 - 9:59 a.m.',\n",
    "                                                                     2: '10:00 a.m. - 3:59 p.m.',\n",
    "                                                                     3: '4:00 - 6:59 p.m.'})\n",
    "acc = pd.concat([acc, dummy], axis=1).drop(['HOUR', 'ACC_TIME'], axis=1)"
   ]
  },
  {
   "cell_type": "code",
   "execution_count": 30,
   "metadata": {},
   "outputs": [],
   "source": [
    "# Similarly, group and dummy WEEK_DAY,\n",
    "# Split into two group, weekday and weekend, and Convert to dummy variables\n",
    "acc['WEEK_DAY'][acc['WEEK_DAY'].isin([1, 2, 3, 4, 5])] = 1\n",
    "acc['WEEK_DAY'][acc['WEEK_DAY'].isin([6, 7])] = 0\n",
    "# Merge into acc\n",
    "dummy = pd.get_dummies(acc['WEEK_DAY'], drop_first=True).rename(columns={1: 'Monday - Friday'})\n",
    "acc = pd.concat([acc, dummy], axis=1).drop('WEEK_DAY', axis=1)"
   ]
  },
  {
   "cell_type": "code",
   "execution_count": 31,
   "metadata": {},
   "outputs": [],
   "source": [
    "# Similarly, group and dummy RAIN\n",
    "# Remove Unknown rows,\n",
    "acc = acc[~acc['RAIN'].isin([9, 0])]\n",
    "# Convert to dummy variables\n",
    "acc['RAIN'][acc['RAIN'] == 1] = 0\n",
    "acc['RAIN'][acc['RAIN'] == 2] = 1\n",
    "acc['RAIN'][acc['RAIN'] == 3] = 2\n",
    "# Merge into acc\n",
    "dummy = pd.get_dummies(acc['RAIN'], drop_first=True).rename(columns={1: 'Light rain',\n",
    "                                                                     2: 'Heavy rain'})\n",
    "acc = pd.concat([acc, dummy], axis=1).drop('RAIN', axis=1)"
   ]
  },
  {
   "cell_type": "code",
   "execution_count": 32,
   "metadata": {},
   "outputs": [],
   "source": [
    "# Similarly, group and dummy SPEED_LMT\n",
    "# Convert to dummy variables\n",
    "acc['SPEED_LMT'][acc['SPEED_LMT'] > 50] = 0\n",
    "acc['SPEED_LMT'][acc['SPEED_LMT'] < 50] = 1\n",
    "acc['SPEED_LMT'][acc['SPEED_LMT'] == 50] = 2\n",
    "# Merge into acc\n",
    "dummy = pd.get_dummies(acc['SPEED_LMT'], drop_first=True).rename(columns={1: 'Below 50 km/h',\n",
    "                                                                          2: '50 km/h'})\n",
    "acc = pd.concat([acc, dummy], axis=1).drop('SPEED_LMT', axis=1)"
   ]
  },
  {
   "cell_type": "code",
   "execution_count": 33,
   "metadata": {},
   "outputs": [],
   "source": [
    "# Similarly, group and dummy TRAFF_CONG\n",
    "# Remove Unknown rows,\n",
    "acc = acc[~acc['TRAFF_CONG'].isin([9, 0])]\n",
    "# Convert to dummy variables\n",
    "acc['TRAFF_CONG'][acc['TRAFF_CONG'] == 3] = 0\n",
    "# Merge into acc\n",
    "dummy = pd.get_dummies(acc['TRAFF_CONG'], drop_first=True).rename(columns={1: 'Severe Congestion',\n",
    "                                                                           2: 'Moderate Congestion'})\n",
    "acc = pd.concat([acc, dummy], axis=1).drop('TRAFF_CONG', axis=1)"
   ]
  },
  {
   "cell_type": "code",
   "execution_count": 34,
   "metadata": {},
   "outputs": [],
   "source": [
    "# Similarly, group and dummy JCN_CTRL\n",
    "# Remove Unknown rows,\n",
    "acc = acc[~acc['JCN_CTRL'].isin([9, 0])]\n",
    "# Convert to dummy variables\n",
    "acc['JCN_CTRL'][acc['JCN_CTRL'] == 6] = 0\n",
    "acc['JCN_CTRL'][acc['JCN_CTRL'] == 4] = 1\n",
    "acc['JCN_CTRL'][acc['JCN_CTRL'].isin([2, 3, 5])] = 2\n",
    "acc['JCN_CTRL'][acc['JCN_CTRL'] == 1] = 3\n",
    "# Merge into acc\n",
    "dummy = pd.get_dummies(acc['JCN_CTRL'], drop_first=True).rename(columns={1: 'Non Junction',\n",
    "                                                                         2: 'Traffic Signal',\n",
    "                                                                         3: 'Other Control Types',\n",
    "                                                                         4: 'No Control'})\n",
    "acc = pd.concat([acc, dummy], axis=1).drop('JCN_CTRL', axis=1)"
   ]
  },
  {
   "cell_type": "code",
   "execution_count": 35,
   "metadata": {},
   "outputs": [],
   "source": [
    "# Similarly, group and dummy RD_TYPE\n",
    "# Remove Unknown rows\n",
    "acc = acc[~acc['RD_TYPE'].isin([9, 0])]\n",
    "# Convert to dummy variables\n",
    "acc['RD_TYPE'][acc['RD_TYPE'].isin([3, 4])] = 0\n",
    "# Merge into acc\n",
    "dummy = pd.get_dummies(acc['RD_TYPE'], drop_first=True).rename(columns={1: 'One-way Carriageway',\n",
    "                                                                        2: 'Two-way Carriageway'})\n",
    "acc = pd.concat([acc, dummy], axis=1).drop('RD_TYPE', axis=1)"
   ]
  },
  {
   "cell_type": "code",
   "execution_count": 36,
   "metadata": {},
   "outputs": [],
   "source": [
    "# Similarly, group and dummy CAS_AGE\n",
    "# Remove Unknown rows\n",
    "acc = acc[~acc['CAS_AGE'].isin([0, 99, 999])]\n",
    "# Convert to dummy variables\n",
    "acc['CAS_AGE'] = pd.cut(acc['CAS_AGE'], [0, 15, 66, 120], labels=[0, 1, 2])\n",
    "# Merge into acc\n",
    "dummy = pd.get_dummies(acc['CAS_AGE']).rename(columns={0: 'Under 15',\n",
    "                                                       1: '15 - 65',\n",
    "                                                       2: 'Above 65'})\n",
    "acc = pd.concat([acc, dummy], axis=1).drop(['CAS_AGE', '15 - 65'], axis=1)"
   ]
  },
  {
   "cell_type": "code",
   "execution_count": 37,
   "metadata": {},
   "outputs": [],
   "source": [
    "# Similarly, group and dummy CAS_SEX\n",
    "# Remove Unknown rows\n",
    "acc = acc[~acc['CAS_SEX'].isin([0, 9])]\n",
    "# Convert to dummy variables\n",
    "acc['CAS_SEX'][acc['CAS_SEX'] == 2] = 0\n",
    "# Merge into acc\n",
    "dummy = pd.get_dummies(acc['CAS_SEX'], drop_first=True).rename(columns={1: 'Male'})\n",
    "acc = pd.concat([acc, dummy], axis=1).drop('CAS_SEX', axis=1)"
   ]
  },
  {
   "cell_type": "code",
   "execution_count": 38,
   "metadata": {},
   "outputs": [],
   "source": [
    "# Similarly, group and dummy Year\n",
    "dummy = pd.get_dummies(acc['YEAR'], prefix='YEAR').drop('YEAR_2016', axis=1)\n",
    "acc = pd.concat([acc, dummy], axis=1).drop(['YEAR'], axis=1)"
   ]
  },
  {
   "cell_type": "code",
   "execution_count": 39,
   "metadata": {},
   "outputs": [],
   "source": [
    "# Group INJURY for binary classification\n",
    "acc['INJURY'][acc['INJURY'].isin([1, 2])] = 1\n",
    "acc['INJURY'][acc['INJURY'] == 3] = 0\n",
    "# which means the model would find the prob of seriously injury with the given conditions."
   ]
  },
  {
   "cell_type": "code",
   "execution_count": 40,
   "metadata": {},
   "outputs": [
    {
     "data": {
      "text/html": [
       "<div>\n",
       "<style scoped>\n",
       "    .dataframe tbody tr th:only-of-type {\n",
       "        vertical-align: middle;\n",
       "    }\n",
       "\n",
       "    .dataframe tbody tr th {\n",
       "        vertical-align: top;\n",
       "    }\n",
       "\n",
       "    .dataframe thead th {\n",
       "        text-align: right;\n",
       "    }\n",
       "</style>\n",
       "<table border=\"1\" class=\"dataframe\">\n",
       "  <thead>\n",
       "    <tr style=\"text-align: right;\">\n",
       "      <th></th>\n",
       "      <th>INJURY</th>\n",
       "      <th>ROLE</th>\n",
       "      <th>SB_WORN</th>\n",
       "      <th>SEAT</th>\n",
       "      <th>PED_LOCATN</th>\n",
       "      <th>7:00 - 9:59 a.m.</th>\n",
       "      <th>10:00 a.m. - 3:59 p.m.</th>\n",
       "      <th>4:00 - 6:59 p.m.</th>\n",
       "      <th>Monday - Friday</th>\n",
       "      <th>Light rain</th>\n",
       "      <th>...</th>\n",
       "      <th>Two-way Carriageway</th>\n",
       "      <th>Under 15</th>\n",
       "      <th>Above 65</th>\n",
       "      <th>Male</th>\n",
       "      <th>YEAR_2010</th>\n",
       "      <th>YEAR_2011</th>\n",
       "      <th>YEAR_2012</th>\n",
       "      <th>YEAR_2013</th>\n",
       "      <th>YEAR_2014</th>\n",
       "      <th>YEAR_2015</th>\n",
       "    </tr>\n",
       "  </thead>\n",
       "  <tbody>\n",
       "    <tr>\n",
       "      <th>0</th>\n",
       "      <td>1</td>\n",
       "      <td>1</td>\n",
       "      <td>1</td>\n",
       "      <td>3</td>\n",
       "      <td>0</td>\n",
       "      <td>0</td>\n",
       "      <td>0</td>\n",
       "      <td>0</td>\n",
       "      <td>1</td>\n",
       "      <td>0</td>\n",
       "      <td>...</td>\n",
       "      <td>1</td>\n",
       "      <td>0</td>\n",
       "      <td>0</td>\n",
       "      <td>1</td>\n",
       "      <td>1</td>\n",
       "      <td>0</td>\n",
       "      <td>0</td>\n",
       "      <td>0</td>\n",
       "      <td>0</td>\n",
       "      <td>0</td>\n",
       "    </tr>\n",
       "    <tr>\n",
       "      <th>1</th>\n",
       "      <td>0</td>\n",
       "      <td>1</td>\n",
       "      <td>2</td>\n",
       "      <td>3</td>\n",
       "      <td>0</td>\n",
       "      <td>0</td>\n",
       "      <td>1</td>\n",
       "      <td>0</td>\n",
       "      <td>1</td>\n",
       "      <td>0</td>\n",
       "      <td>...</td>\n",
       "      <td>1</td>\n",
       "      <td>0</td>\n",
       "      <td>0</td>\n",
       "      <td>1</td>\n",
       "      <td>1</td>\n",
       "      <td>0</td>\n",
       "      <td>0</td>\n",
       "      <td>0</td>\n",
       "      <td>0</td>\n",
       "      <td>0</td>\n",
       "    </tr>\n",
       "    <tr>\n",
       "      <th>2</th>\n",
       "      <td>0</td>\n",
       "      <td>1</td>\n",
       "      <td>1</td>\n",
       "      <td>3</td>\n",
       "      <td>0</td>\n",
       "      <td>0</td>\n",
       "      <td>0</td>\n",
       "      <td>0</td>\n",
       "      <td>1</td>\n",
       "      <td>0</td>\n",
       "      <td>...</td>\n",
       "      <td>0</td>\n",
       "      <td>0</td>\n",
       "      <td>0</td>\n",
       "      <td>1</td>\n",
       "      <td>1</td>\n",
       "      <td>0</td>\n",
       "      <td>0</td>\n",
       "      <td>0</td>\n",
       "      <td>0</td>\n",
       "      <td>0</td>\n",
       "    </tr>\n",
       "    <tr>\n",
       "      <th>3</th>\n",
       "      <td>0</td>\n",
       "      <td>2</td>\n",
       "      <td>1</td>\n",
       "      <td>2</td>\n",
       "      <td>0</td>\n",
       "      <td>0</td>\n",
       "      <td>0</td>\n",
       "      <td>0</td>\n",
       "      <td>1</td>\n",
       "      <td>0</td>\n",
       "      <td>...</td>\n",
       "      <td>0</td>\n",
       "      <td>0</td>\n",
       "      <td>0</td>\n",
       "      <td>0</td>\n",
       "      <td>1</td>\n",
       "      <td>0</td>\n",
       "      <td>0</td>\n",
       "      <td>0</td>\n",
       "      <td>0</td>\n",
       "      <td>0</td>\n",
       "    </tr>\n",
       "    <tr>\n",
       "      <th>4</th>\n",
       "      <td>0</td>\n",
       "      <td>1</td>\n",
       "      <td>1</td>\n",
       "      <td>3</td>\n",
       "      <td>0</td>\n",
       "      <td>0</td>\n",
       "      <td>0</td>\n",
       "      <td>0</td>\n",
       "      <td>1</td>\n",
       "      <td>0</td>\n",
       "      <td>...</td>\n",
       "      <td>0</td>\n",
       "      <td>0</td>\n",
       "      <td>0</td>\n",
       "      <td>0</td>\n",
       "      <td>1</td>\n",
       "      <td>0</td>\n",
       "      <td>0</td>\n",
       "      <td>0</td>\n",
       "      <td>0</td>\n",
       "      <td>0</td>\n",
       "    </tr>\n",
       "  </tbody>\n",
       "</table>\n",
       "<p>5 rows × 27 columns</p>\n",
       "</div>"
      ],
      "text/plain": [
       "   INJURY  ROLE  SB_WORN  SEAT  PED_LOCATN  7:00 - 9:59 a.m.  \\\n",
       "0       1     1        1     3           0                 0   \n",
       "1       0     1        2     3           0                 0   \n",
       "2       0     1        1     3           0                 0   \n",
       "3       0     2        1     2           0                 0   \n",
       "4       0     1        1     3           0                 0   \n",
       "\n",
       "   10:00 a.m. - 3:59 p.m.  4:00 - 6:59 p.m.  Monday - Friday  Light rain  \\\n",
       "0                       0                 0                1           0   \n",
       "1                       1                 0                1           0   \n",
       "2                       0                 0                1           0   \n",
       "3                       0                 0                1           0   \n",
       "4                       0                 0                1           0   \n",
       "\n",
       "     ...      Two-way Carriageway  Under 15  Above 65  Male  YEAR_2010  \\\n",
       "0    ...                        1         0         0     1          1   \n",
       "1    ...                        1         0         0     1          1   \n",
       "2    ...                        0         0         0     1          1   \n",
       "3    ...                        0         0         0     0          1   \n",
       "4    ...                        0         0         0     0          1   \n",
       "\n",
       "   YEAR_2011  YEAR_2012  YEAR_2013  YEAR_2014  YEAR_2015  \n",
       "0          0          0          0          0          0  \n",
       "1          0          0          0          0          0  \n",
       "2          0          0          0          0          0  \n",
       "3          0          0          0          0          0  \n",
       "4          0          0          0          0          0  \n",
       "\n",
       "[5 rows x 27 columns]"
      ]
     },
     "execution_count": 40,
     "metadata": {},
     "output_type": "execute_result"
    }
   ],
   "source": [
    "acc.head()"
   ]
  },
  {
   "cell_type": "code",
   "execution_count": 41,
   "metadata": {},
   "outputs": [
    {
     "data": {
      "text/plain": [
       "Index(['INJURY', 'ROLE', 'SB_WORN', 'SEAT', 'PED_LOCATN', '7:00 - 9:59 a.m.',\n",
       "       '10:00 a.m. - 3:59 p.m.', '4:00 - 6:59 p.m.', 'Monday - Friday',\n",
       "       'Light rain', 'Heavy rain', '50 km/h', 'Severe Congestion',\n",
       "       'Moderate Congestion', 'Traffic Signal', 'Other Control Types',\n",
       "       'One-way Carriageway', 'Two-way Carriageway', 'Under 15', 'Above 65',\n",
       "       'Male', 'YEAR_2010', 'YEAR_2011', 'YEAR_2012', 'YEAR_2013', 'YEAR_2014',\n",
       "       'YEAR_2015'],\n",
       "      dtype='object')"
      ]
     },
     "execution_count": 41,
     "metadata": {},
     "output_type": "execute_result"
    }
   ],
   "source": [
    "acc.columns"
   ]
  },
  {
   "cell_type": "code",
   "execution_count": 42,
   "metadata": {},
   "outputs": [],
   "source": [
    "# split dataset to into 3 group, driver, passenger and pedestrian"
   ]
  },
  {
   "cell_type": "code",
   "execution_count": 43,
   "metadata": {},
   "outputs": [],
   "source": [
    "acc_driver = acc[acc['ROLE'] == 1].drop(['ROLE', 'SEAT', 'PED_LOCATN'], axis=1)\n",
    "acc_passen = acc[acc['ROLE'] == 2].drop(['ROLE', 'PED_LOCATN'], axis=1)\n",
    "acc_pedest = acc[acc['ROLE'] == 3].drop(['ROLE', 'SEAT', 'SB_WORN'], axis=1)"
   ]
  },
  {
   "cell_type": "code",
   "execution_count": 44,
   "metadata": {},
   "outputs": [],
   "source": [
    "# Similarly, group and dummy SB_WORN, but this is only for driver and passen\n",
    "# Remove Unknown rows\n",
    "acc_driver = acc_driver[~acc_driver['SB_WORN'].isin([0, 9])]\n",
    "acc_passen = acc_passen[~acc_passen['SB_WORN'].isin([0, 9])]\n",
    "# Convert to dummy variables\n",
    "acc_driver['SB_WORN'][acc_driver['SB_WORN'] == 2] = 0\n",
    "acc_passen['SB_WORN'][acc_passen['SB_WORN'] == 2] = 0\n",
    "# Merge into acc\n",
    "dummy = pd.get_dummies(acc_driver['SB_WORN'], drop_first=True).rename(columns={1: 'With belt or helmet'})\n",
    "acc_driver = pd.concat([acc_driver, dummy], axis=1).drop('SB_WORN', axis=1)\n",
    "dummy = pd.get_dummies(acc_passen['SB_WORN'], drop_first=True).rename(columns={1: 'With belt or helmet'})\n",
    "acc_passen = pd.concat([acc_passen, dummy], axis=1).drop('SB_WORN', axis=1)"
   ]
  },
  {
   "cell_type": "code",
   "execution_count": 45,
   "metadata": {},
   "outputs": [],
   "source": [
    "# Similarly, group and dummy SEAT, but this is only for passen\n",
    "# Convert to dummy variables\n",
    "acc_passen['SEAT'][acc_passen['SEAT'].isin([0, 6, 7, 9])] = 5\n",
    "acc_passen['SEAT'][acc_passen['SEAT'].isin([4, 8])] = 4\n",
    "acc_passen['SEAT'][acc_passen['SEAT'] == 3] = 0\n",
    "# Merge into acc\n",
    "# rmk Control variables is Driver/Rider\n",
    "dummy = pd.get_dummies(acc_passen['SEAT'], drop_first=True).rename(\n",
    "    columns={1: 'Rear', 2: 'Front nearside', 4: 'Standing', 5: 'Others'})\n",
    "acc_passen = pd.concat([acc_passen, dummy], axis=1).drop('SEAT', axis=1)"
   ]
  },
  {
   "cell_type": "code",
   "execution_count": 46,
   "metadata": {},
   "outputs": [],
   "source": [
    "# Similarly, group and dummy PED_LOCATN, but this is only for pedest\n",
    "acc_pedest['PED_LOCATN'][acc_pedest['PED_LOCATN'].isin([0, 1, 2, 5, 8, 9])] = 0\n",
    "acc_pedest['PED_LOCATN'][acc_pedest['PED_LOCATN'] == 3] = 1\n",
    "acc_pedest['PED_LOCATN'][acc_pedest['PED_LOCATN'] == 4] = 2\n",
    "# Merge into acc\n",
    "# rmk Control variables is other\n",
    "dummy = pd.get_dummies(acc_pedest['PED_LOCATN'], drop_first=True).rename(\n",
    "    columns={1: 'On controlled crossing', 2: 'Within 15M of controlled crossing'})\n",
    "acc_pedest = pd.concat([acc_pedest, dummy], axis=1).drop('PED_LOCATN', axis=1)"
   ]
  },
  {
   "cell_type": "code",
   "execution_count": 47,
   "metadata": {},
   "outputs": [],
   "source": [
    "X_driver, y_driver = acc_driver.drop('INJURY', axis=1), acc_driver['INJURY']\n",
    "X_passen, y_passen = acc_passen.drop('INJURY', axis=1), acc_passen['INJURY']\n",
    "X_pedest, y_pedest = acc_pedest.drop('INJURY', axis=1), acc_pedest['INJURY']"
   ]
  },
  {
   "cell_type": "code",
   "execution_count": 48,
   "metadata": {},
   "outputs": [
    {
     "name": "stdout",
     "output_type": "stream",
     "text": [
      "Optimization terminated successfully.\n",
      "         Current function value: 0.377748\n",
      "         Iterations 6\n"
     ]
    }
   ],
   "source": [
    "X_driver = sm.add_constant(X_driver)\n",
    "m_driver = sm.Logit(y_driver, X_driver)\n",
    "r_driver = m_driver.fit()"
   ]
  },
  {
   "cell_type": "code",
   "execution_count": 49,
   "metadata": {},
   "outputs": [
    {
     "data": {
      "text/html": [
       "<table class=\"simpletable\">\n",
       "<caption>Logit Regression Results</caption>\n",
       "<tr>\n",
       "  <th>Dep. Variable:</th>      <td>INJURY</td>      <th>  No. Observations:  </th>   <td> 73331</td>  \n",
       "</tr>\n",
       "<tr>\n",
       "  <th>Model:</th>               <td>Logit</td>      <th>  Df Residuals:      </th>   <td> 73307</td>  \n",
       "</tr>\n",
       "<tr>\n",
       "  <th>Method:</th>               <td>MLE</td>       <th>  Df Model:          </th>   <td>    23</td>  \n",
       "</tr>\n",
       "<tr>\n",
       "  <th>Date:</th>          <td>Sat, 10 Feb 2018</td> <th>  Pseudo R-squ.:     </th>   <td>0.02229</td> \n",
       "</tr>\n",
       "<tr>\n",
       "  <th>Time:</th>              <td>22:53:10</td>     <th>  Log-Likelihood:    </th>  <td> -27701.</td> \n",
       "</tr>\n",
       "<tr>\n",
       "  <th>converged:</th>           <td>True</td>       <th>  LL-Null:           </th>  <td> -28332.</td> \n",
       "</tr>\n",
       "<tr>\n",
       "  <th> </th>                      <td> </td>        <th>  LLR p-value:       </th> <td>1.179e-252</td>\n",
       "</tr>\n",
       "</table>\n",
       "<table class=\"simpletable\">\n",
       "<tr>\n",
       "             <td></td>               <th>coef</th>     <th>std err</th>      <th>z</th>      <th>P>|z|</th>  <th>[0.025</th>    <th>0.975]</th>  \n",
       "</tr>\n",
       "<tr>\n",
       "  <th>const</th>                  <td>   -1.3304</td> <td>    0.062</td> <td>  -21.445</td> <td> 0.000</td> <td>   -1.452</td> <td>   -1.209</td>\n",
       "</tr>\n",
       "<tr>\n",
       "  <th>7:00 - 9:59 a.m.</th>       <td>   -0.2248</td> <td>    0.036</td> <td>   -6.310</td> <td> 0.000</td> <td>   -0.295</td> <td>   -0.155</td>\n",
       "</tr>\n",
       "<tr>\n",
       "  <th>10:00 a.m. - 3:59 p.m.</th> <td>   -0.2161</td> <td>    0.027</td> <td>   -7.902</td> <td> 0.000</td> <td>   -0.270</td> <td>   -0.162</td>\n",
       "</tr>\n",
       "<tr>\n",
       "  <th>4:00 - 6:59 p.m.</th>       <td>   -0.2447</td> <td>    0.032</td> <td>   -7.662</td> <td> 0.000</td> <td>   -0.307</td> <td>   -0.182</td>\n",
       "</tr>\n",
       "<tr>\n",
       "  <th>Monday - Friday</th>        <td>   -0.0937</td> <td>    0.024</td> <td>   -3.961</td> <td> 0.000</td> <td>   -0.140</td> <td>   -0.047</td>\n",
       "</tr>\n",
       "<tr>\n",
       "  <th>Light rain</th>             <td>   -0.1563</td> <td>    0.035</td> <td>   -4.423</td> <td> 0.000</td> <td>   -0.226</td> <td>   -0.087</td>\n",
       "</tr>\n",
       "<tr>\n",
       "  <th>Heavy rain</th>             <td>   -0.1470</td> <td>    0.083</td> <td>   -1.769</td> <td> 0.077</td> <td>   -0.310</td> <td>    0.016</td>\n",
       "</tr>\n",
       "<tr>\n",
       "  <th>50 km/h</th>                <td>   -0.2007</td> <td>    0.031</td> <td>   -6.560</td> <td> 0.000</td> <td>   -0.261</td> <td>   -0.141</td>\n",
       "</tr>\n",
       "<tr>\n",
       "  <th>Severe Congestion</th>      <td>   -0.1681</td> <td>    0.035</td> <td>   -4.869</td> <td> 0.000</td> <td>   -0.236</td> <td>   -0.100</td>\n",
       "</tr>\n",
       "<tr>\n",
       "  <th>Moderate Congestion</th>    <td>   -0.1761</td> <td>    0.029</td> <td>   -6.040</td> <td> 0.000</td> <td>   -0.233</td> <td>   -0.119</td>\n",
       "</tr>\n",
       "<tr>\n",
       "  <th>Traffic Signal</th>         <td>   -0.2763</td> <td>    0.058</td> <td>   -4.750</td> <td> 0.000</td> <td>   -0.390</td> <td>   -0.162</td>\n",
       "</tr>\n",
       "<tr>\n",
       "  <th>Other Control Types</th>    <td>   -0.3622</td> <td>    0.037</td> <td>   -9.870</td> <td> 0.000</td> <td>   -0.434</td> <td>   -0.290</td>\n",
       "</tr>\n",
       "<tr>\n",
       "  <th>One-way Carriageway</th>    <td>   -0.0702</td> <td>    0.031</td> <td>   -2.239</td> <td> 0.025</td> <td>   -0.132</td> <td>   -0.009</td>\n",
       "</tr>\n",
       "<tr>\n",
       "  <th>Two-way Carriageway</th>    <td>    0.2637</td> <td>    0.031</td> <td>    8.533</td> <td> 0.000</td> <td>    0.203</td> <td>    0.324</td>\n",
       "</tr>\n",
       "<tr>\n",
       "  <th>Under 15</th>               <td>   -0.5129</td> <td>    0.069</td> <td>   -7.451</td> <td> 0.000</td> <td>   -0.648</td> <td>   -0.378</td>\n",
       "</tr>\n",
       "<tr>\n",
       "  <th>Above 65</th>               <td>    0.5197</td> <td>    0.064</td> <td>    8.126</td> <td> 0.000</td> <td>    0.394</td> <td>    0.645</td>\n",
       "</tr>\n",
       "<tr>\n",
       "  <th>Male</th>                   <td>    0.2639</td> <td>    0.035</td> <td>    7.609</td> <td> 0.000</td> <td>    0.196</td> <td>    0.332</td>\n",
       "</tr>\n",
       "<tr>\n",
       "  <th>YEAR_2010</th>              <td>   -0.1458</td> <td>    0.039</td> <td>   -3.717</td> <td> 0.000</td> <td>   -0.223</td> <td>   -0.069</td>\n",
       "</tr>\n",
       "<tr>\n",
       "  <th>YEAR_2011</th>              <td>   -0.1260</td> <td>    0.045</td> <td>   -2.791</td> <td> 0.005</td> <td>   -0.214</td> <td>   -0.037</td>\n",
       "</tr>\n",
       "<tr>\n",
       "  <th>YEAR_2012</th>              <td>    0.0520</td> <td>    0.043</td> <td>    1.202</td> <td> 0.230</td> <td>   -0.033</td> <td>    0.137</td>\n",
       "</tr>\n",
       "<tr>\n",
       "  <th>YEAR_2013</th>              <td>    0.0809</td> <td>    0.043</td> <td>    1.889</td> <td> 0.059</td> <td>   -0.003</td> <td>    0.165</td>\n",
       "</tr>\n",
       "<tr>\n",
       "  <th>YEAR_2014</th>              <td>    0.1444</td> <td>    0.042</td> <td>    3.403</td> <td> 0.001</td> <td>    0.061</td> <td>    0.228</td>\n",
       "</tr>\n",
       "<tr>\n",
       "  <th>YEAR_2015</th>              <td>    0.0858</td> <td>    0.042</td> <td>    2.029</td> <td> 0.042</td> <td>    0.003</td> <td>    0.169</td>\n",
       "</tr>\n",
       "<tr>\n",
       "  <th>With belt or helmet</th>    <td>   -0.4764</td> <td>    0.028</td> <td>  -16.847</td> <td> 0.000</td> <td>   -0.532</td> <td>   -0.421</td>\n",
       "</tr>\n",
       "</table>"
      ],
      "text/plain": [
       "<class 'statsmodels.iolib.summary.Summary'>\n",
       "\"\"\"\n",
       "                           Logit Regression Results                           \n",
       "==============================================================================\n",
       "Dep. Variable:                 INJURY   No. Observations:                73331\n",
       "Model:                          Logit   Df Residuals:                    73307\n",
       "Method:                           MLE   Df Model:                           23\n",
       "Date:                Sat, 10 Feb 2018   Pseudo R-squ.:                 0.02229\n",
       "Time:                        22:53:10   Log-Likelihood:                -27701.\n",
       "converged:                       True   LL-Null:                       -28332.\n",
       "                                        LLR p-value:                1.179e-252\n",
       "==========================================================================================\n",
       "                             coef    std err          z      P>|z|      [0.025      0.975]\n",
       "------------------------------------------------------------------------------------------\n",
       "const                     -1.3304      0.062    -21.445      0.000      -1.452      -1.209\n",
       "7:00 - 9:59 a.m.          -0.2248      0.036     -6.310      0.000      -0.295      -0.155\n",
       "10:00 a.m. - 3:59 p.m.    -0.2161      0.027     -7.902      0.000      -0.270      -0.162\n",
       "4:00 - 6:59 p.m.          -0.2447      0.032     -7.662      0.000      -0.307      -0.182\n",
       "Monday - Friday           -0.0937      0.024     -3.961      0.000      -0.140      -0.047\n",
       "Light rain                -0.1563      0.035     -4.423      0.000      -0.226      -0.087\n",
       "Heavy rain                -0.1470      0.083     -1.769      0.077      -0.310       0.016\n",
       "50 km/h                   -0.2007      0.031     -6.560      0.000      -0.261      -0.141\n",
       "Severe Congestion         -0.1681      0.035     -4.869      0.000      -0.236      -0.100\n",
       "Moderate Congestion       -0.1761      0.029     -6.040      0.000      -0.233      -0.119\n",
       "Traffic Signal            -0.2763      0.058     -4.750      0.000      -0.390      -0.162\n",
       "Other Control Types       -0.3622      0.037     -9.870      0.000      -0.434      -0.290\n",
       "One-way Carriageway       -0.0702      0.031     -2.239      0.025      -0.132      -0.009\n",
       "Two-way Carriageway        0.2637      0.031      8.533      0.000       0.203       0.324\n",
       "Under 15                  -0.5129      0.069     -7.451      0.000      -0.648      -0.378\n",
       "Above 65                   0.5197      0.064      8.126      0.000       0.394       0.645\n",
       "Male                       0.2639      0.035      7.609      0.000       0.196       0.332\n",
       "YEAR_2010                 -0.1458      0.039     -3.717      0.000      -0.223      -0.069\n",
       "YEAR_2011                 -0.1260      0.045     -2.791      0.005      -0.214      -0.037\n",
       "YEAR_2012                  0.0520      0.043      1.202      0.230      -0.033       0.137\n",
       "YEAR_2013                  0.0809      0.043      1.889      0.059      -0.003       0.165\n",
       "YEAR_2014                  0.1444      0.042      3.403      0.001       0.061       0.228\n",
       "YEAR_2015                  0.0858      0.042      2.029      0.042       0.003       0.169\n",
       "With belt or helmet       -0.4764      0.028    -16.847      0.000      -0.532      -0.421\n",
       "==========================================================================================\n",
       "\"\"\""
      ]
     },
     "execution_count": 49,
     "metadata": {},
     "output_type": "execute_result"
    }
   ],
   "source": [
    "r_driver.summary()"
   ]
  },
  {
   "cell_type": "code",
   "execution_count": 50,
   "metadata": {},
   "outputs": [
    {
     "name": "stdout",
     "output_type": "stream",
     "text": [
      "                            2.5%     97.5%  Odds Ratio\n",
      "const                   0.234099  0.298549    0.264367\n",
      "7:00 - 9:59 a.m.        0.744853  0.856459    0.798709\n",
      "10:00 a.m. - 3:59 p.m.  0.763633  0.850029    0.805674\n",
      "4:00 - 6:59 p.m.        0.735465  0.833533    0.782965\n",
      "Monday - Friday         0.869337  0.953778    0.910579\n",
      "Light rain              0.798082  0.916638    0.855308\n",
      "Heavy rain              0.733561  1.015963    0.863291\n",
      "50 km/h                 0.770584  0.868749    0.818196\n",
      "Severe Congestion       0.789955  0.904435    0.845259\n",
      "Moderate Congestion     0.791986  0.887867    0.838557\n",
      "Traffic Signal          0.676868  0.850211    0.758604\n",
      "Other Control Types     0.647865  0.748088    0.696176\n",
      "One-way Carriageway     0.876638  0.991291    0.932204\n",
      "Two-way Carriageway     1.225250  1.383058    1.301765\n",
      "Under 15                0.523187  0.685246    0.598759\n",
      "Above 65                1.483463  1.906179    1.681591\n",
      "Male                    1.216402  1.393503    1.301945\n",
      "YEAR_2010               0.800388  0.933405    0.864341\n",
      "YEAR_2011               0.807005  0.963196    0.881648\n",
      "YEAR_2012               0.967735  1.146525    1.053344\n",
      "YEAR_2013               0.996957  1.179211    1.084262\n",
      "YEAR_2014               1.063163  1.255575    1.155371\n",
      "YEAR_2015               1.002918  1.183863    1.089641\n",
      "With belt or helmet     0.587547  0.656417    0.621028\n"
     ]
    }
   ],
   "source": [
    "p_driver = r_driver.params\n",
    "c_driver = r_driver.conf_int()\n",
    "c_driver['OR'] = p_driver\n",
    "c_driver.columns = ['2.5%', '97.5%', 'Odds Ratio']\n",
    "print(np.exp(c_driver))"
   ]
  },
  {
   "cell_type": "code",
   "execution_count": 51,
   "metadata": {},
   "outputs": [
    {
     "name": "stdout",
     "output_type": "stream",
     "text": [
      "Optimization terminated successfully.\n",
      "         Current function value: 0.263662\n",
      "         Iterations 8\n"
     ]
    }
   ],
   "source": [
    "#X_passen = sm.add_constant(X_passen)\n",
    "m_passen = sm.Logit(y_passen, X_passen)\n",
    "r_passen = m_passen.fit()"
   ]
  },
  {
   "cell_type": "code",
   "execution_count": 52,
   "metadata": {},
   "outputs": [
    {
     "data": {
      "text/html": [
       "<table class=\"simpletable\">\n",
       "<caption>Logit Regression Results</caption>\n",
       "<tr>\n",
       "  <th>Dep. Variable:</th>      <td>INJURY</td>      <th>  No. Observations:  </th>  <td> 49881</td>  \n",
       "</tr>\n",
       "<tr>\n",
       "  <th>Model:</th>               <td>Logit</td>      <th>  Df Residuals:      </th>  <td> 49855</td>  \n",
       "</tr>\n",
       "<tr>\n",
       "  <th>Method:</th>               <td>MLE</td>       <th>  Df Model:          </th>  <td>    25</td>  \n",
       "</tr>\n",
       "<tr>\n",
       "  <th>Date:</th>          <td>Sat, 10 Feb 2018</td> <th>  Pseudo R-squ.:     </th> <td>0.007390</td> \n",
       "</tr>\n",
       "<tr>\n",
       "  <th>Time:</th>              <td>22:53:10</td>     <th>  Log-Likelihood:    </th> <td> -13152.</td> \n",
       "</tr>\n",
       "<tr>\n",
       "  <th>converged:</th>           <td>True</td>       <th>  LL-Null:           </th> <td> -13250.</td> \n",
       "</tr>\n",
       "<tr>\n",
       "  <th> </th>                      <td> </td>        <th>  LLR p-value:       </th> <td>1.945e-28</td>\n",
       "</tr>\n",
       "</table>\n",
       "<table class=\"simpletable\">\n",
       "<tr>\n",
       "             <td></td>               <th>coef</th>     <th>std err</th>      <th>z</th>      <th>P>|z|</th>  <th>[0.025</th>    <th>0.975]</th>  \n",
       "</tr>\n",
       "<tr>\n",
       "  <th>7:00 - 9:59 a.m.</th>       <td>   -0.5421</td> <td>    0.053</td> <td>  -10.227</td> <td> 0.000</td> <td>   -0.646</td> <td>   -0.438</td>\n",
       "</tr>\n",
       "<tr>\n",
       "  <th>10:00 a.m. - 3:59 p.m.</th> <td>   -0.3842</td> <td>    0.040</td> <td>   -9.701</td> <td> 0.000</td> <td>   -0.462</td> <td>   -0.307</td>\n",
       "</tr>\n",
       "<tr>\n",
       "  <th>4:00 - 6:59 p.m.</th>       <td>   -0.5230</td> <td>    0.050</td> <td>  -10.486</td> <td> 0.000</td> <td>   -0.621</td> <td>   -0.425</td>\n",
       "</tr>\n",
       "<tr>\n",
       "  <th>Monday - Friday</th>        <td>   -0.3376</td> <td>    0.033</td> <td>  -10.090</td> <td> 0.000</td> <td>   -0.403</td> <td>   -0.272</td>\n",
       "</tr>\n",
       "<tr>\n",
       "  <th>Light rain</th>             <td>   -0.1183</td> <td>    0.053</td> <td>   -2.237</td> <td> 0.025</td> <td>   -0.222</td> <td>   -0.015</td>\n",
       "</tr>\n",
       "<tr>\n",
       "  <th>Heavy rain</th>             <td>   -0.5214</td> <td>    0.128</td> <td>   -4.070</td> <td> 0.000</td> <td>   -0.772</td> <td>   -0.270</td>\n",
       "</tr>\n",
       "<tr>\n",
       "  <th>50 km/h</th>                <td>   -0.6441</td> <td>    0.040</td> <td>  -16.220</td> <td> 0.000</td> <td>   -0.722</td> <td>   -0.566</td>\n",
       "</tr>\n",
       "<tr>\n",
       "  <th>Severe Congestion</th>      <td>   -0.1397</td> <td>    0.048</td> <td>   -2.889</td> <td> 0.004</td> <td>   -0.235</td> <td>   -0.045</td>\n",
       "</tr>\n",
       "<tr>\n",
       "  <th>Moderate Congestion</th>    <td>   -0.3907</td> <td>    0.041</td> <td>   -9.499</td> <td> 0.000</td> <td>   -0.471</td> <td>   -0.310</td>\n",
       "</tr>\n",
       "<tr>\n",
       "  <th>Traffic Signal</th>         <td>   -0.0451</td> <td>    0.089</td> <td>   -0.505</td> <td> 0.614</td> <td>   -0.220</td> <td>    0.130</td>\n",
       "</tr>\n",
       "<tr>\n",
       "  <th>Other Control Types</th>    <td>   -0.2646</td> <td>    0.047</td> <td>   -5.680</td> <td> 0.000</td> <td>   -0.356</td> <td>   -0.173</td>\n",
       "</tr>\n",
       "<tr>\n",
       "  <th>One-way Carriageway</th>    <td>   -0.2945</td> <td>    0.040</td> <td>   -7.322</td> <td> 0.000</td> <td>   -0.373</td> <td>   -0.216</td>\n",
       "</tr>\n",
       "<tr>\n",
       "  <th>Two-way Carriageway</th>    <td>   -0.0424</td> <td>    0.042</td> <td>   -0.999</td> <td> 0.318</td> <td>   -0.126</td> <td>    0.041</td>\n",
       "</tr>\n",
       "<tr>\n",
       "  <th>Under 15</th>               <td>   -1.3599</td> <td>    0.106</td> <td>  -12.849</td> <td> 0.000</td> <td>   -1.567</td> <td>   -1.152</td>\n",
       "</tr>\n",
       "<tr>\n",
       "  <th>Above 65</th>               <td>    0.7605</td> <td>    0.046</td> <td>   16.358</td> <td> 0.000</td> <td>    0.669</td> <td>    0.852</td>\n",
       "</tr>\n",
       "<tr>\n",
       "  <th>Male</th>                   <td>   -0.1408</td> <td>    0.035</td> <td>   -3.977</td> <td> 0.000</td> <td>   -0.210</td> <td>   -0.071</td>\n",
       "</tr>\n",
       "<tr>\n",
       "  <th>YEAR_2010</th>              <td>   -0.8395</td> <td>    0.048</td> <td>  -17.351</td> <td> 0.000</td> <td>   -0.934</td> <td>   -0.745</td>\n",
       "</tr>\n",
       "<tr>\n",
       "  <th>YEAR_2011</th>              <td>   -0.7775</td> <td>    0.060</td> <td>  -13.035</td> <td> 0.000</td> <td>   -0.894</td> <td>   -0.661</td>\n",
       "</tr>\n",
       "<tr>\n",
       "  <th>YEAR_2012</th>              <td>   -0.7921</td> <td>    0.059</td> <td>  -13.408</td> <td> 0.000</td> <td>   -0.908</td> <td>   -0.676</td>\n",
       "</tr>\n",
       "<tr>\n",
       "  <th>YEAR_2013</th>              <td>   -0.7032</td> <td>    0.057</td> <td>  -12.333</td> <td> 0.000</td> <td>   -0.815</td> <td>   -0.591</td>\n",
       "</tr>\n",
       "<tr>\n",
       "  <th>YEAR_2014</th>              <td>   -0.6595</td> <td>    0.058</td> <td>  -11.424</td> <td> 0.000</td> <td>   -0.773</td> <td>   -0.546</td>\n",
       "</tr>\n",
       "<tr>\n",
       "  <th>YEAR_2015</th>              <td>   -0.5594</td> <td>    0.055</td> <td>  -10.135</td> <td> 0.000</td> <td>   -0.668</td> <td>   -0.451</td>\n",
       "</tr>\n",
       "<tr>\n",
       "  <th>With belt or helmet</th>    <td>   -0.6465</td> <td>    0.037</td> <td>  -17.595</td> <td> 0.000</td> <td>   -0.719</td> <td>   -0.575</td>\n",
       "</tr>\n",
       "<tr>\n",
       "  <th>Front nearside</th>         <td>   -0.0414</td> <td>    0.047</td> <td>   -0.874</td> <td> 0.382</td> <td>   -0.134</td> <td>    0.052</td>\n",
       "</tr>\n",
       "<tr>\n",
       "  <th>Standing</th>               <td>   -0.0992</td> <td>    0.047</td> <td>   -2.104</td> <td> 0.035</td> <td>   -0.192</td> <td>   -0.007</td>\n",
       "</tr>\n",
       "<tr>\n",
       "  <th>Others</th>                 <td>   -0.3291</td> <td>    0.117</td> <td>   -2.807</td> <td> 0.005</td> <td>   -0.559</td> <td>   -0.099</td>\n",
       "</tr>\n",
       "</table>"
      ],
      "text/plain": [
       "<class 'statsmodels.iolib.summary.Summary'>\n",
       "\"\"\"\n",
       "                           Logit Regression Results                           \n",
       "==============================================================================\n",
       "Dep. Variable:                 INJURY   No. Observations:                49881\n",
       "Model:                          Logit   Df Residuals:                    49855\n",
       "Method:                           MLE   Df Model:                           25\n",
       "Date:                Sat, 10 Feb 2018   Pseudo R-squ.:                0.007390\n",
       "Time:                        22:53:10   Log-Likelihood:                -13152.\n",
       "converged:                       True   LL-Null:                       -13250.\n",
       "                                        LLR p-value:                 1.945e-28\n",
       "==========================================================================================\n",
       "                             coef    std err          z      P>|z|      [0.025      0.975]\n",
       "------------------------------------------------------------------------------------------\n",
       "7:00 - 9:59 a.m.          -0.5421      0.053    -10.227      0.000      -0.646      -0.438\n",
       "10:00 a.m. - 3:59 p.m.    -0.3842      0.040     -9.701      0.000      -0.462      -0.307\n",
       "4:00 - 6:59 p.m.          -0.5230      0.050    -10.486      0.000      -0.621      -0.425\n",
       "Monday - Friday           -0.3376      0.033    -10.090      0.000      -0.403      -0.272\n",
       "Light rain                -0.1183      0.053     -2.237      0.025      -0.222      -0.015\n",
       "Heavy rain                -0.5214      0.128     -4.070      0.000      -0.772      -0.270\n",
       "50 km/h                   -0.6441      0.040    -16.220      0.000      -0.722      -0.566\n",
       "Severe Congestion         -0.1397      0.048     -2.889      0.004      -0.235      -0.045\n",
       "Moderate Congestion       -0.3907      0.041     -9.499      0.000      -0.471      -0.310\n",
       "Traffic Signal            -0.0451      0.089     -0.505      0.614      -0.220       0.130\n",
       "Other Control Types       -0.2646      0.047     -5.680      0.000      -0.356      -0.173\n",
       "One-way Carriageway       -0.2945      0.040     -7.322      0.000      -0.373      -0.216\n",
       "Two-way Carriageway       -0.0424      0.042     -0.999      0.318      -0.126       0.041\n",
       "Under 15                  -1.3599      0.106    -12.849      0.000      -1.567      -1.152\n",
       "Above 65                   0.7605      0.046     16.358      0.000       0.669       0.852\n",
       "Male                      -0.1408      0.035     -3.977      0.000      -0.210      -0.071\n",
       "YEAR_2010                 -0.8395      0.048    -17.351      0.000      -0.934      -0.745\n",
       "YEAR_2011                 -0.7775      0.060    -13.035      0.000      -0.894      -0.661\n",
       "YEAR_2012                 -0.7921      0.059    -13.408      0.000      -0.908      -0.676\n",
       "YEAR_2013                 -0.7032      0.057    -12.333      0.000      -0.815      -0.591\n",
       "YEAR_2014                 -0.6595      0.058    -11.424      0.000      -0.773      -0.546\n",
       "YEAR_2015                 -0.5594      0.055    -10.135      0.000      -0.668      -0.451\n",
       "With belt or helmet       -0.6465      0.037    -17.595      0.000      -0.719      -0.575\n",
       "Front nearside            -0.0414      0.047     -0.874      0.382      -0.134       0.052\n",
       "Standing                  -0.0992      0.047     -2.104      0.035      -0.192      -0.007\n",
       "Others                    -0.3291      0.117     -2.807      0.005      -0.559      -0.099\n",
       "==========================================================================================\n",
       "\"\"\""
      ]
     },
     "execution_count": 52,
     "metadata": {},
     "output_type": "execute_result"
    }
   ],
   "source": [
    "r_passen.summary()"
   ]
  },
  {
   "cell_type": "code",
   "execution_count": 53,
   "metadata": {},
   "outputs": [
    {
     "name": "stdout",
     "output_type": "stream",
     "text": [
      "                            2.5%     97.5%  Odds Ratio\n",
      "7:00 - 9:59 a.m.        0.524136  0.645188    0.581521\n",
      "10:00 a.m. - 3:59 p.m.  0.630150  0.735972    0.681008\n",
      "4:00 - 6:59 p.m.        0.537512  0.653587    0.592715\n",
      "Monday - Friday         0.668161  0.761813    0.713452\n",
      "Light rain              0.800940  0.985462    0.888423\n",
      "Heavy rain              0.461874  0.763164    0.593705\n",
      "50 km/h                 0.485829  0.567654    0.525150\n",
      "Severe Congestion       0.790935  0.956049    0.869582\n",
      "Moderate Congestion     0.624187  0.733390    0.676589\n",
      "Traffic Signal          0.802296  1.138895    0.955893\n",
      "Other Control Types     0.700528  0.840882    0.767503\n",
      "One-way Carriageway     0.688464  0.806023    0.744928\n",
      "Two-way Carriageway     0.882013  1.041590    0.958487\n",
      "Under 15                0.208595  0.315856    0.256683\n",
      "Above 65                1.953032  2.343439    2.139349\n",
      "Male                    0.810477  0.931100    0.868697\n",
      "YEAR_2010               0.392848  0.474890    0.431925\n",
      "YEAR_2011               0.408838  0.516530    0.459540\n",
      "YEAR_2012               0.403357  0.508470    0.452874\n",
      "YEAR_2013               0.442664  0.553527    0.495002\n",
      "YEAR_2014               0.461812  0.579074    0.517130\n",
      "YEAR_2015               0.512956  0.636856    0.571558\n",
      "With belt or helmet     0.487458  0.562978    0.523859\n",
      "Front nearside          0.874228  1.052864    0.959398\n",
      "Standing                0.825559  0.993239    0.905526\n",
      "Others                  0.571850  0.905454    0.719572\n"
     ]
    }
   ],
   "source": [
    "p_passen = r_passen.params\n",
    "c_passen = r_passen.conf_int()\n",
    "c_passen['OR'] = p_passen\n",
    "c_passen.columns = ['2.5%', '97.5%', 'Odds Ratio']\n",
    "print(np.exp(c_passen))"
   ]
  },
  {
   "cell_type": "code",
   "execution_count": 54,
   "metadata": {},
   "outputs": [
    {
     "name": "stdout",
     "output_type": "stream",
     "text": [
      "Optimization terminated successfully.\n",
      "         Current function value: 0.513965\n",
      "         Iterations 6\n"
     ]
    }
   ],
   "source": [
    "#X_pedest = sm.add_constant(X_pedest)\n",
    "m_pedest = sm.Logit(y_pedest, X_pedest)\n",
    "r_pedest = m_pedest.fit()"
   ]
  },
  {
   "cell_type": "code",
   "execution_count": 55,
   "metadata": {},
   "outputs": [
    {
     "data": {
      "text/html": [
       "<table class=\"simpletable\">\n",
       "<caption>Logit Regression Results</caption>\n",
       "<tr>\n",
       "  <th>Dep. Variable:</th>      <td>INJURY</td>      <th>  No. Observations:  </th>   <td> 28490</td>  \n",
       "</tr>\n",
       "<tr>\n",
       "  <th>Model:</th>               <td>Logit</td>      <th>  Df Residuals:      </th>   <td> 28466</td>  \n",
       "</tr>\n",
       "<tr>\n",
       "  <th>Method:</th>               <td>MLE</td>       <th>  Df Model:          </th>   <td>    23</td>  \n",
       "</tr>\n",
       "<tr>\n",
       "  <th>Date:</th>          <td>Sat, 10 Feb 2018</td> <th>  Pseudo R-squ.:     </th>   <td>0.04356</td> \n",
       "</tr>\n",
       "<tr>\n",
       "  <th>Time:</th>              <td>22:53:11</td>     <th>  Log-Likelihood:    </th>  <td> -14643.</td> \n",
       "</tr>\n",
       "<tr>\n",
       "  <th>converged:</th>           <td>True</td>       <th>  LL-Null:           </th>  <td> -15310.</td> \n",
       "</tr>\n",
       "<tr>\n",
       "  <th> </th>                      <td> </td>        <th>  LLR p-value:       </th> <td>8.796e-268</td>\n",
       "</tr>\n",
       "</table>\n",
       "<table class=\"simpletable\">\n",
       "<tr>\n",
       "                  <td></td>                     <th>coef</th>     <th>std err</th>      <th>z</th>      <th>P>|z|</th>  <th>[0.025</th>    <th>0.975]</th>  \n",
       "</tr>\n",
       "<tr>\n",
       "  <th>7:00 - 9:59 a.m.</th>                  <td>   -0.0928</td> <td>    0.045</td> <td>   -2.079</td> <td> 0.038</td> <td>   -0.180</td> <td>   -0.005</td>\n",
       "</tr>\n",
       "<tr>\n",
       "  <th>10:00 a.m. - 3:59 p.m.</th>            <td>   -0.3193</td> <td>    0.037</td> <td>   -8.613</td> <td> 0.000</td> <td>   -0.392</td> <td>   -0.247</td>\n",
       "</tr>\n",
       "<tr>\n",
       "  <th>4:00 - 6:59 p.m.</th>                  <td>   -0.3532</td> <td>    0.043</td> <td>   -8.217</td> <td> 0.000</td> <td>   -0.437</td> <td>   -0.269</td>\n",
       "</tr>\n",
       "<tr>\n",
       "  <th>Monday - Friday</th>                   <td>   -0.0853</td> <td>    0.032</td> <td>   -2.687</td> <td> 0.007</td> <td>   -0.147</td> <td>   -0.023</td>\n",
       "</tr>\n",
       "<tr>\n",
       "  <th>Light rain</th>                        <td>    0.0769</td> <td>    0.049</td> <td>    1.568</td> <td> 0.117</td> <td>   -0.019</td> <td>    0.173</td>\n",
       "</tr>\n",
       "<tr>\n",
       "  <th>Heavy rain</th>                        <td>    0.3609</td> <td>    0.102</td> <td>    3.551</td> <td> 0.000</td> <td>    0.162</td> <td>    0.560</td>\n",
       "</tr>\n",
       "<tr>\n",
       "  <th>50 km/h</th>                           <td>   -0.5922</td> <td>    0.050</td> <td>  -11.837</td> <td> 0.000</td> <td>   -0.690</td> <td>   -0.494</td>\n",
       "</tr>\n",
       "<tr>\n",
       "  <th>Severe Congestion</th>                 <td>   -0.0038</td> <td>    0.041</td> <td>   -0.094</td> <td> 0.925</td> <td>   -0.084</td> <td>    0.076</td>\n",
       "</tr>\n",
       "<tr>\n",
       "  <th>Moderate Congestion</th>               <td>   -0.1978</td> <td>    0.035</td> <td>   -5.632</td> <td> 0.000</td> <td>   -0.267</td> <td>   -0.129</td>\n",
       "</tr>\n",
       "<tr>\n",
       "  <th>Traffic Signal</th>                    <td>   -0.1899</td> <td>    0.067</td> <td>   -2.824</td> <td> 0.005</td> <td>   -0.322</td> <td>   -0.058</td>\n",
       "</tr>\n",
       "<tr>\n",
       "  <th>Other Control Types</th>               <td>   -0.1974</td> <td>    0.036</td> <td>   -5.511</td> <td> 0.000</td> <td>   -0.268</td> <td>   -0.127</td>\n",
       "</tr>\n",
       "<tr>\n",
       "  <th>One-way Carriageway</th>               <td>   -0.4576</td> <td>    0.040</td> <td>  -11.458</td> <td> 0.000</td> <td>   -0.536</td> <td>   -0.379</td>\n",
       "</tr>\n",
       "<tr>\n",
       "  <th>Two-way Carriageway</th>               <td>   -0.0812</td> <td>    0.041</td> <td>   -1.958</td> <td> 0.050</td> <td>   -0.163</td> <td> 8.88e-05</td>\n",
       "</tr>\n",
       "<tr>\n",
       "  <th>Under 15</th>                          <td>   -0.0140</td> <td>    0.049</td> <td>   -0.284</td> <td> 0.777</td> <td>   -0.111</td> <td>    0.083</td>\n",
       "</tr>\n",
       "<tr>\n",
       "  <th>Above 65</th>                          <td>    1.0235</td> <td>    0.035</td> <td>   29.516</td> <td> 0.000</td> <td>    0.956</td> <td>    1.092</td>\n",
       "</tr>\n",
       "<tr>\n",
       "  <th>Male</th>                              <td>   -0.2288</td> <td>    0.029</td> <td>   -8.006</td> <td> 0.000</td> <td>   -0.285</td> <td>   -0.173</td>\n",
       "</tr>\n",
       "<tr>\n",
       "  <th>YEAR_2010</th>                         <td>   -0.3559</td> <td>    0.047</td> <td>   -7.633</td> <td> 0.000</td> <td>   -0.447</td> <td>   -0.265</td>\n",
       "</tr>\n",
       "<tr>\n",
       "  <th>YEAR_2011</th>                         <td>   -0.2485</td> <td>    0.055</td> <td>   -4.536</td> <td> 0.000</td> <td>   -0.356</td> <td>   -0.141</td>\n",
       "</tr>\n",
       "<tr>\n",
       "  <th>YEAR_2012</th>                         <td>   -0.2896</td> <td>    0.055</td> <td>   -5.270</td> <td> 0.000</td> <td>   -0.397</td> <td>   -0.182</td>\n",
       "</tr>\n",
       "<tr>\n",
       "  <th>YEAR_2013</th>                         <td>   -0.1796</td> <td>    0.054</td> <td>   -3.308</td> <td> 0.001</td> <td>   -0.286</td> <td>   -0.073</td>\n",
       "</tr>\n",
       "<tr>\n",
       "  <th>YEAR_2014</th>                         <td>   -0.2096</td> <td>    0.055</td> <td>   -3.792</td> <td> 0.000</td> <td>   -0.318</td> <td>   -0.101</td>\n",
       "</tr>\n",
       "<tr>\n",
       "  <th>YEAR_2015</th>                         <td>   -0.1015</td> <td>    0.054</td> <td>   -1.866</td> <td> 0.062</td> <td>   -0.208</td> <td>    0.005</td>\n",
       "</tr>\n",
       "<tr>\n",
       "  <th>On controlled crossing</th>            <td>    0.3794</td> <td>    0.041</td> <td>    9.328</td> <td> 0.000</td> <td>    0.300</td> <td>    0.459</td>\n",
       "</tr>\n",
       "<tr>\n",
       "  <th>Within 15M of controlled crossing</th> <td>    0.5449</td> <td>    0.056</td> <td>    9.709</td> <td> 0.000</td> <td>    0.435</td> <td>    0.655</td>\n",
       "</tr>\n",
       "</table>"
      ],
      "text/plain": [
       "<class 'statsmodels.iolib.summary.Summary'>\n",
       "\"\"\"\n",
       "                           Logit Regression Results                           \n",
       "==============================================================================\n",
       "Dep. Variable:                 INJURY   No. Observations:                28490\n",
       "Model:                          Logit   Df Residuals:                    28466\n",
       "Method:                           MLE   Df Model:                           23\n",
       "Date:                Sat, 10 Feb 2018   Pseudo R-squ.:                 0.04356\n",
       "Time:                        22:53:11   Log-Likelihood:                -14643.\n",
       "converged:                       True   LL-Null:                       -15310.\n",
       "                                        LLR p-value:                8.796e-268\n",
       "=====================================================================================================\n",
       "                                        coef    std err          z      P>|z|      [0.025      0.975]\n",
       "-----------------------------------------------------------------------------------------------------\n",
       "7:00 - 9:59 a.m.                     -0.0928      0.045     -2.079      0.038      -0.180      -0.005\n",
       "10:00 a.m. - 3:59 p.m.               -0.3193      0.037     -8.613      0.000      -0.392      -0.247\n",
       "4:00 - 6:59 p.m.                     -0.3532      0.043     -8.217      0.000      -0.437      -0.269\n",
       "Monday - Friday                      -0.0853      0.032     -2.687      0.007      -0.147      -0.023\n",
       "Light rain                            0.0769      0.049      1.568      0.117      -0.019       0.173\n",
       "Heavy rain                            0.3609      0.102      3.551      0.000       0.162       0.560\n",
       "50 km/h                              -0.5922      0.050    -11.837      0.000      -0.690      -0.494\n",
       "Severe Congestion                    -0.0038      0.041     -0.094      0.925      -0.084       0.076\n",
       "Moderate Congestion                  -0.1978      0.035     -5.632      0.000      -0.267      -0.129\n",
       "Traffic Signal                       -0.1899      0.067     -2.824      0.005      -0.322      -0.058\n",
       "Other Control Types                  -0.1974      0.036     -5.511      0.000      -0.268      -0.127\n",
       "One-way Carriageway                  -0.4576      0.040    -11.458      0.000      -0.536      -0.379\n",
       "Two-way Carriageway                  -0.0812      0.041     -1.958      0.050      -0.163    8.88e-05\n",
       "Under 15                             -0.0140      0.049     -0.284      0.777      -0.111       0.083\n",
       "Above 65                              1.0235      0.035     29.516      0.000       0.956       1.092\n",
       "Male                                 -0.2288      0.029     -8.006      0.000      -0.285      -0.173\n",
       "YEAR_2010                            -0.3559      0.047     -7.633      0.000      -0.447      -0.265\n",
       "YEAR_2011                            -0.2485      0.055     -4.536      0.000      -0.356      -0.141\n",
       "YEAR_2012                            -0.2896      0.055     -5.270      0.000      -0.397      -0.182\n",
       "YEAR_2013                            -0.1796      0.054     -3.308      0.001      -0.286      -0.073\n",
       "YEAR_2014                            -0.2096      0.055     -3.792      0.000      -0.318      -0.101\n",
       "YEAR_2015                            -0.1015      0.054     -1.866      0.062      -0.208       0.005\n",
       "On controlled crossing                0.3794      0.041      9.328      0.000       0.300       0.459\n",
       "Within 15M of controlled crossing     0.5449      0.056      9.709      0.000       0.435       0.655\n",
       "=====================================================================================================\n",
       "\"\"\""
      ]
     },
     "execution_count": 55,
     "metadata": {},
     "output_type": "execute_result"
    }
   ],
   "source": [
    "r_pedest.summary()"
   ]
  },
  {
   "cell_type": "code",
   "execution_count": 56,
   "metadata": {},
   "outputs": [
    {
     "name": "stdout",
     "output_type": "stream",
     "text": [
      "                                       2.5%     97.5%  Odds Ratio\n",
      "7:00 - 9:59 a.m.                   0.835113  0.994693    0.911417\n",
      "10:00 a.m. - 3:59 p.m.             0.675696  0.781398    0.726627\n",
      "4:00 - 6:59 p.m.                   0.645698  0.764195    0.702452\n",
      "Monday - Friday                    0.862909  0.977200    0.918278\n",
      "Light rain                         0.980956  1.188938    1.079951\n",
      "Heavy rain                         1.175516  1.750879    1.434638\n",
      "50 km/h                            0.501457  0.610098    0.553116\n",
      "Severe Congestion                  0.919710  1.078971    0.996163\n",
      "Moderate Congestion                0.765997  0.879026    0.820567\n",
      "Traffic Signal                     0.724936  0.943579    0.827063\n",
      "Other Control Types                0.765200  0.880559    0.820856\n",
      "One-way Carriageway                0.585150  0.684314    0.632793\n",
      "Two-way Carriageway                0.849962  1.000089    0.921975\n",
      "Under 15                           0.895295  1.086152    0.986117\n",
      "Above 65                           2.600182  2.978788    2.783054\n",
      "Male                               0.752135  0.841300    0.795469\n",
      "YEAR_2010                          0.639370  0.767581    0.700549\n",
      "YEAR_2011                          0.700613  0.868397    0.780007\n",
      "YEAR_2012                          0.672129  0.833682    0.748560\n",
      "YEAR_2013                          0.751254  0.929410    0.835597\n",
      "YEAR_2014                          0.727658  0.903706    0.810919\n",
      "YEAR_2015                          0.812099  1.005123    0.903470\n",
      "On controlled crossing             1.349412  1.582648    1.461385\n",
      "Within 15M of controlled crossing  1.544847  1.925017    1.724487\n"
     ]
    }
   ],
   "source": [
    "p_pedest = r_pedest.params\n",
    "c_pedest = r_pedest.conf_int()\n",
    "c_pedest['OR'] = p_pedest\n",
    "c_pedest.columns = ['2.5%', '97.5%', 'Odds Ratio']\n",
    "print(np.exp(c_pedest))"
   ]
  },
  {
   "cell_type": "code",
   "execution_count": null,
   "metadata": {},
   "outputs": [],
   "source": []
  }
 ],
 "metadata": {
  "kernelspec": {
   "display_name": "Python 3",
   "language": "python",
   "name": "python3"
  },
  "language_info": {
   "codemirror_mode": {
    "name": "ipython",
    "version": 3
   },
   "file_extension": ".py",
   "mimetype": "text/x-python",
   "name": "python",
   "nbconvert_exporter": "python",
   "pygments_lexer": "ipython3",
   "version": "3.5.2"
  }
 },
 "nbformat": 4,
 "nbformat_minor": 2
}
