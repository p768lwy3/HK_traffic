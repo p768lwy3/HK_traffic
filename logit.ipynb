{
 "cells": [
  {
   "cell_type": "code",
   "execution_count": 1,
   "metadata": {},
   "outputs": [
    {
     "name": "stderr",
     "output_type": "stream",
     "text": [
      "/usr/local/lib/python3.5/dist-packages/statsmodels/compat/pandas.py:56: FutureWarning: The pandas.core.datetools module is deprecated and will be removed in a future version. Please use the pandas.tseries module instead.\n",
      "  from pandas.core import datetools\n"
     ]
    }
   ],
   "source": [
    "import numpy as np\n",
    "import pandas as pd\n",
    "import statsmodels.api as sm"
   ]
  },
  {
   "cell_type": "code",
   "execution_count": 2,
   "metadata": {},
   "outputs": [],
   "source": [
    "import warnings\n",
    "warnings.filterwarnings(\"ignore\")"
   ]
  },
  {
   "cell_type": "code",
   "execution_count": 3,
   "metadata": {},
   "outputs": [
    {
     "name": "stdout",
     "output_type": "stream",
     "text": [
      "The Year 2012 is read.\n",
      "The Year 2013 is read.\n",
      "The Year 2014 is read.\n",
      "The Year 2015 is read.\n",
      "The Year 2016 is read.\n"
     ]
    }
   ],
   "source": [
    "acc_cas = {}\n",
    "for i in range(2012, 2017):\n",
    "    idx = str(i)\n",
    "    acc = pd.read_excel('./input/{0}/Acc_cas {0}.xls'.format(idx))\n",
    "    acc = acc[['ACC_TIME', 'WEEK_DAY', 'RAIN', 'SPEED_LMT', 'TRAFF_CONG', 'JCN_CTRL',\n",
    "               'RD_TYPE', 'CAS_AGE', 'CAS_SEX', 'INJURY', 'ROLE', 'SB_WORN', 'SEAT', \n",
    "               'PED_LOCATN']]\n",
    "\n",
    "    acc['YEAR'] = idx\n",
    "    acc_cas[idx] = acc\n",
    "    print('The Year %s is read.' % idx)"
   ]
  },
  {
   "cell_type": "code",
   "execution_count": 4,
   "metadata": {},
   "outputs": [],
   "source": [
    "acc = acc_cas['2012'].copy()\n",
    "for i in range(2013, 2017):\n",
    "    acc = acc.append(acc_cas[str(i)].copy())"
   ]
  },
  {
   "cell_type": "code",
   "execution_count": 5,
   "metadata": {},
   "outputs": [
    {
     "name": "stdout",
     "output_type": "stream",
     "text": [
      "Time: Count(Proportion)\n",
      "7:00 - 9:59 a.m.: 15596(15.4%)\n",
      "10:00 a.m. - 3:59 p.m.: 33959(33.6%)\n",
      "4:00 - 6:59 p.m.: 20287(20.1%)\n",
      "7:00 p.m. - 6:59 a.m.: 31331(31.0%)\n"
     ]
    }
   ],
   "source": [
    "def str_append(x):\n",
    "    if isinstance(x, str):\n",
    "        counter = ['0' for i in range(4 - len(x))]\n",
    "        counter = ''.join(counter)\n",
    "        x = counter + x\n",
    "        return x\n",
    "    else:\n",
    "        raise TypeError('The function only support string-type input.')\n",
    "\n",
    "\n",
    "acc['ACC_TIME'] = acc['ACC_TIME'].map(\n",
    "    lambda x: str_append(str(x)))\n",
    "acc['HOUR'] = pd.to_datetime(\n",
    "    acc['ACC_TIME'], format='%H%M').dt.hour\n",
    "t0 = acc['HOUR'][acc['HOUR'].isin(\n",
    "    [7, 8, 9])].count()  # 700am-959am\n",
    "t1 = acc['HOUR'][acc['HOUR'].isin(\n",
    "    [10, 11, 12, 13, 14, 15])].count()  # 1000am-0359pm\n",
    "t2 = acc['HOUR'][acc['HOUR'].isin(\n",
    "    [16, 17, 18])].count()  # 0400pm-0659pm\n",
    "t3 = acc['HOUR'][acc['HOUR'].isin(\n",
    "    [19, 20, 21, 22, 23, 0, 1, 2, 3, 4, 5, 6])].count()  # 0700pm-0659am\n",
    "print('Time: Count(Proportion)')\n",
    "print('7:00 - 9:59 a.m.: %d(%.1f%%)' %\n",
    "      (t0, t0/acc['HOUR'].count()*100))\n",
    "print('10:00 a.m. - 3:59 p.m.: %d(%.1f%%)' %\n",
    "      (t1, t1/acc['HOUR'].count()*100))\n",
    "print('4:00 - 6:59 p.m.: %d(%.1f%%)' %\n",
    "      (t2, t2/acc['HOUR'].count()*100))\n",
    "print('7:00 p.m. - 6:59 a.m.: %d(%.1f%%)' %\n",
    "      (t3, t3/acc['HOUR'].count()*100))"
   ]
  },
  {
   "cell_type": "code",
   "execution_count": 6,
   "metadata": {},
   "outputs": [
    {
     "name": "stdout",
     "output_type": "stream",
     "text": [
      "Day of week: Count(Proportion)\n",
      "Monday - Friday: 70624(69.8%)\n",
      "Weekend: 30549(30.2%)\n"
     ]
    }
   ],
   "source": [
    "weekday_row = acc['WEEK_DAY'].isin([1, 2, 3, 4, 5])\n",
    "weekday = acc['WEEK_DAY'][weekday_row].count()\n",
    "weekend = acc['WEEK_DAY'][~weekday_row].count()\n",
    "print('Day of week: Count(Proportion)')\n",
    "print('Monday - Friday: %d(%.1f%%)' %\n",
    "      (weekday, weekday/acc['WEEK_DAY'].count()*100))\n",
    "print('Weekend: %d(%.1f%%)' %\n",
    "      (weekend, weekend/acc['WEEK_DAY'].count()*100))"
   ]
  },
  {
   "cell_type": "code",
   "execution_count": 7,
   "metadata": {},
   "outputs": [
    {
     "name": "stdout",
     "output_type": "stream",
     "text": [
      "Rain: Count(Proportion)\n",
      "No Rain: 86443(85.4%)\n",
      "Light Rain: 12315(12.2%)\n",
      "Heavy Rain: 2158(2.1%)\n",
      "Unknown: 257(0.3%)\n"
     ]
    }
   ],
   "source": [
    "r0 = acc['RAIN'][acc['RAIN'] == 1].count()\n",
    "r1 = acc['RAIN'][acc['RAIN'] == 2].count()\n",
    "r2 = acc['RAIN'][acc['RAIN'] == 3].count()\n",
    "r3 = acc['RAIN'][acc['RAIN'].isin([9, 0])].count()\n",
    "\n",
    "print('Rain: Count(Proportion)')\n",
    "print('No Rain: %d(%.1f%%)' % (r0, r0/acc['RAIN'].count()*100))\n",
    "print('Light Rain: %d(%.1f%%)' % (r1, r1/acc['RAIN'].count()*100))\n",
    "print('Heavy Rain: %d(%.1f%%)' % (r2, r2/acc['RAIN'].count()*100))\n",
    "print('Unknown: %d(%.1f%%)' % (r3, r3/acc['RAIN'].count()*100))"
   ]
  },
  {
   "cell_type": "code",
   "execution_count": 8,
   "metadata": {},
   "outputs": [
    {
     "name": "stdout",
     "output_type": "stream",
     "text": [
      "Speed Limit: Count(Proportion)\n",
      "50km/h: 86065(85.1%)\n",
      "Under 50km/h: 2039(2.0%)\n",
      "Above 50km/h: 13069(12.9%)\n"
     ]
    }
   ],
   "source": [
    "s0 = acc['SPEED_LMT'][acc['SPEED_LMT'] == 50].count()\n",
    "s1 = acc['SPEED_LMT'][acc['SPEED_LMT'] < 50].count()\n",
    "s2 = acc['SPEED_LMT'][acc['SPEED_LMT'] > 50].count()\n",
    "\n",
    "print('Speed Limit: Count(Proportion)')\n",
    "print('50km/h: %d(%.1f%%)' % (s0, s0/acc['SPEED_LMT'].count()*100))\n",
    "print('Under 50km/h: %d(%.1f%%)' % (s1, s1/acc['SPEED_LMT'].count()*100))\n",
    "print('Above 50km/h: %d(%.1f%%)' % (s2, s2/acc['SPEED_LMT'].count()*100))"
   ]
  },
  {
   "cell_type": "code",
   "execution_count": 9,
   "metadata": {},
   "outputs": [
    {
     "name": "stdout",
     "output_type": "stream",
     "text": [
      "Traffic Congestion: Count(Proportion)\n",
      "None: 55863(55.2%)\n",
      "Severe Congestion: 15458(15.3%)\n",
      "Moderate Congestion: 28381(28.1%)\n",
      "Unknown: 1471(1.5%)\n"
     ]
    }
   ],
   "source": [
    "t0 = acc['TRAFF_CONG'][acc['TRAFF_CONG'] == 3].count()\n",
    "t1 = acc['TRAFF_CONG'][acc['TRAFF_CONG'] == 1].count()\n",
    "t2 = acc['TRAFF_CONG'][acc['TRAFF_CONG'] == 2].count()\n",
    "t3 = acc['TRAFF_CONG'][acc['TRAFF_CONG'].isin([9, 0])].count()\n",
    "\n",
    "print('Traffic Congestion: Count(Proportion)')\n",
    "print('None: %d(%.1f%%)' % (t0, t0/acc['TRAFF_CONG'].count()*100))\n",
    "print('Severe Congestion: %d(%.1f%%)' % (t1, t1/acc['TRAFF_CONG'].count()*100))\n",
    "print('Moderate Congestion: %d(%.1f%%)' % (t2, t2/acc['TRAFF_CONG'].count()*100))\n",
    "print('Unknown: %d(%.1f%%)' % (t3, t3/acc['TRAFF_CONG'].count()*100))"
   ]
  },
  {
   "cell_type": "code",
   "execution_count": 10,
   "metadata": {},
   "outputs": [
    {
     "name": "stdout",
     "output_type": "stream",
     "text": [
      "Traffic Congestion: Count(Proportion)\n",
      "Non Junction: 77440(76.5%)\n",
      "Traffic Signal: 13228(13.1%)\n",
      "Other Control Types: 4762(4.7%)\n",
      "No Control: 5711(5.6%)\n",
      "Unknown: 32(0.0%)\n"
     ]
    }
   ],
   "source": [
    "j0 = acc['JCN_CTRL'][acc['JCN_CTRL'] == 6].count()\n",
    "j1 = acc['JCN_CTRL'][acc['JCN_CTRL'] == 4].count()\n",
    "j2 = acc['JCN_CTRL'][acc['JCN_CTRL'].isin([2, 3, 5])].count()\n",
    "j3 = acc['JCN_CTRL'][acc['JCN_CTRL'] == 1].count()\n",
    "j4 = acc['JCN_CTRL'][acc['JCN_CTRL'] == 0].count()\n",
    "\n",
    "print('Traffic Congestion: Count(Proportion)')\n",
    "print('Non Junction: %d(%.1f%%)' % (j0, j0/acc['JCN_CTRL'].count()*100))\n",
    "print('Traffic Signal: %d(%.1f%%)' % (j1, j1/acc['JCN_CTRL'].count()*100))\n",
    "print('Other Control Types: %d(%.1f%%)' % (j2, j2/acc['JCN_CTRL'].count()*100))\n",
    "print('No Control: %d(%.1f%%)' % (j3, j3/acc['JCN_CTRL'].count()*100))\n",
    "print('Unknown: %d(%.1f%%)' % (j4, j4/acc['JCN_CTRL'].count()*100))"
   ]
  },
  {
   "cell_type": "code",
   "execution_count": 11,
   "metadata": {},
   "outputs": [
    {
     "name": "stdout",
     "output_type": "stream",
     "text": [
      "Traffic Congestion: Count(Proportion)\n",
      "Multi-/dual Carriageway: 24412(24.1%)\n",
      "One-way Carriageway: 41196(40.7%)\n",
      "Two-way Carriageway: 35558(35.1%)\n",
      "Unknown: 7(0.0%)\n"
     ]
    }
   ],
   "source": [
    "r0 = acc['RD_TYPE'][acc['RD_TYPE'].isin([3, 4])].count()\n",
    "r1 = acc['RD_TYPE'][acc['RD_TYPE'] == 1].count()\n",
    "r2 = acc['RD_TYPE'][acc['RD_TYPE'] == 2].count()\n",
    "r3 = acc['RD_TYPE'][acc['RD_TYPE'] == 0].count()\n",
    "\n",
    "print('Traffic Congestion: Count(Proportion)')\n",
    "print('Multi-/dual Carriageway: %d(%.1f%%)' % (r0, r0/acc['RD_TYPE'].count()*100))\n",
    "print('One-way Carriageway: %d(%.1f%%)' % (r1, r1/acc['RD_TYPE'].count()*100))\n",
    "print('Two-way Carriageway: %d(%.1f%%)' % (r2, r2/acc['RD_TYPE'].count()*100))\n",
    "print('Unknown: %d(%.1f%%)' % (r3, r3/acc['RD_TYPE'].count()*100))"
   ]
  },
  {
   "cell_type": "code",
   "execution_count": 12,
   "metadata": {},
   "outputs": [
    {
     "name": "stdout",
     "output_type": "stream",
     "text": [
      "Age: Count(Proportion)\n",
      "Under 15: 6674(6.6%)\n",
      "15 - 65: 84305(83.3%)\n",
      "Above 65: 9125(9.0%)\n",
      "Unknown: 1066(1.1%)\n"
     ]
    }
   ],
   "source": [
    "# split out the values of unknown\n",
    "unknown_row = acc['CAS_AGE'].isin([0, 99, 999])\n",
    "unknown = acc['CAS_AGE'][unknown_row]\n",
    "dta_age = acc['CAS_AGE'][~unknown_row]\n",
    "\n",
    "age_grouped = pd.cut(dta_age, [0, 15, 65, 120], labels=['<15', '15-65', '>65'])\n",
    "age0 = age_grouped.value_counts()['<15']\n",
    "age1 = age_grouped.value_counts()['15-65']\n",
    "age2 = age_grouped.value_counts()['>65']\n",
    "ageunknown = unknown.count()\n",
    "print('Age: Count(Proportion)')\n",
    "print('Under 15: %d(%.1f%%)' %\n",
    "      (age0, age0/acc['CAS_AGE'].count()*100))\n",
    "print('15 - 65: %d(%.1f%%)' %\n",
    "      (age1, age1/acc['CAS_AGE'].count()*100))\n",
    "print('Above 65: %d(%.1f%%)' %\n",
    "      (age2, age2/acc['CAS_AGE'].count()*100))\n",
    "print('Unknown: %d(%.1f%%)' %\n",
    "      (ageunknown, ageunknown/acc['CAS_AGE'].count()*100))"
   ]
  },
  {
   "cell_type": "code",
   "execution_count": 13,
   "metadata": {},
   "outputs": [
    {
     "name": "stdout",
     "output_type": "stream",
     "text": [
      "Sex: Count(Proportion)\n",
      "Male: 63618(62.9%)\n",
      "Famale: 37439(37.0%)\n",
      "Unknown: 116(0.1%)\n"
     ]
    }
   ],
   "source": [
    "sex0 = acc['CAS_SEX'].value_counts()[1]\n",
    "sex1 = acc['CAS_SEX'].value_counts()[2]\n",
    "sex2 = acc['CAS_SEX'].value_counts()[9]\n",
    "print('Sex: Count(Proportion)')\n",
    "print('Male: %d(%.1f%%)' %\n",
    "      (sex0, sex0/acc['CAS_SEX'].count()*100))\n",
    "print('Famale: %d(%.1f%%)' %\n",
    "      (sex1, sex1/acc['CAS_SEX'].count()*100))\n",
    "print('Unknown: %d(%.1f%%)' %\n",
    "      (sex2, sex2/acc['CAS_SEX'].count()*100))"
   ]
  },
  {
   "cell_type": "code",
   "execution_count": 14,
   "metadata": {},
   "outputs": [
    {
     "name": "stdout",
     "output_type": "stream",
     "text": [
      "Injury Severity: Count(Proportion)\n",
      "Killed or severe injury: 13565(13.4%)\n",
      "Slight Injury: 87608(86.6%)\n"
     ]
    }
   ],
   "source": [
    "injury0 = acc['INJURY'].value_counts()[1] + acc['INJURY'].value_counts()[2]\n",
    "injury1 = acc['INJURY'].value_counts()[3]\n",
    "print('Injury Severity: Count(Proportion)')\n",
    "print('Killed or severe injury: %d(%.1f%%)' %\n",
    "      (injury0, injury0/acc['INJURY'].count()*100))\n",
    "print('Slight Injury: %d(%.1f%%)' %\n",
    "      (injury1, injury1/acc['INJURY'].count()*100))"
   ]
  },
  {
   "cell_type": "code",
   "execution_count": 15,
   "metadata": {},
   "outputs": [
    {
     "name": "stdout",
     "output_type": "stream",
     "text": [
      "Seat belt or crash helmet worn: Count(Proportion)\n",
      "Yes: 63143(62.4%)\n",
      "No: 18650(18.4%)\n",
      "Unknown: 19380(19.2%)\n"
     ]
    }
   ],
   "source": [
    "sb0 = acc['SB_WORN'][acc['SB_WORN'] == 1].count()\n",
    "sb1 = acc['SB_WORN'][acc['SB_WORN'] == 2].count()\n",
    "sb2 = acc['SB_WORN'][acc['SB_WORN'].isin([9, 0])].count()\n",
    "\n",
    "print('Seat belt or crash helmet worn: Count(Proportion)')\n",
    "print('Yes: %d(%.1f%%)' % (sb0, sb0/acc['SB_WORN'].count()*100))\n",
    "print('No: %d(%.1f%%)' % (sb1, sb1/acc['SB_WORN'].count()*100))\n",
    "print('Unknown: %d(%.1f%%)' % (sb2, sb2/acc['SB_WORN'].count()*100))"
   ]
  },
  {
   "cell_type": "code",
   "execution_count": 16,
   "metadata": {},
   "outputs": [],
   "source": [
    "# Split into three group to check these variables proportion\n",
    "accd = acc[acc['ROLE'] == 1]\n",
    "accp = acc[acc['ROLE'] == 2]\n",
    "accpd = acc[acc['ROLE'] == 3]"
   ]
  },
  {
   "cell_type": "code",
   "execution_count": 17,
   "metadata": {},
   "outputs": [
    {
     "name": "stdout",
     "output_type": "stream",
     "text": [
      "Seat belt or crash helmet worn: Count(Proportion)\n",
      "Yes: 39749(80.9%)\n",
      "No: 8868(18.0%)\n",
      "Unknown: 544(1.1%)\n"
     ]
    }
   ],
   "source": [
    "sb0 = accd['SB_WORN'][accd['SB_WORN'] == 1].count()\n",
    "sb1 = accd['SB_WORN'][accd['SB_WORN'] == 2].count()\n",
    "sb2 = accd['SB_WORN'][accd['SB_WORN'].isin([9, 0])].count()\n",
    "\n",
    "print('Seat belt or crash helmet worn: Count(Proportion)')\n",
    "print('Yes: %d(%.1f%%)' % (sb0, sb0/accd['SB_WORN'].count()*100))\n",
    "print('No: %d(%.1f%%)' % (sb1, sb1/accd['SB_WORN'].count()*100))\n",
    "print('Unknown: %d(%.1f%%)' % (sb2, sb2/accd['SB_WORN'].count()*100))"
   ]
  },
  {
   "cell_type": "code",
   "execution_count": 18,
   "metadata": {},
   "outputs": [
    {
     "name": "stdout",
     "output_type": "stream",
     "text": [
      "Seat belt or crash helmet worn: Count(Proportion)\n",
      "Yes: 23394(68.9%)\n",
      "No: 9782(28.8%)\n",
      "Unknown: 774(2.3%)\n"
     ]
    }
   ],
   "source": [
    "sb0 = accp['SB_WORN'][accp['SB_WORN'] == 1].count()\n",
    "sb1 = accp['SB_WORN'][accp['SB_WORN'] == 2].count()\n",
    "sb2 = accp['SB_WORN'][accp['SB_WORN'].isin([9, 0])].count()\n",
    "\n",
    "print('Seat belt or crash helmet worn: Count(Proportion)')\n",
    "print('Yes: %d(%.1f%%)' % (sb0, sb0/accp['SB_WORN'].count()*100))\n",
    "print('No: %d(%.1f%%)' % (sb1, sb1/accp['SB_WORN'].count()*100))\n",
    "print('Unknown: %d(%.1f%%)' % (sb2, sb2/accp['SB_WORN'].count()*100))"
   ]
  },
  {
   "cell_type": "code",
   "execution_count": 19,
   "metadata": {},
   "outputs": [
    {
     "name": "stdout",
     "output_type": "stream",
     "text": [
      "Seat belt or crash helmet worn: Count(Proportion)\n",
      "Yes: 0(0.0%)\n",
      "No: 0(0.0%)\n",
      "Unknown: 18062(100.0%)\n"
     ]
    }
   ],
   "source": [
    "sb0 = accpd['SB_WORN'][accpd['SB_WORN'] == 1].count()\n",
    "sb1 = accpd['SB_WORN'][accpd['SB_WORN'] == 2].count()\n",
    "sb2 = accpd['SB_WORN'][accpd['SB_WORN'].isin([9, 0])].count()\n",
    "\n",
    "print('Seat belt or crash helmet worn: Count(Proportion)')\n",
    "print('Yes: %d(%.1f%%)' % (sb0, sb0/accpd['SB_WORN'].count()*100))\n",
    "print('No: %d(%.1f%%)' % (sb1, sb1/accpd['SB_WORN'].count()*100))\n",
    "print('Unknown: %d(%.1f%%)' % (sb2, sb2/accpd['SB_WORN'].count()*100))"
   ]
  },
  {
   "cell_type": "code",
   "execution_count": 20,
   "metadata": {},
   "outputs": [
    {
     "name": "stdout",
     "output_type": "stream",
     "text": [
      "Seat Occupied: Count(Proportion)\n",
      "Driver/Rider: 49161(48.6%)\n",
      "Front Nearside: 6202(6.1%)\n",
      "Rear: 20230(20.0%)\n",
      "Standing: 6408(6.3%)\n",
      "Others: 0(0.0%)\n",
      "Unknown: 0(0.0%)\n"
     ]
    }
   ],
   "source": [
    "s0 = acc['SEAT'][acc['SEAT'] == 3].count()\n",
    "s1 = acc['SEAT'][acc['SEAT'] == 2].count()\n",
    "s2 = acc['SEAT'][acc['SEAT'] == 1].count()\n",
    "s3 = acc['SEAT'][acc['SEAT'].isin([4, 8])].count()\n",
    "s4 = accd['SEAT'][accd['SEAT'].isin([6, 7])].count()\n",
    "s5 = accd['SEAT'][accd['SEAT'].isin([0, 9])].count()\n",
    "\n",
    "print('Seat Occupied: Count(Proportion)')\n",
    "print('Driver/Rider: %d(%.1f%%)' % (s0, s0/acc['SEAT'].count()*100))\n",
    "print('Front Nearside: %d(%.1f%%)' % (s1, s1/acc['SEAT'].count()*100))\n",
    "print('Rear: %d(%.1f%%)' % (s2, s2/acc['SEAT'].count()*100))\n",
    "print('Standing: %d(%.1f%%)' % (s3, s3/acc['SEAT'].count()*100))\n",
    "print('Others: %d(%.1f%%)' % (s4, s4/acc['SEAT'].count()*100))\n",
    "print('Unknown: %d(%.1f%%)' % (s5, s5/acc['SEAT'].count()*100))"
   ]
  },
  {
   "cell_type": "code",
   "execution_count": 21,
   "metadata": {},
   "outputs": [
    {
     "name": "stdout",
     "output_type": "stream",
     "text": [
      "Seat Occupied: Count(Proportion)\n",
      "Driver/Rider: 49161(100.0%)\n",
      "Front Nearside: 0(0.0%)\n",
      "Rear: 0(0.0%)\n",
      "Standing: 0(0.0%)\n",
      "Others: 0(0.0%)\n",
      "Unknown: 0(0.0%)\n"
     ]
    }
   ],
   "source": [
    "s0 = accd['SEAT'][accd['SEAT'] == 3].count()\n",
    "s1 = accd['SEAT'][accd['SEAT'] == 2].count()\n",
    "s2 = accd['SEAT'][accd['SEAT'] == 1].count()\n",
    "s3 = accd['SEAT'][accd['SEAT'].isin([4, 8])].count()\n",
    "s4 = accd['SEAT'][accd['SEAT'].isin([6, 7])].count()\n",
    "s5 = accd['SEAT'][accd['SEAT'].isin([0, 9])].count()\n",
    "\n",
    "print('Seat Occupied: Count(Proportion)')\n",
    "print('Driver/Rider: %d(%.1f%%)' % (s0, s0/accd['SEAT'].count()*100))\n",
    "print('Front Nearside: %d(%.1f%%)' % (s1, s1/accd['SEAT'].count()*100))\n",
    "print('Rear: %d(%.1f%%)' % (s2, s2/accd['SEAT'].count()*100))\n",
    "print('Standing: %d(%.1f%%)' % (s3, s3/accd['SEAT'].count()*100))\n",
    "print('Others: %d(%.1f%%)' % (s4, s4/accd['SEAT'].count()*100))\n",
    "print('Unknown: %d(%.1f%%)' % (s5, s5/accd['SEAT'].count()*100))"
   ]
  },
  {
   "cell_type": "code",
   "execution_count": 22,
   "metadata": {},
   "outputs": [
    {
     "name": "stdout",
     "output_type": "stream",
     "text": [
      "Seat Occupied: Count(Proportion)\n",
      "Driver/Rider: 0(0.0%)\n",
      "Front Nearside: 6202(18.3%)\n",
      "Rear: 20230(59.6%)\n",
      "Standing: 6408(18.9%)\n",
      "Others: 20(0.1%)\n",
      "Unknown: 1090(3.2%)\n"
     ]
    }
   ],
   "source": [
    "s0 = accp['SEAT'][accp['SEAT'] == 3].count()\n",
    "s1 = accp['SEAT'][accp['SEAT'] == 2].count()\n",
    "s2 = accp['SEAT'][accp['SEAT'] == 1].count()\n",
    "s3 = accp['SEAT'][accp['SEAT'].isin([4, 8])].count()\n",
    "s4 = accp['SEAT'][accp['SEAT'].isin([6, 7])].count()\n",
    "s5 = accp['SEAT'][accp['SEAT'].isin([0, 9])].count()\n",
    "\n",
    "print('Seat Occupied: Count(Proportion)')\n",
    "print('Driver/Rider: %d(%.1f%%)' % (s0, s0/accp['SEAT'].count()*100))\n",
    "print('Front Nearside: %d(%.1f%%)' % (s1, s1/accp['SEAT'].count()*100))\n",
    "print('Rear: %d(%.1f%%)' % (s2, s2/accp['SEAT'].count()*100))\n",
    "print('Standing: %d(%.1f%%)' % (s3, s3/accp['SEAT'].count()*100))\n",
    "print('Others: %d(%.1f%%)' % (s4, s4/accp['SEAT'].count()*100))\n",
    "print('Unknown: %d(%.1f%%)' % (s5, s5/accp['SEAT'].count()*100))"
   ]
  },
  {
   "cell_type": "code",
   "execution_count": 23,
   "metadata": {},
   "outputs": [
    {
     "name": "stdout",
     "output_type": "stream",
     "text": [
      "Seat Occupied: Count(Proportion)\n",
      "Driver/Rider: 0(0.0%)\n",
      "Front Nearside: 0(0.0%)\n",
      "Rear: 0(0.0%)\n",
      "Standing: 0(0.0%)\n",
      "Others: 0(0.0%)\n",
      "Unknown: 18062(100.0%)\n"
     ]
    }
   ],
   "source": [
    "s0 = accpd['SEAT'][accpd['SEAT'] == 3].count()\n",
    "s1 = accpd['SEAT'][accpd['SEAT'] == 2].count()\n",
    "s2 = accpd['SEAT'][accpd['SEAT'] == 1].count()\n",
    "s3 = accpd['SEAT'][accpd['SEAT'].isin([4, 8])].count()\n",
    "s4 = accpd['SEAT'][accpd['SEAT'].isin([6, 7])].count()\n",
    "s5 = accpd['SEAT'][accpd['SEAT'].isin([0, 9])].count()\n",
    "\n",
    "print('Seat Occupied: Count(Proportion)')\n",
    "print('Driver/Rider: %d(%.1f%%)' % (s0, s0/accpd['SEAT'].count()*100))\n",
    "print('Front Nearside: %d(%.1f%%)' % (s1, s1/accpd['SEAT'].count()*100))\n",
    "print('Rear: %d(%.1f%%)' % (s2, s2/accpd['SEAT'].count()*100))\n",
    "print('Standing: %d(%.1f%%)' % (s3, s3/accpd['SEAT'].count()*100))\n",
    "print('Others: %d(%.1f%%)' % (s4, s4/accpd['SEAT'].count()*100))\n",
    "print('Unknown: %d(%.1f%%)' % (s5, s5/accpd['SEAT'].count()*100))"
   ]
  },
  {
   "cell_type": "code",
   "execution_count": 24,
   "metadata": {},
   "outputs": [
    {
     "name": "stdout",
     "output_type": "stream",
     "text": [
      "Pedestrian Location: Count(Proportion)\n",
      "On controlled crossing: 2591(2.6%)\n",
      "Within 15M of controlled crossing: 1059(1.0%)\n",
      "Others: 14134(14.0%)\n",
      "Unknown: 83389(82%)\n"
     ]
    }
   ],
   "source": [
    "p0 = acc['PED_LOCATN'][acc['PED_LOCATN'] == 3].count()\n",
    "p1 = acc['PED_LOCATN'][acc['PED_LOCATN'] == 4].count()\n",
    "p2 = acc['PED_LOCATN'][acc['PED_LOCATN'].isin([1, 2, 5, 8])].count()\n",
    "p3 = acc['PED_LOCATN'][acc['PED_LOCATN'].isin([0, 9])].count()\n",
    "\n",
    "print('Pedestrian Location: Count(Proportion)')\n",
    "print('On controlled crossing: %d(%.1f%%)' % (p0, p0/acc['PED_LOCATN'].count()*100))\n",
    "print('Within 15M of controlled crossing: %d(%.1f%%)' % (p1, p1/acc['PED_LOCATN'].count()*100))\n",
    "print('Others: %d(%.1f%%)' % (p2, p2/acc['PED_LOCATN'].count()*100))\n",
    "print('Unknown: %d(%1.f%%)' % (p3, p3/acc['PED_LOCATN'].count()*100))"
   ]
  },
  {
   "cell_type": "code",
   "execution_count": 25,
   "metadata": {},
   "outputs": [
    {
     "name": "stdout",
     "output_type": "stream",
     "text": [
      "Pedestrian Location: Count(Proportion)\n",
      "On controlled crossing: 2591(14.3%)\n",
      "Within 15M of controlled crossing: 1059(5.9%)\n",
      "Others: 14134(78.3%)\n",
      "Unkown: 278(2%)\n"
     ]
    }
   ],
   "source": [
    "pp0 = accpd['PED_LOCATN'][accpd['PED_LOCATN'] == 3].count()\n",
    "pp1 = accpd['PED_LOCATN'][accpd['PED_LOCATN'] == 4].count()\n",
    "pp2 = accpd['PED_LOCATN'][accpd['PED_LOCATN'].isin([1, 2, 5, 8])].count()\n",
    "pp3 = accpd['PED_LOCATN'][accpd['PED_LOCATN'].isin([0, 9])].count()\n",
    "\n",
    "print('Pedestrian Location: Count(Proportion)')\n",
    "print('On controlled crossing: %d(%.1f%%)' % (pp0, pp0/accpd['PED_LOCATN'].count()*100))\n",
    "print('Within 15M of controlled crossing: %d(%.1f%%)' % (pp1, pp1/accpd['PED_LOCATN'].count()*100))\n",
    "print('Others: %d(%.1f%%)' % (pp2, pp2/accpd['PED_LOCATN'].count()*100))\n",
    "print('Unkown: %d(%1.f%%)' % (pp3, pp3/accpd['PED_LOCATN'].count()*100))"
   ]
  },
  {
   "cell_type": "code",
   "execution_count": 26,
   "metadata": {},
   "outputs": [
    {
     "name": "stdout",
     "output_type": "stream",
     "text": [
      "2013    20596\n",
      "2015    20381\n",
      "2012    20210\n",
      "2016    20132\n",
      "2014    19854\n",
      "Name: YEAR, dtype: int64\n",
      "2013    0.203572\n",
      "2015    0.201447\n",
      "2012    0.199757\n",
      "2016    0.198986\n",
      "2014    0.196238\n",
      "Name: YEAR, dtype: float64\n"
     ]
    }
   ],
   "source": [
    "print(acc['YEAR'].value_counts())\n",
    "print(acc['YEAR'].value_counts(normalize=True))"
   ]
  },
  {
   "cell_type": "code",
   "execution_count": 27,
   "metadata": {},
   "outputs": [],
   "source": [
    "# ACC_TIME\n",
    "acc['ACC_TIME'] = acc['ACC_TIME'].map(\n",
    "    lambda x: str_append(str(x)))\n",
    "acc['HOUR'] = pd.to_datetime(acc['ACC_TIME'], format='%H%M').dt.hour\n",
    "# Split into four group,\n",
    "acc['HOUR'][acc['HOUR'].isin([7, 8, 9])] = '7:00 - 9:59 a.m.'\n",
    "acc['HOUR'][acc['HOUR'].isin(\n",
    "    [10, 11, 12, 13, 14, 15])] = '10:00 a.m. - 3:59 p.m.'\n",
    "acc['HOUR'][acc['HOUR'].isin([16, 17, 18])] = '4:00 - 6:59 p.m.'\n",
    "acc['HOUR'][acc['HOUR'].isin(\n",
    "    [19, 20, 21, 22, 23, 0, 1, 2, 3, 4, 5, 6])] = '7:00 p.m. - 6:59 a.m.'\n",
    "# Convert to dummy variables\n",
    "acc['HOUR'][acc['HOUR'] == '7:00 p.m. - 6:59 a.m.'] = 0\n",
    "acc['HOUR'][acc['HOUR'] == '7:00 - 9:59 a.m.'] = 1\n",
    "acc['HOUR'][acc['HOUR'] == '10:00 a.m. - 3:59 p.m.'] = 2\n",
    "acc['HOUR'][acc['HOUR'] == '4:00 - 6:59 p.m.'] = 3\n",
    "# Merge into acc\n",
    "dummy = pd.get_dummies(acc['HOUR'], drop_first=True).rename(columns={1: '7:00 - 9:59 a.m.',\n",
    "                                                                     2: '10:00 a.m. - 3:59 p.m.',\n",
    "                                                                     3: '4:00 - 6:59 p.m.'})\n",
    "acc = pd.concat([acc, dummy], axis=1).drop(['HOUR', 'ACC_TIME'], axis=1)"
   ]
  },
  {
   "cell_type": "code",
   "execution_count": 28,
   "metadata": {},
   "outputs": [],
   "source": [
    "# Similarly, group and dummy WEEK_DAY,\n",
    "# Split into two group, weekday and weekend, and Convert to dummy variables\n",
    "acc['WEEK_DAY'][acc['WEEK_DAY'].isin([1, 2, 3, 4, 5])] = 1\n",
    "acc['WEEK_DAY'][acc['WEEK_DAY'].isin([6, 7])] = 0\n",
    "# Merge into acc\n",
    "dummy = pd.get_dummies(acc['WEEK_DAY'], drop_first=True).rename(columns={1: 'Monday - Friday'})\n",
    "acc = pd.concat([acc, dummy], axis=1).drop('WEEK_DAY', axis=1)"
   ]
  },
  {
   "cell_type": "code",
   "execution_count": 29,
   "metadata": {},
   "outputs": [],
   "source": [
    "# Similarly, group and dummy RAIN\n",
    "# Remove Unknown rows,\n",
    "acc = acc[~acc['RAIN'].isin([9, 0])]\n",
    "# Convert to dummy variables\n",
    "acc['RAIN'][acc['RAIN'] == 1] = 0\n",
    "acc['RAIN'][acc['RAIN'] == 2] = 1\n",
    "acc['RAIN'][acc['RAIN'] == 3] = 2\n",
    "# Merge into acc\n",
    "dummy = pd.get_dummies(acc['RAIN'], drop_first=True).rename(columns={1: 'Light rain',\n",
    "                                                                     2: 'Heavy rain'})\n",
    "acc = pd.concat([acc, dummy], axis=1).drop('RAIN', axis=1)"
   ]
  },
  {
   "cell_type": "code",
   "execution_count": 30,
   "metadata": {},
   "outputs": [],
   "source": [
    "# Similarly, group and dummy SPEED_LMT\n",
    "# Convert to dummy variables\n",
    "acc['SPEED_LMT'][acc['SPEED_LMT'] > 50] = 0\n",
    "acc['SPEED_LMT'][acc['SPEED_LMT'] < 50] = 1\n",
    "acc['SPEED_LMT'][acc['SPEED_LMT'] == 50] = 2\n",
    "# Merge into acc\n",
    "dummy = pd.get_dummies(acc['SPEED_LMT'], drop_first=True).rename(columns={1: 'Below 50 km/h',\n",
    "                                                                          2: '50 km/h'})\n",
    "acc = pd.concat([acc, dummy], axis=1).drop('SPEED_LMT', axis=1)"
   ]
  },
  {
   "cell_type": "code",
   "execution_count": 31,
   "metadata": {},
   "outputs": [],
   "source": [
    "# Similarly, group and dummy TRAFF_CONG\n",
    "# Remove Unknown rows,\n",
    "acc = acc[~acc['TRAFF_CONG'].isin([9, 0])]\n",
    "# Convert to dummy variables\n",
    "acc['TRAFF_CONG'][acc['TRAFF_CONG'] == 3] = 0\n",
    "# Merge into acc\n",
    "dummy = pd.get_dummies(acc['TRAFF_CONG'], drop_first=True).rename(columns={1: 'Severe Congestion',\n",
    "                                                                           2: 'Moderate Congestion'})\n",
    "acc = pd.concat([acc, dummy], axis=1).drop('TRAFF_CONG', axis=1)"
   ]
  },
  {
   "cell_type": "code",
   "execution_count": 32,
   "metadata": {},
   "outputs": [],
   "source": [
    "# Similarly, group and dummy JCN_CTRL\n",
    "# Remove Unknown rows,\n",
    "acc = acc[~acc['JCN_CTRL'].isin([9, 0])]\n",
    "# Convert to dummy variables\n",
    "acc['JCN_CTRL'][acc['JCN_CTRL'] == 6] = 0\n",
    "acc['JCN_CTRL'][acc['JCN_CTRL'] == 4] = 1\n",
    "acc['JCN_CTRL'][acc['JCN_CTRL'].isin([2, 3, 5])] = 2\n",
    "acc['JCN_CTRL'][acc['JCN_CTRL'] == 1] = 3\n",
    "# Merge into acc\n",
    "dummy = pd.get_dummies(acc['JCN_CTRL'], drop_first=True).rename(columns={1: 'Non Junction',\n",
    "                                                                         2: 'Traffic Signal',\n",
    "                                                                         3: 'Other Control Types',\n",
    "                                                                         4: 'No Control'})\n",
    "acc = pd.concat([acc, dummy], axis=1).drop('JCN_CTRL', axis=1)"
   ]
  },
  {
   "cell_type": "code",
   "execution_count": 33,
   "metadata": {},
   "outputs": [],
   "source": [
    "# Similarly, group and dummy RD_TYPE\n",
    "# Remove Unknown rows\n",
    "acc = acc[~acc['RD_TYPE'].isin([9, 0])]\n",
    "# Convert to dummy variables\n",
    "acc['RD_TYPE'][acc['RD_TYPE'].isin([3, 4])] = 0\n",
    "# Merge into acc\n",
    "dummy = pd.get_dummies(acc['RD_TYPE'], drop_first=True).rename(columns={1: 'One-way Carriageway',\n",
    "                                                                        2: 'Two-way Carriageway'})\n",
    "acc = pd.concat([acc, dummy], axis=1).drop('RD_TYPE', axis=1)"
   ]
  },
  {
   "cell_type": "code",
   "execution_count": 34,
   "metadata": {},
   "outputs": [],
   "source": [
    "# Similarly, group and dummy CAS_AGE\n",
    "# Remove Unknown rows\n",
    "acc = acc[~acc['CAS_AGE'].isin([0, 99, 999])]\n",
    "# Convert to dummy variables\n",
    "acc['CAS_AGE'] = pd.cut(acc['CAS_AGE'], [0, 15, 66, 120], labels=[0, 1, 2])\n",
    "# Merge into acc\n",
    "dummy = pd.get_dummies(acc['CAS_AGE']).rename(columns={0: 'Under 15',\n",
    "                                                       1: '15 - 65',\n",
    "                                                       2: 'Above 65'})\n",
    "acc = pd.concat([acc, dummy], axis=1).drop(['CAS_AGE', '15 - 65'], axis=1)"
   ]
  },
  {
   "cell_type": "code",
   "execution_count": 35,
   "metadata": {},
   "outputs": [],
   "source": [
    "# Similarly, group and dummy CAS_SEX\n",
    "# Remove Unknown rows\n",
    "acc = acc[~acc['CAS_SEX'].isin([0, 9])]\n",
    "# Convert to dummy variables\n",
    "acc['CAS_SEX'][acc['CAS_SEX'] == 2] = 0\n",
    "# Merge into acc\n",
    "dummy = pd.get_dummies(acc['CAS_SEX'], drop_first=True).rename(columns={1: 'Male'})\n",
    "acc = pd.concat([acc, dummy], axis=1).drop('CAS_SEX', axis=1)"
   ]
  },
  {
   "cell_type": "code",
   "execution_count": 36,
   "metadata": {},
   "outputs": [],
   "source": [
    "# Similarly, group and dummy Year\n",
    "dummy = pd.get_dummies(acc['YEAR'], prefix='YEAR').drop('YEAR_2016', axis=1)\n",
    "acc = pd.concat([acc, dummy], axis=1).drop(['YEAR'], axis=1)"
   ]
  },
  {
   "cell_type": "code",
   "execution_count": 37,
   "metadata": {},
   "outputs": [],
   "source": [
    "# Group INJURY for binary classification\n",
    "acc['INJURY'][acc['INJURY'].isin([1, 2])] = 1\n",
    "acc['INJURY'][acc['INJURY'] == 3] = 0\n",
    "# which means the model would find the prob of seriously injury with the given conditions."
   ]
  },
  {
   "cell_type": "code",
   "execution_count": 38,
   "metadata": {},
   "outputs": [
    {
     "data": {
      "text/html": [
       "<div>\n",
       "<style scoped>\n",
       "    .dataframe tbody tr th:only-of-type {\n",
       "        vertical-align: middle;\n",
       "    }\n",
       "\n",
       "    .dataframe tbody tr th {\n",
       "        vertical-align: top;\n",
       "    }\n",
       "\n",
       "    .dataframe thead th {\n",
       "        text-align: right;\n",
       "    }\n",
       "</style>\n",
       "<table border=\"1\" class=\"dataframe\">\n",
       "  <thead>\n",
       "    <tr style=\"text-align: right;\">\n",
       "      <th></th>\n",
       "      <th>INJURY</th>\n",
       "      <th>ROLE</th>\n",
       "      <th>SB_WORN</th>\n",
       "      <th>SEAT</th>\n",
       "      <th>PED_LOCATN</th>\n",
       "      <th>7:00 - 9:59 a.m.</th>\n",
       "      <th>10:00 a.m. - 3:59 p.m.</th>\n",
       "      <th>4:00 - 6:59 p.m.</th>\n",
       "      <th>Monday - Friday</th>\n",
       "      <th>Light rain</th>\n",
       "      <th>...</th>\n",
       "      <th>Other Control Types</th>\n",
       "      <th>One-way Carriageway</th>\n",
       "      <th>Two-way Carriageway</th>\n",
       "      <th>Under 15</th>\n",
       "      <th>Above 65</th>\n",
       "      <th>Male</th>\n",
       "      <th>YEAR_2012</th>\n",
       "      <th>YEAR_2013</th>\n",
       "      <th>YEAR_2014</th>\n",
       "      <th>YEAR_2015</th>\n",
       "    </tr>\n",
       "  </thead>\n",
       "  <tbody>\n",
       "    <tr>\n",
       "      <th>0</th>\n",
       "      <td>0</td>\n",
       "      <td>3</td>\n",
       "      <td>0</td>\n",
       "      <td>0</td>\n",
       "      <td>2</td>\n",
       "      <td>0</td>\n",
       "      <td>0</td>\n",
       "      <td>0</td>\n",
       "      <td>0</td>\n",
       "      <td>0</td>\n",
       "      <td>...</td>\n",
       "      <td>0</td>\n",
       "      <td>0</td>\n",
       "      <td>1</td>\n",
       "      <td>0</td>\n",
       "      <td>0</td>\n",
       "      <td>1</td>\n",
       "      <td>1</td>\n",
       "      <td>0</td>\n",
       "      <td>0</td>\n",
       "      <td>0</td>\n",
       "    </tr>\n",
       "    <tr>\n",
       "      <th>1</th>\n",
       "      <td>0</td>\n",
       "      <td>2</td>\n",
       "      <td>1</td>\n",
       "      <td>2</td>\n",
       "      <td>0</td>\n",
       "      <td>0</td>\n",
       "      <td>0</td>\n",
       "      <td>0</td>\n",
       "      <td>0</td>\n",
       "      <td>0</td>\n",
       "      <td>...</td>\n",
       "      <td>1</td>\n",
       "      <td>1</td>\n",
       "      <td>0</td>\n",
       "      <td>0</td>\n",
       "      <td>0</td>\n",
       "      <td>1</td>\n",
       "      <td>1</td>\n",
       "      <td>0</td>\n",
       "      <td>0</td>\n",
       "      <td>0</td>\n",
       "    </tr>\n",
       "    <tr>\n",
       "      <th>2</th>\n",
       "      <td>0</td>\n",
       "      <td>1</td>\n",
       "      <td>1</td>\n",
       "      <td>3</td>\n",
       "      <td>0</td>\n",
       "      <td>0</td>\n",
       "      <td>0</td>\n",
       "      <td>0</td>\n",
       "      <td>0</td>\n",
       "      <td>0</td>\n",
       "      <td>...</td>\n",
       "      <td>0</td>\n",
       "      <td>1</td>\n",
       "      <td>0</td>\n",
       "      <td>0</td>\n",
       "      <td>0</td>\n",
       "      <td>1</td>\n",
       "      <td>1</td>\n",
       "      <td>0</td>\n",
       "      <td>0</td>\n",
       "      <td>0</td>\n",
       "    </tr>\n",
       "    <tr>\n",
       "      <th>3</th>\n",
       "      <td>0</td>\n",
       "      <td>1</td>\n",
       "      <td>1</td>\n",
       "      <td>3</td>\n",
       "      <td>0</td>\n",
       "      <td>0</td>\n",
       "      <td>0</td>\n",
       "      <td>0</td>\n",
       "      <td>0</td>\n",
       "      <td>0</td>\n",
       "      <td>...</td>\n",
       "      <td>0</td>\n",
       "      <td>1</td>\n",
       "      <td>0</td>\n",
       "      <td>0</td>\n",
       "      <td>0</td>\n",
       "      <td>1</td>\n",
       "      <td>1</td>\n",
       "      <td>0</td>\n",
       "      <td>0</td>\n",
       "      <td>0</td>\n",
       "    </tr>\n",
       "    <tr>\n",
       "      <th>4</th>\n",
       "      <td>0</td>\n",
       "      <td>1</td>\n",
       "      <td>1</td>\n",
       "      <td>3</td>\n",
       "      <td>0</td>\n",
       "      <td>0</td>\n",
       "      <td>0</td>\n",
       "      <td>0</td>\n",
       "      <td>0</td>\n",
       "      <td>0</td>\n",
       "      <td>...</td>\n",
       "      <td>0</td>\n",
       "      <td>1</td>\n",
       "      <td>0</td>\n",
       "      <td>0</td>\n",
       "      <td>0</td>\n",
       "      <td>0</td>\n",
       "      <td>1</td>\n",
       "      <td>0</td>\n",
       "      <td>0</td>\n",
       "      <td>0</td>\n",
       "    </tr>\n",
       "  </tbody>\n",
       "</table>\n",
       "<p>5 rows × 25 columns</p>\n",
       "</div>"
      ],
      "text/plain": [
       "   INJURY  ROLE  SB_WORN  SEAT  PED_LOCATN  7:00 - 9:59 a.m.  \\\n",
       "0       0     3        0     0           2                 0   \n",
       "1       0     2        1     2           0                 0   \n",
       "2       0     1        1     3           0                 0   \n",
       "3       0     1        1     3           0                 0   \n",
       "4       0     1        1     3           0                 0   \n",
       "\n",
       "   10:00 a.m. - 3:59 p.m.  4:00 - 6:59 p.m.  Monday - Friday  Light rain  \\\n",
       "0                       0                 0                0           0   \n",
       "1                       0                 0                0           0   \n",
       "2                       0                 0                0           0   \n",
       "3                       0                 0                0           0   \n",
       "4                       0                 0                0           0   \n",
       "\n",
       "     ...      Other Control Types  One-way Carriageway  Two-way Carriageway  \\\n",
       "0    ...                        0                    0                    1   \n",
       "1    ...                        1                    1                    0   \n",
       "2    ...                        0                    1                    0   \n",
       "3    ...                        0                    1                    0   \n",
       "4    ...                        0                    1                    0   \n",
       "\n",
       "   Under 15  Above 65  Male  YEAR_2012  YEAR_2013  YEAR_2014  YEAR_2015  \n",
       "0         0         0     1          1          0          0          0  \n",
       "1         0         0     1          1          0          0          0  \n",
       "2         0         0     1          1          0          0          0  \n",
       "3         0         0     1          1          0          0          0  \n",
       "4         0         0     0          1          0          0          0  \n",
       "\n",
       "[5 rows x 25 columns]"
      ]
     },
     "execution_count": 38,
     "metadata": {},
     "output_type": "execute_result"
    }
   ],
   "source": [
    "acc.head()"
   ]
  },
  {
   "cell_type": "code",
   "execution_count": 39,
   "metadata": {},
   "outputs": [
    {
     "data": {
      "text/plain": [
       "Index(['INJURY', 'ROLE', 'SB_WORN', 'SEAT', 'PED_LOCATN', '7:00 - 9:59 a.m.',\n",
       "       '10:00 a.m. - 3:59 p.m.', '4:00 - 6:59 p.m.', 'Monday - Friday',\n",
       "       'Light rain', 'Heavy rain', '50 km/h', 'Severe Congestion',\n",
       "       'Moderate Congestion', 'Traffic Signal', 'Other Control Types',\n",
       "       'One-way Carriageway', 'Two-way Carriageway', 'Under 15', 'Above 65',\n",
       "       'Male', 'YEAR_2012', 'YEAR_2013', 'YEAR_2014', 'YEAR_2015'],\n",
       "      dtype='object')"
      ]
     },
     "execution_count": 39,
     "metadata": {},
     "output_type": "execute_result"
    }
   ],
   "source": [
    "acc.columns"
   ]
  },
  {
   "cell_type": "code",
   "execution_count": 40,
   "metadata": {},
   "outputs": [],
   "source": [
    "# split dataset to into 3 group, driver, passenger and pedestrian"
   ]
  },
  {
   "cell_type": "code",
   "execution_count": 41,
   "metadata": {},
   "outputs": [],
   "source": [
    "acc_driver = acc[acc['ROLE'] == 1].drop(['ROLE', 'SEAT', 'PED_LOCATN'], axis=1)\n",
    "acc_passen = acc[acc['ROLE'] == 2].drop(['ROLE', 'PED_LOCATN'], axis=1)\n",
    "acc_pedest = acc[acc['ROLE'] == 3].drop(['ROLE', 'SEAT', 'SB_WORN'], axis=1)"
   ]
  },
  {
   "cell_type": "code",
   "execution_count": 42,
   "metadata": {},
   "outputs": [],
   "source": [
    "# Similarly, group and dummy SB_WORN, but this is only for driver and passen\n",
    "# Remove Unknown rows\n",
    "acc_driver = acc_driver[~acc_driver['SB_WORN'].isin([0, 9])]\n",
    "acc_passen = acc_passen[~acc_passen['SB_WORN'].isin([0, 9])]\n",
    "# Convert to dummy variables\n",
    "acc_driver['SB_WORN'][acc_driver['SB_WORN'] == 2] = 0\n",
    "acc_passen['SB_WORN'][acc_passen['SB_WORN'] == 2] = 0\n",
    "# Merge into acc\n",
    "dummy = pd.get_dummies(acc_driver['SB_WORN'], drop_first=True).rename(columns={1: 'With belt or helmet'})\n",
    "acc_driver = pd.concat([acc_driver, dummy], axis=1).drop('SB_WORN', axis=1)\n",
    "dummy = pd.get_dummies(acc_passen['SB_WORN'], drop_first=True).rename(columns={1: 'With belt or helmet'})\n",
    "acc_passen = pd.concat([acc_passen, dummy], axis=1).drop('SB_WORN', axis=1)"
   ]
  },
  {
   "cell_type": "code",
   "execution_count": 43,
   "metadata": {},
   "outputs": [],
   "source": [
    "# Similarly, group and dummy SEAT, but this is only for passen\n",
    "# Convert to dummy variables\n",
    "acc_passen['SEAT'][acc_passen['SEAT'].isin([0, 6, 7, 9])] = 5\n",
    "acc_passen['SEAT'][acc_passen['SEAT'].isin([4, 8])] = 4\n",
    "acc_passen['SEAT'][acc_passen['SEAT'] == 3] = 0\n",
    "# Merge into acc\n",
    "# rmk Control variables is Driver/Rider\n",
    "dummy = pd.get_dummies(acc_passen['SEAT'], drop_first=True).rename(\n",
    "    columns={1: 'Rear', 2: 'Front nearside', 4: 'Standing', 5: 'Others'})\n",
    "acc_passen = pd.concat([acc_passen, dummy], axis=1).drop('SEAT', axis=1)"
   ]
  },
  {
   "cell_type": "code",
   "execution_count": 44,
   "metadata": {},
   "outputs": [],
   "source": [
    "# Similarly, group and dummy PED_LOCATN, but this is only for pedest\n",
    "acc_pedest['PED_LOCATN'][acc_pedest['PED_LOCATN'].isin([0, 1, 2, 5, 8, 9])] = 0\n",
    "acc_pedest['PED_LOCATN'][acc_pedest['PED_LOCATN'] == 3] = 1\n",
    "acc_pedest['PED_LOCATN'][acc_pedest['PED_LOCATN'] == 4] = 2\n",
    "# Merge into acc\n",
    "# rmk Control variables is other\n",
    "dummy = pd.get_dummies(acc_pedest['PED_LOCATN'], drop_first=True).rename(\n",
    "    columns={1: 'On controlled crossing', 2: 'Within 15M of controlled crossing'})\n",
    "acc_pedest = pd.concat([acc_pedest, dummy], axis=1).drop('PED_LOCATN', axis=1)"
   ]
  },
  {
   "cell_type": "code",
   "execution_count": 45,
   "metadata": {},
   "outputs": [],
   "source": [
    "X_driver, y_driver = acc_driver.drop('INJURY', axis=1), acc_driver['INJURY']\n",
    "X_passen, y_passen = acc_passen.drop('INJURY', axis=1), acc_passen['INJURY']\n",
    "X_pedest, y_pedest = acc_pedest.drop('INJURY', axis=1), acc_pedest['INJURY']"
   ]
  },
  {
   "cell_type": "code",
   "execution_count": 46,
   "metadata": {},
   "outputs": [
    {
     "name": "stdout",
     "output_type": "stream",
     "text": [
      "Optimization terminated successfully.\n",
      "         Current function value: 0.389944\n",
      "         Iterations 6\n"
     ]
    }
   ],
   "source": [
    "X_driver = sm.add_constant(X_driver)\n",
    "m_driver = sm.Logit(y_driver, X_driver)\n",
    "r_driver = m_driver.fit()"
   ]
  },
  {
   "cell_type": "code",
   "execution_count": 47,
   "metadata": {},
   "outputs": [
    {
     "data": {
      "text/html": [
       "<table class=\"simpletable\">\n",
       "<caption>Logit Regression Results</caption>\n",
       "<tr>\n",
       "  <th>Dep. Variable:</th>      <td>INJURY</td>      <th>  No. Observations:  </th>   <td> 47838</td>  \n",
       "</tr>\n",
       "<tr>\n",
       "  <th>Model:</th>               <td>Logit</td>      <th>  Df Residuals:      </th>   <td> 47816</td>  \n",
       "</tr>\n",
       "<tr>\n",
       "  <th>Method:</th>               <td>MLE</td>       <th>  Df Model:          </th>   <td>    21</td>  \n",
       "</tr>\n",
       "<tr>\n",
       "  <th>Date:</th>          <td>Sat, 10 Feb 2018</td> <th>  Pseudo R-squ.:     </th>   <td>0.02473</td> \n",
       "</tr>\n",
       "<tr>\n",
       "  <th>Time:</th>              <td>22:55:58</td>     <th>  Log-Likelihood:    </th>  <td> -18654.</td> \n",
       "</tr>\n",
       "<tr>\n",
       "  <th>converged:</th>           <td>True</td>       <th>  LL-Null:           </th>  <td> -19127.</td> \n",
       "</tr>\n",
       "<tr>\n",
       "  <th> </th>                      <td> </td>        <th>  LLR p-value:       </th> <td>7.978e-187</td>\n",
       "</tr>\n",
       "</table>\n",
       "<table class=\"simpletable\">\n",
       "<tr>\n",
       "             <td></td>               <th>coef</th>     <th>std err</th>      <th>z</th>      <th>P>|z|</th>  <th>[0.025</th>    <th>0.975]</th>  \n",
       "</tr>\n",
       "<tr>\n",
       "  <th>const</th>                  <td>   -1.2983</td> <td>    0.071</td> <td>  -18.215</td> <td> 0.000</td> <td>   -1.438</td> <td>   -1.159</td>\n",
       "</tr>\n",
       "<tr>\n",
       "  <th>7:00 - 9:59 a.m.</th>       <td>   -0.2100</td> <td>    0.044</td> <td>   -4.818</td> <td> 0.000</td> <td>   -0.295</td> <td>   -0.125</td>\n",
       "</tr>\n",
       "<tr>\n",
       "  <th>10:00 a.m. - 3:59 p.m.</th> <td>   -0.1367</td> <td>    0.033</td> <td>   -4.124</td> <td> 0.000</td> <td>   -0.202</td> <td>   -0.072</td>\n",
       "</tr>\n",
       "<tr>\n",
       "  <th>4:00 - 6:59 p.m.</th>       <td>   -0.2102</td> <td>    0.039</td> <td>   -5.444</td> <td> 0.000</td> <td>   -0.286</td> <td>   -0.135</td>\n",
       "</tr>\n",
       "<tr>\n",
       "  <th>Monday - Friday</th>        <td>   -0.0996</td> <td>    0.029</td> <td>   -3.489</td> <td> 0.000</td> <td>   -0.156</td> <td>   -0.044</td>\n",
       "</tr>\n",
       "<tr>\n",
       "  <th>Light rain</th>             <td>   -0.1419</td> <td>    0.043</td> <td>   -3.320</td> <td> 0.001</td> <td>   -0.226</td> <td>   -0.058</td>\n",
       "</tr>\n",
       "<tr>\n",
       "  <th>Heavy rain</th>             <td>   -0.1377</td> <td>    0.100</td> <td>   -1.383</td> <td> 0.167</td> <td>   -0.333</td> <td>    0.057</td>\n",
       "</tr>\n",
       "<tr>\n",
       "  <th>50 km/h</th>                <td>   -0.1851</td> <td>    0.038</td> <td>   -4.873</td> <td> 0.000</td> <td>   -0.260</td> <td>   -0.111</td>\n",
       "</tr>\n",
       "<tr>\n",
       "  <th>Severe Congestion</th>      <td>   -0.2038</td> <td>    0.042</td> <td>   -4.846</td> <td> 0.000</td> <td>   -0.286</td> <td>   -0.121</td>\n",
       "</tr>\n",
       "<tr>\n",
       "  <th>Moderate Congestion</th>    <td>   -0.2167</td> <td>    0.034</td> <td>   -6.397</td> <td> 0.000</td> <td>   -0.283</td> <td>   -0.150</td>\n",
       "</tr>\n",
       "<tr>\n",
       "  <th>Traffic Signal</th>         <td>   -0.2967</td> <td>    0.072</td> <td>   -4.142</td> <td> 0.000</td> <td>   -0.437</td> <td>   -0.156</td>\n",
       "</tr>\n",
       "<tr>\n",
       "  <th>Other Control Types</th>    <td>   -0.3352</td> <td>    0.045</td> <td>   -7.518</td> <td> 0.000</td> <td>   -0.423</td> <td>   -0.248</td>\n",
       "</tr>\n",
       "<tr>\n",
       "  <th>One-way Carriageway</th>    <td>   -0.0891</td> <td>    0.038</td> <td>   -2.328</td> <td> 0.020</td> <td>   -0.164</td> <td>   -0.014</td>\n",
       "</tr>\n",
       "<tr>\n",
       "  <th>Two-way Carriageway</th>    <td>    0.3047</td> <td>    0.038</td> <td>    8.097</td> <td> 0.000</td> <td>    0.231</td> <td>    0.378</td>\n",
       "</tr>\n",
       "<tr>\n",
       "  <th>Under 15</th>               <td>   -0.5086</td> <td>    0.082</td> <td>   -6.216</td> <td> 0.000</td> <td>   -0.669</td> <td>   -0.348</td>\n",
       "</tr>\n",
       "<tr>\n",
       "  <th>Above 65</th>               <td>    0.6214</td> <td>    0.073</td> <td>    8.482</td> <td> 0.000</td> <td>    0.478</td> <td>    0.765</td>\n",
       "</tr>\n",
       "<tr>\n",
       "  <th>Male</th>                   <td>    0.1949</td> <td>    0.041</td> <td>    4.802</td> <td> 0.000</td> <td>    0.115</td> <td>    0.274</td>\n",
       "</tr>\n",
       "<tr>\n",
       "  <th>YEAR_2012</th>              <td>    0.0440</td> <td>    0.043</td> <td>    1.014</td> <td> 0.311</td> <td>   -0.041</td> <td>    0.129</td>\n",
       "</tr>\n",
       "<tr>\n",
       "  <th>YEAR_2013</th>              <td>    0.0765</td> <td>    0.043</td> <td>    1.781</td> <td> 0.075</td> <td>   -0.008</td> <td>    0.161</td>\n",
       "</tr>\n",
       "<tr>\n",
       "  <th>YEAR_2014</th>              <td>    0.1431</td> <td>    0.043</td> <td>    3.364</td> <td> 0.001</td> <td>    0.060</td> <td>    0.226</td>\n",
       "</tr>\n",
       "<tr>\n",
       "  <th>YEAR_2015</th>              <td>    0.0862</td> <td>    0.042</td> <td>    2.033</td> <td> 0.042</td> <td>    0.003</td> <td>    0.169</td>\n",
       "</tr>\n",
       "<tr>\n",
       "  <th>With belt or helmet</th>    <td>   -0.5028</td> <td>    0.034</td> <td>  -14.693</td> <td> 0.000</td> <td>   -0.570</td> <td>   -0.436</td>\n",
       "</tr>\n",
       "</table>"
      ],
      "text/plain": [
       "<class 'statsmodels.iolib.summary.Summary'>\n",
       "\"\"\"\n",
       "                           Logit Regression Results                           \n",
       "==============================================================================\n",
       "Dep. Variable:                 INJURY   No. Observations:                47838\n",
       "Model:                          Logit   Df Residuals:                    47816\n",
       "Method:                           MLE   Df Model:                           21\n",
       "Date:                Sat, 10 Feb 2018   Pseudo R-squ.:                 0.02473\n",
       "Time:                        22:55:58   Log-Likelihood:                -18654.\n",
       "converged:                       True   LL-Null:                       -19127.\n",
       "                                        LLR p-value:                7.978e-187\n",
       "==========================================================================================\n",
       "                             coef    std err          z      P>|z|      [0.025      0.975]\n",
       "------------------------------------------------------------------------------------------\n",
       "const                     -1.2983      0.071    -18.215      0.000      -1.438      -1.159\n",
       "7:00 - 9:59 a.m.          -0.2100      0.044     -4.818      0.000      -0.295      -0.125\n",
       "10:00 a.m. - 3:59 p.m.    -0.1367      0.033     -4.124      0.000      -0.202      -0.072\n",
       "4:00 - 6:59 p.m.          -0.2102      0.039     -5.444      0.000      -0.286      -0.135\n",
       "Monday - Friday           -0.0996      0.029     -3.489      0.000      -0.156      -0.044\n",
       "Light rain                -0.1419      0.043     -3.320      0.001      -0.226      -0.058\n",
       "Heavy rain                -0.1377      0.100     -1.383      0.167      -0.333       0.057\n",
       "50 km/h                   -0.1851      0.038     -4.873      0.000      -0.260      -0.111\n",
       "Severe Congestion         -0.2038      0.042     -4.846      0.000      -0.286      -0.121\n",
       "Moderate Congestion       -0.2167      0.034     -6.397      0.000      -0.283      -0.150\n",
       "Traffic Signal            -0.2967      0.072     -4.142      0.000      -0.437      -0.156\n",
       "Other Control Types       -0.3352      0.045     -7.518      0.000      -0.423      -0.248\n",
       "One-way Carriageway       -0.0891      0.038     -2.328      0.020      -0.164      -0.014\n",
       "Two-way Carriageway        0.3047      0.038      8.097      0.000       0.231       0.378\n",
       "Under 15                  -0.5086      0.082     -6.216      0.000      -0.669      -0.348\n",
       "Above 65                   0.6214      0.073      8.482      0.000       0.478       0.765\n",
       "Male                       0.1949      0.041      4.802      0.000       0.115       0.274\n",
       "YEAR_2012                  0.0440      0.043      1.014      0.311      -0.041       0.129\n",
       "YEAR_2013                  0.0765      0.043      1.781      0.075      -0.008       0.161\n",
       "YEAR_2014                  0.1431      0.043      3.364      0.001       0.060       0.226\n",
       "YEAR_2015                  0.0862      0.042      2.033      0.042       0.003       0.169\n",
       "With belt or helmet       -0.5028      0.034    -14.693      0.000      -0.570      -0.436\n",
       "==========================================================================================\n",
       "\"\"\""
      ]
     },
     "execution_count": 47,
     "metadata": {},
     "output_type": "execute_result"
    }
   ],
   "source": [
    "r_driver.summary()"
   ]
  },
  {
   "cell_type": "code",
   "execution_count": 48,
   "metadata": {},
   "outputs": [
    {
     "name": "stdout",
     "output_type": "stream",
     "text": [
      "                            2.5%     97.5%  Odds Ratio\n",
      "const                   0.237408  0.313932    0.273002\n",
      "7:00 - 9:59 a.m.        0.744208  0.882862    0.810576\n",
      "10:00 a.m. - 3:59 p.m.  0.817346  0.930774    0.872218\n",
      "4:00 - 6:59 p.m.        0.751341  0.874132    0.810414\n",
      "Monday - Friday         0.855918  0.957276    0.905180\n",
      "Light rain              0.797944  0.943507    0.867678\n",
      "Heavy rain              0.716905  1.059166    0.871390\n",
      "50 km/h                 0.771344  0.895233    0.830983\n",
      "Severe Congestion       0.751066  0.885699    0.815609\n",
      "Moderate Congestion     0.753412  0.860422    0.805141\n",
      "Traffic Signal          0.645952  0.855301    0.743293\n",
      "Other Control Types     0.655348  0.780512    0.715197\n",
      "One-way Carriageway     0.848681  0.986005    0.914770\n",
      "Two-way Carriageway     1.259799  1.460042    1.356230\n",
      "Under 15                0.512257  0.705961    0.601360\n",
      "Above 65                1.612554  2.149036    1.861568\n",
      "Male                    1.122256  1.315800    1.215181\n",
      "YEAR_2012               0.959793  1.137734    1.044983\n",
      "YEAR_2013               0.992340  1.174246    1.079468\n",
      "YEAR_2014               1.061542  1.254179    1.153847\n",
      "YEAR_2015               1.003104  1.184543    1.090055\n",
      "With belt or helmet     0.565609  0.646800    0.604844\n"
     ]
    }
   ],
   "source": [
    "p_driver = r_driver.params\n",
    "c_driver = r_driver.conf_int()\n",
    "c_driver['OR'] = p_driver\n",
    "c_driver.columns = ['2.5%', '97.5%', 'Odds Ratio']\n",
    "print(np.exp(c_driver))"
   ]
  },
  {
   "cell_type": "code",
   "execution_count": 49,
   "metadata": {},
   "outputs": [
    {
     "name": "stdout",
     "output_type": "stream",
     "text": [
      "Optimization terminated successfully.\n",
      "         Current function value: 0.273087\n",
      "         Iterations 8\n"
     ]
    }
   ],
   "source": [
    "#X_passen = sm.add_constant(X_passen)\n",
    "m_passen = sm.Logit(y_passen, X_passen)\n",
    "r_passen = m_passen.fit()"
   ]
  },
  {
   "cell_type": "code",
   "execution_count": 50,
   "metadata": {},
   "outputs": [
    {
     "data": {
      "text/html": [
       "<table class=\"simpletable\">\n",
       "<caption>Logit Regression Results</caption>\n",
       "<tr>\n",
       "  <th>Dep. Variable:</th>      <td>INJURY</td>      <th>  No. Observations:  </th>   <td> 31905</td>  \n",
       "</tr>\n",
       "<tr>\n",
       "  <th>Model:</th>               <td>Logit</td>      <th>  Df Residuals:      </th>   <td> 31881</td>  \n",
       "</tr>\n",
       "<tr>\n",
       "  <th>Method:</th>               <td>MLE</td>       <th>  Df Model:          </th>   <td>    23</td>  \n",
       "</tr>\n",
       "<tr>\n",
       "  <th>Date:</th>          <td>Sat, 10 Feb 2018</td> <th>  Pseudo R-squ.:     </th> <td>-0.0001830</td>\n",
       "</tr>\n",
       "<tr>\n",
       "  <th>Time:</th>              <td>22:55:59</td>     <th>  Log-Likelihood:    </th>  <td> -8712.8</td> \n",
       "</tr>\n",
       "<tr>\n",
       "  <th>converged:</th>           <td>True</td>       <th>  LL-Null:           </th>  <td> -8711.2</td> \n",
       "</tr>\n",
       "<tr>\n",
       "  <th> </th>                      <td> </td>        <th>  LLR p-value:       </th>   <td> 1.000</td>  \n",
       "</tr>\n",
       "</table>\n",
       "<table class=\"simpletable\">\n",
       "<tr>\n",
       "             <td></td>               <th>coef</th>     <th>std err</th>      <th>z</th>      <th>P>|z|</th>  <th>[0.025</th>    <th>0.975]</th>  \n",
       "</tr>\n",
       "<tr>\n",
       "  <th>7:00 - 9:59 a.m.</th>       <td>   -0.6272</td> <td>    0.067</td> <td>   -9.423</td> <td> 0.000</td> <td>   -0.758</td> <td>   -0.497</td>\n",
       "</tr>\n",
       "<tr>\n",
       "  <th>10:00 a.m. - 3:59 p.m.</th> <td>   -0.3960</td> <td>    0.048</td> <td>   -8.258</td> <td> 0.000</td> <td>   -0.490</td> <td>   -0.302</td>\n",
       "</tr>\n",
       "<tr>\n",
       "  <th>4:00 - 6:59 p.m.</th>       <td>   -0.5656</td> <td>    0.060</td> <td>   -9.383</td> <td> 0.000</td> <td>   -0.684</td> <td>   -0.447</td>\n",
       "</tr>\n",
       "<tr>\n",
       "  <th>Monday - Friday</th>        <td>   -0.3434</td> <td>    0.041</td> <td>   -8.420</td> <td> 0.000</td> <td>   -0.423</td> <td>   -0.263</td>\n",
       "</tr>\n",
       "<tr>\n",
       "  <th>Light rain</th>             <td>   -0.0564</td> <td>    0.063</td> <td>   -0.900</td> <td> 0.368</td> <td>   -0.179</td> <td>    0.066</td>\n",
       "</tr>\n",
       "<tr>\n",
       "  <th>Heavy rain</th>             <td>   -0.5154</td> <td>    0.161</td> <td>   -3.202</td> <td> 0.001</td> <td>   -0.831</td> <td>   -0.200</td>\n",
       "</tr>\n",
       "<tr>\n",
       "  <th>50 km/h</th>                <td>   -0.6233</td> <td>    0.049</td> <td>  -12.781</td> <td> 0.000</td> <td>   -0.719</td> <td>   -0.528</td>\n",
       "</tr>\n",
       "<tr>\n",
       "  <th>Severe Congestion</th>      <td>   -0.1200</td> <td>    0.058</td> <td>   -2.056</td> <td> 0.040</td> <td>   -0.234</td> <td>   -0.006</td>\n",
       "</tr>\n",
       "<tr>\n",
       "  <th>Moderate Congestion</th>    <td>   -0.3827</td> <td>    0.048</td> <td>   -7.949</td> <td> 0.000</td> <td>   -0.477</td> <td>   -0.288</td>\n",
       "</tr>\n",
       "<tr>\n",
       "  <th>Traffic Signal</th>         <td>   -0.0838</td> <td>    0.110</td> <td>   -0.759</td> <td> 0.448</td> <td>   -0.300</td> <td>    0.133</td>\n",
       "</tr>\n",
       "<tr>\n",
       "  <th>Other Control Types</th>    <td>   -0.2856</td> <td>    0.058</td> <td>   -4.964</td> <td> 0.000</td> <td>   -0.398</td> <td>   -0.173</td>\n",
       "</tr>\n",
       "<tr>\n",
       "  <th>One-way Carriageway</th>    <td>   -0.3676</td> <td>    0.049</td> <td>   -7.482</td> <td> 0.000</td> <td>   -0.464</td> <td>   -0.271</td>\n",
       "</tr>\n",
       "<tr>\n",
       "  <th>Two-way Carriageway</th>    <td>   -0.0964</td> <td>    0.052</td> <td>   -1.851</td> <td> 0.064</td> <td>   -0.199</td> <td>    0.006</td>\n",
       "</tr>\n",
       "<tr>\n",
       "  <th>Under 15</th>               <td>   -1.3355</td> <td>    0.130</td> <td>  -10.293</td> <td> 0.000</td> <td>   -1.590</td> <td>   -1.081</td>\n",
       "</tr>\n",
       "<tr>\n",
       "  <th>Above 65</th>               <td>    0.7306</td> <td>    0.057</td> <td>   12.905</td> <td> 0.000</td> <td>    0.620</td> <td>    0.842</td>\n",
       "</tr>\n",
       "<tr>\n",
       "  <th>Male</th>                   <td>   -0.1684</td> <td>    0.044</td> <td>   -3.870</td> <td> 0.000</td> <td>   -0.254</td> <td>   -0.083</td>\n",
       "</tr>\n",
       "<tr>\n",
       "  <th>YEAR_2012</th>              <td>   -0.6830</td> <td>    0.061</td> <td>  -11.248</td> <td> 0.000</td> <td>   -0.802</td> <td>   -0.564</td>\n",
       "</tr>\n",
       "<tr>\n",
       "  <th>YEAR_2013</th>              <td>   -0.5873</td> <td>    0.059</td> <td>  -10.008</td> <td> 0.000</td> <td>   -0.702</td> <td>   -0.472</td>\n",
       "</tr>\n",
       "<tr>\n",
       "  <th>YEAR_2014</th>              <td>   -0.5472</td> <td>    0.059</td> <td>   -9.214</td> <td> 0.000</td> <td>   -0.664</td> <td>   -0.431</td>\n",
       "</tr>\n",
       "<tr>\n",
       "  <th>YEAR_2015</th>              <td>   -0.4446</td> <td>    0.057</td> <td>   -7.815</td> <td> 0.000</td> <td>   -0.556</td> <td>   -0.333</td>\n",
       "</tr>\n",
       "<tr>\n",
       "  <th>With belt or helmet</th>    <td>   -0.6855</td> <td>    0.045</td> <td>  -15.209</td> <td> 0.000</td> <td>   -0.774</td> <td>   -0.597</td>\n",
       "</tr>\n",
       "<tr>\n",
       "  <th>Front nearside</th>         <td>   -0.1511</td> <td>    0.059</td> <td>   -2.551</td> <td> 0.011</td> <td>   -0.267</td> <td>   -0.035</td>\n",
       "</tr>\n",
       "<tr>\n",
       "  <th>Standing</th>               <td>   -0.1658</td> <td>    0.057</td> <td>   -2.884</td> <td> 0.004</td> <td>   -0.278</td> <td>   -0.053</td>\n",
       "</tr>\n",
       "<tr>\n",
       "  <th>Others</th>                 <td>   -0.3919</td> <td>    0.169</td> <td>   -2.317</td> <td> 0.021</td> <td>   -0.724</td> <td>   -0.060</td>\n",
       "</tr>\n",
       "</table>"
      ],
      "text/plain": [
       "<class 'statsmodels.iolib.summary.Summary'>\n",
       "\"\"\"\n",
       "                           Logit Regression Results                           \n",
       "==============================================================================\n",
       "Dep. Variable:                 INJURY   No. Observations:                31905\n",
       "Model:                          Logit   Df Residuals:                    31881\n",
       "Method:                           MLE   Df Model:                           23\n",
       "Date:                Sat, 10 Feb 2018   Pseudo R-squ.:              -0.0001830\n",
       "Time:                        22:55:59   Log-Likelihood:                -8712.8\n",
       "converged:                       True   LL-Null:                       -8711.2\n",
       "                                        LLR p-value:                     1.000\n",
       "==========================================================================================\n",
       "                             coef    std err          z      P>|z|      [0.025      0.975]\n",
       "------------------------------------------------------------------------------------------\n",
       "7:00 - 9:59 a.m.          -0.6272      0.067     -9.423      0.000      -0.758      -0.497\n",
       "10:00 a.m. - 3:59 p.m.    -0.3960      0.048     -8.258      0.000      -0.490      -0.302\n",
       "4:00 - 6:59 p.m.          -0.5656      0.060     -9.383      0.000      -0.684      -0.447\n",
       "Monday - Friday           -0.3434      0.041     -8.420      0.000      -0.423      -0.263\n",
       "Light rain                -0.0564      0.063     -0.900      0.368      -0.179       0.066\n",
       "Heavy rain                -0.5154      0.161     -3.202      0.001      -0.831      -0.200\n",
       "50 km/h                   -0.6233      0.049    -12.781      0.000      -0.719      -0.528\n",
       "Severe Congestion         -0.1200      0.058     -2.056      0.040      -0.234      -0.006\n",
       "Moderate Congestion       -0.3827      0.048     -7.949      0.000      -0.477      -0.288\n",
       "Traffic Signal            -0.0838      0.110     -0.759      0.448      -0.300       0.133\n",
       "Other Control Types       -0.2856      0.058     -4.964      0.000      -0.398      -0.173\n",
       "One-way Carriageway       -0.3676      0.049     -7.482      0.000      -0.464      -0.271\n",
       "Two-way Carriageway       -0.0964      0.052     -1.851      0.064      -0.199       0.006\n",
       "Under 15                  -1.3355      0.130    -10.293      0.000      -1.590      -1.081\n",
       "Above 65                   0.7306      0.057     12.905      0.000       0.620       0.842\n",
       "Male                      -0.1684      0.044     -3.870      0.000      -0.254      -0.083\n",
       "YEAR_2012                 -0.6830      0.061    -11.248      0.000      -0.802      -0.564\n",
       "YEAR_2013                 -0.5873      0.059    -10.008      0.000      -0.702      -0.472\n",
       "YEAR_2014                 -0.5472      0.059     -9.214      0.000      -0.664      -0.431\n",
       "YEAR_2015                 -0.4446      0.057     -7.815      0.000      -0.556      -0.333\n",
       "With belt or helmet       -0.6855      0.045    -15.209      0.000      -0.774      -0.597\n",
       "Front nearside            -0.1511      0.059     -2.551      0.011      -0.267      -0.035\n",
       "Standing                  -0.1658      0.057     -2.884      0.004      -0.278      -0.053\n",
       "Others                    -0.3919      0.169     -2.317      0.021      -0.724      -0.060\n",
       "==========================================================================================\n",
       "\"\"\""
      ]
     },
     "execution_count": 50,
     "metadata": {},
     "output_type": "execute_result"
    }
   ],
   "source": [
    "r_passen.summary()"
   ]
  },
  {
   "cell_type": "code",
   "execution_count": 51,
   "metadata": {},
   "outputs": [
    {
     "name": "stdout",
     "output_type": "stream",
     "text": [
      "                            2.5%     97.5%  Odds Ratio\n",
      "7:00 - 9:59 a.m.        0.468741  0.608492    0.534065\n",
      "10:00 a.m. - 3:59 p.m.  0.612646  0.739343    0.673019\n",
      "4:00 - 6:59 p.m.        0.504704  0.639230    0.567998\n",
      "Monday - Friday         0.654891  0.768407    0.709382\n",
      "Light rain              0.835879  1.068672    0.945135\n",
      "Heavy rain              0.435646  0.818791    0.597246\n",
      "50 km/h                 0.487280  0.589933    0.536155\n",
      "Severe Congestion       0.791058  0.994438    0.886938\n",
      "Moderate Congestion     0.620606  0.749509    0.682019\n",
      "Traffic Signal          0.740601  1.141789    0.919571\n",
      "Other Control Types     0.671463  0.841297    0.751598\n",
      "One-way Carriageway     0.628805  0.762373    0.692376\n",
      "Two-way Carriageway     0.819954  1.005671    0.908077\n",
      "Under 15                0.203975  0.339195    0.263034\n",
      "Above 65                1.858333  2.320094    2.076417\n",
      "Male                    0.775930  0.920249    0.845014\n",
      "YEAR_2012               0.448411  0.568926    0.505087\n",
      "YEAR_2013               0.495445  0.623584    0.555834\n",
      "YEAR_2014               0.514989  0.649978    0.578560\n",
      "YEAR_2015               0.573450  0.716707    0.641089\n",
      "With belt or helmet     0.461219  0.550351    0.503818\n",
      "Front nearside          0.765456  0.965594    0.859720\n",
      "Standing                0.756996  0.948263    0.847249\n",
      "Others                  0.485034  0.941457    0.675750\n"
     ]
    }
   ],
   "source": [
    "p_passen = r_passen.params\n",
    "c_passen = r_passen.conf_int()\n",
    "c_passen['OR'] = p_passen\n",
    "c_passen.columns = ['2.5%', '97.5%', 'Odds Ratio']\n",
    "print(np.exp(c_passen))"
   ]
  },
  {
   "cell_type": "code",
   "execution_count": 52,
   "metadata": {},
   "outputs": [
    {
     "name": "stdout",
     "output_type": "stream",
     "text": [
      "Optimization terminated successfully.\n",
      "         Current function value: 0.524771\n",
      "         Iterations 5\n"
     ]
    }
   ],
   "source": [
    "#X_pedest = sm.add_constant(X_pedest)\n",
    "m_pedest = sm.Logit(y_pedest, X_pedest)\n",
    "r_pedest = m_pedest.fit()"
   ]
  },
  {
   "cell_type": "code",
   "execution_count": 53,
   "metadata": {},
   "outputs": [
    {
     "data": {
      "text/html": [
       "<table class=\"simpletable\">\n",
       "<caption>Logit Regression Results</caption>\n",
       "<tr>\n",
       "  <th>Dep. Variable:</th>      <td>INJURY</td>      <th>  No. Observations:  </th>   <td> 17450</td>  \n",
       "</tr>\n",
       "<tr>\n",
       "  <th>Model:</th>               <td>Logit</td>      <th>  Df Residuals:      </th>   <td> 17428</td>  \n",
       "</tr>\n",
       "<tr>\n",
       "  <th>Method:</th>               <td>MLE</td>       <th>  Df Model:          </th>   <td>    21</td>  \n",
       "</tr>\n",
       "<tr>\n",
       "  <th>Date:</th>          <td>Sat, 10 Feb 2018</td> <th>  Pseudo R-squ.:     </th>   <td>0.04114</td> \n",
       "</tr>\n",
       "<tr>\n",
       "  <th>Time:</th>              <td>22:56:00</td>     <th>  Log-Likelihood:    </th>  <td> -9157.3</td> \n",
       "</tr>\n",
       "<tr>\n",
       "  <th>converged:</th>           <td>True</td>       <th>  LL-Null:           </th>  <td> -9550.1</td> \n",
       "</tr>\n",
       "<tr>\n",
       "  <th> </th>                      <td> </td>        <th>  LLR p-value:       </th> <td>9.560e-153</td>\n",
       "</tr>\n",
       "</table>\n",
       "<table class=\"simpletable\">\n",
       "<tr>\n",
       "                  <td></td>                     <th>coef</th>     <th>std err</th>      <th>z</th>      <th>P>|z|</th>  <th>[0.025</th>    <th>0.975]</th>  \n",
       "</tr>\n",
       "<tr>\n",
       "  <th>7:00 - 9:59 a.m.</th>                  <td>   -0.0570</td> <td>    0.056</td> <td>   -1.011</td> <td> 0.312</td> <td>   -0.167</td> <td>    0.053</td>\n",
       "</tr>\n",
       "<tr>\n",
       "  <th>10:00 a.m. - 3:59 p.m.</th>            <td>   -0.3060</td> <td>    0.047</td> <td>   -6.557</td> <td> 0.000</td> <td>   -0.397</td> <td>   -0.215</td>\n",
       "</tr>\n",
       "<tr>\n",
       "  <th>4:00 - 6:59 p.m.</th>                  <td>   -0.3433</td> <td>    0.054</td> <td>   -6.342</td> <td> 0.000</td> <td>   -0.449</td> <td>   -0.237</td>\n",
       "</tr>\n",
       "<tr>\n",
       "  <th>Monday - Friday</th>                   <td>   -0.0506</td> <td>    0.040</td> <td>   -1.263</td> <td> 0.207</td> <td>   -0.129</td> <td>    0.028</td>\n",
       "</tr>\n",
       "<tr>\n",
       "  <th>Light rain</th>                        <td>    0.0139</td> <td>    0.061</td> <td>    0.228</td> <td> 0.820</td> <td>   -0.106</td> <td>    0.133</td>\n",
       "</tr>\n",
       "<tr>\n",
       "  <th>Heavy rain</th>                        <td>    0.1886</td> <td>    0.131</td> <td>    1.438</td> <td> 0.150</td> <td>   -0.068</td> <td>    0.446</td>\n",
       "</tr>\n",
       "<tr>\n",
       "  <th>50 km/h</th>                           <td>   -0.6500</td> <td>    0.061</td> <td>  -10.600</td> <td> 0.000</td> <td>   -0.770</td> <td>   -0.530</td>\n",
       "</tr>\n",
       "<tr>\n",
       "  <th>Severe Congestion</th>                 <td>   -0.0388</td> <td>    0.052</td> <td>   -0.746</td> <td> 0.455</td> <td>   -0.141</td> <td>    0.063</td>\n",
       "</tr>\n",
       "<tr>\n",
       "  <th>Moderate Congestion</th>               <td>   -0.1675</td> <td>    0.042</td> <td>   -3.955</td> <td> 0.000</td> <td>   -0.251</td> <td>   -0.084</td>\n",
       "</tr>\n",
       "<tr>\n",
       "  <th>Traffic Signal</th>                    <td>   -0.2278</td> <td>    0.086</td> <td>   -2.655</td> <td> 0.008</td> <td>   -0.396</td> <td>   -0.060</td>\n",
       "</tr>\n",
       "<tr>\n",
       "  <th>Other Control Types</th>               <td>   -0.1708</td> <td>    0.045</td> <td>   -3.793</td> <td> 0.000</td> <td>   -0.259</td> <td>   -0.083</td>\n",
       "</tr>\n",
       "<tr>\n",
       "  <th>One-way Carriageway</th>               <td>   -0.5180</td> <td>    0.050</td> <td>  -10.299</td> <td> 0.000</td> <td>   -0.617</td> <td>   -0.419</td>\n",
       "</tr>\n",
       "<tr>\n",
       "  <th>Two-way Carriageway</th>               <td>   -0.1444</td> <td>    0.052</td> <td>   -2.770</td> <td> 0.006</td> <td>   -0.247</td> <td>   -0.042</td>\n",
       "</tr>\n",
       "<tr>\n",
       "  <th>Under 15</th>                          <td>   -0.0666</td> <td>    0.064</td> <td>   -1.041</td> <td> 0.298</td> <td>   -0.192</td> <td>    0.059</td>\n",
       "</tr>\n",
       "<tr>\n",
       "  <th>Above 65</th>                          <td>    0.9570</td> <td>    0.043</td> <td>   22.095</td> <td> 0.000</td> <td>    0.872</td> <td>    1.042</td>\n",
       "</tr>\n",
       "<tr>\n",
       "  <th>Male</th>                              <td>   -0.1822</td> <td>    0.036</td> <td>   -5.060</td> <td> 0.000</td> <td>   -0.253</td> <td>   -0.112</td>\n",
       "</tr>\n",
       "<tr>\n",
       "  <th>YEAR_2012</th>                         <td>   -0.2194</td> <td>    0.056</td> <td>   -3.898</td> <td> 0.000</td> <td>   -0.330</td> <td>   -0.109</td>\n",
       "</tr>\n",
       "<tr>\n",
       "  <th>YEAR_2013</th>                         <td>   -0.1112</td> <td>    0.055</td> <td>   -2.003</td> <td> 0.045</td> <td>   -0.220</td> <td>   -0.002</td>\n",
       "</tr>\n",
       "<tr>\n",
       "  <th>YEAR_2014</th>                         <td>   -0.1428</td> <td>    0.056</td> <td>   -2.530</td> <td> 0.011</td> <td>   -0.253</td> <td>   -0.032</td>\n",
       "</tr>\n",
       "<tr>\n",
       "  <th>YEAR_2015</th>                         <td>   -0.0374</td> <td>    0.056</td> <td>   -0.674</td> <td> 0.501</td> <td>   -0.146</td> <td>    0.071</td>\n",
       "</tr>\n",
       "<tr>\n",
       "  <th>On controlled crossing</th>            <td>    0.4019</td> <td>    0.051</td> <td>    7.876</td> <td> 0.000</td> <td>    0.302</td> <td>    0.502</td>\n",
       "</tr>\n",
       "<tr>\n",
       "  <th>Within 15M of controlled crossing</th> <td>    0.5360</td> <td>    0.073</td> <td>    7.363</td> <td> 0.000</td> <td>    0.393</td> <td>    0.679</td>\n",
       "</tr>\n",
       "</table>"
      ],
      "text/plain": [
       "<class 'statsmodels.iolib.summary.Summary'>\n",
       "\"\"\"\n",
       "                           Logit Regression Results                           \n",
       "==============================================================================\n",
       "Dep. Variable:                 INJURY   No. Observations:                17450\n",
       "Model:                          Logit   Df Residuals:                    17428\n",
       "Method:                           MLE   Df Model:                           21\n",
       "Date:                Sat, 10 Feb 2018   Pseudo R-squ.:                 0.04114\n",
       "Time:                        22:56:00   Log-Likelihood:                -9157.3\n",
       "converged:                       True   LL-Null:                       -9550.1\n",
       "                                        LLR p-value:                9.560e-153\n",
       "=====================================================================================================\n",
       "                                        coef    std err          z      P>|z|      [0.025      0.975]\n",
       "-----------------------------------------------------------------------------------------------------\n",
       "7:00 - 9:59 a.m.                     -0.0570      0.056     -1.011      0.312      -0.167       0.053\n",
       "10:00 a.m. - 3:59 p.m.               -0.3060      0.047     -6.557      0.000      -0.397      -0.215\n",
       "4:00 - 6:59 p.m.                     -0.3433      0.054     -6.342      0.000      -0.449      -0.237\n",
       "Monday - Friday                      -0.0506      0.040     -1.263      0.207      -0.129       0.028\n",
       "Light rain                            0.0139      0.061      0.228      0.820      -0.106       0.133\n",
       "Heavy rain                            0.1886      0.131      1.438      0.150      -0.068       0.446\n",
       "50 km/h                              -0.6500      0.061    -10.600      0.000      -0.770      -0.530\n",
       "Severe Congestion                    -0.0388      0.052     -0.746      0.455      -0.141       0.063\n",
       "Moderate Congestion                  -0.1675      0.042     -3.955      0.000      -0.251      -0.084\n",
       "Traffic Signal                       -0.2278      0.086     -2.655      0.008      -0.396      -0.060\n",
       "Other Control Types                  -0.1708      0.045     -3.793      0.000      -0.259      -0.083\n",
       "One-way Carriageway                  -0.5180      0.050    -10.299      0.000      -0.617      -0.419\n",
       "Two-way Carriageway                  -0.1444      0.052     -2.770      0.006      -0.247      -0.042\n",
       "Under 15                             -0.0666      0.064     -1.041      0.298      -0.192       0.059\n",
       "Above 65                              0.9570      0.043     22.095      0.000       0.872       1.042\n",
       "Male                                 -0.1822      0.036     -5.060      0.000      -0.253      -0.112\n",
       "YEAR_2012                            -0.2194      0.056     -3.898      0.000      -0.330      -0.109\n",
       "YEAR_2013                            -0.1112      0.055     -2.003      0.045      -0.220      -0.002\n",
       "YEAR_2014                            -0.1428      0.056     -2.530      0.011      -0.253      -0.032\n",
       "YEAR_2015                            -0.0374      0.056     -0.674      0.501      -0.146       0.071\n",
       "On controlled crossing                0.4019      0.051      7.876      0.000       0.302       0.502\n",
       "Within 15M of controlled crossing     0.5360      0.073      7.363      0.000       0.393       0.679\n",
       "=====================================================================================================\n",
       "\"\"\""
      ]
     },
     "execution_count": 53,
     "metadata": {},
     "output_type": "execute_result"
    }
   ],
   "source": [
    "r_pedest.summary()"
   ]
  },
  {
   "cell_type": "code",
   "execution_count": 54,
   "metadata": {},
   "outputs": [
    {
     "name": "stdout",
     "output_type": "stream",
     "text": [
      "                                       2.5%     97.5%  Odds Ratio\n",
      "7:00 - 9:59 a.m.                   0.845872  1.054907    0.944625\n",
      "10:00 a.m. - 3:59 p.m.             0.672036  0.806926    0.736399\n",
      "4:00 - 6:59 p.m.                   0.637973  0.788813    0.709395\n",
      "Monday - Friday                    0.878949  1.028315    0.950703\n",
      "Light rain                         0.899819  1.142621    1.013978\n",
      "Heavy rain                         0.933831  1.561499    1.207549\n",
      "50 km/h                            0.462927  0.588713    0.522045\n",
      "Severe Congestion                  0.868847  1.065075    0.961971\n",
      "Moderate Congestion                0.778409  0.918975    0.845777\n",
      "Traffic Signal                     0.673050  0.942121    0.796300\n",
      "Other Control Types                0.771804  0.920788    0.843011\n",
      "One-way Carriageway                0.539796  0.657437    0.595720\n",
      "Two-way Carriageway                0.781510  0.958647    0.865559\n",
      "Under 15                           0.825336  1.060566    0.935587\n",
      "Above 65                           2.391849  2.834440    2.603758\n",
      "Male                               0.776606  0.894356    0.833404\n",
      "YEAR_2012                          0.719143  0.896651    0.803007\n",
      "YEAR_2013                          0.802596  0.997589    0.894796\n",
      "YEAR_2014                          0.776152  0.968345    0.866939\n",
      "YEAR_2015                          0.864005  1.074010    0.963301\n",
      "On controlled crossing             1.352395  1.651833    1.494634\n",
      "Within 15M of controlled crossing  1.481842  1.971178    1.709086\n"
     ]
    }
   ],
   "source": [
    "p_pedest = r_pedest.params\n",
    "c_pedest = r_pedest.conf_int()\n",
    "c_pedest['OR'] = p_pedest\n",
    "c_pedest.columns = ['2.5%', '97.5%', 'Odds Ratio']\n",
    "print(np.exp(c_pedest))"
   ]
  },
  {
   "cell_type": "code",
   "execution_count": null,
   "metadata": {},
   "outputs": [],
   "source": []
  },
  {
   "cell_type": "code",
   "execution_count": null,
   "metadata": {},
   "outputs": [],
   "source": []
  }
 ],
 "metadata": {
  "kernelspec": {
   "display_name": "Python 3",
   "language": "python",
   "name": "python3"
  },
  "language_info": {
   "codemirror_mode": {
    "name": "ipython",
    "version": 3
   },
   "file_extension": ".py",
   "mimetype": "text/x-python",
   "name": "python",
   "nbconvert_exporter": "python",
   "pygments_lexer": "ipython3",
   "version": "3.5.2"
  }
 },
 "nbformat": 4,
 "nbformat_minor": 2
}
